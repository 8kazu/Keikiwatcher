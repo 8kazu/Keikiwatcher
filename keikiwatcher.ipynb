{
 "cells": [
  {
   "cell_type": "code",
   "execution_count": 1,
   "metadata": {},
   "outputs": [],
   "source": [
    "import pandas as pd\n",
    "import jaconv\n",
    "from bs4 import BeautifulSoup \n",
    "from urllib import request\n",
    "from urllib.error import HTTPError\n",
    "import matplotlib.pyplot as plt\n",
    "import numpy as np\n",
    "import pickle\n",
    "import datetime\n",
    "\n",
    "# Change fontype of pyplot\n",
    "import matplotlib.font_manager\n",
    "#print([f.name for f in matplotlib.font_manager.fontManager.ttflist])\n",
    "plt.rcParams['font.family'] = 'MS Gothic'\n",
    "\n",
    "# If you want to downlod the most recent data then you should not skip this.\n",
    "skip = 0"
   ]
  },
  {
   "cell_type": "markdown",
   "metadata": {},
   "source": [
    "Define urls"
   ]
  },
  {
   "cell_type": "code",
   "execution_count": 2,
   "metadata": {},
   "outputs": [],
   "source": [
    "# url headers\n",
    "url_head = \"https://www5.cao.go.jp/keizai3/\"\n",
    "url_new = \"https://www5.cao.go.jp/keizai3/watcher_index.html\"\n",
    "url_old = \"https://www5.cao.go.jp/keizai3/kako_watcher.html\"\n",
    "# \n",
    "kigou2value = {\"◎\":5,\"○\":4,\"□\":3,\"▲\":2,\"×\":1}"
   ]
  },
  {
   "cell_type": "markdown",
   "metadata": {},
   "source": [
    "Define functions"
   ]
  },
  {
   "cell_type": "code",
   "execution_count": 3,
   "metadata": {},
   "outputs": [],
   "source": [
    "def get_all_url(target):\n",
    "    '''\n",
    "    Description:webページ内の全urlを取得する関数\n",
    "    入力：各調査が一覧になったページ\n",
    "    出力：各調査のcsvがあるurl一覧\n",
    "    '''\n",
    "    data = request.urlopen(target).read()\n",
    "    soup = BeautifulSoup(data, 'html.parser')\n",
    "    tmp_links = soup.find_all(\"a\")\n",
    "    link = []\n",
    "    for a in tmp_links:\n",
    "        try:\n",
    "            if \"/menu.html\" in a.attrs['href']:\n",
    "                link.append(a.attrs['href'])\n",
    "        except:\n",
    "            pass\n",
    "    return link\n",
    "\n",
    "\n",
    "def extract_data(df_in):\n",
    "    '''\n",
    "    Description:各調査のcsvがあるurlからデータフレームを直接作る関数\n",
    "    入力：各調査のcsvに直接アクセスできるurl\n",
    "    出力：データフレーム\n",
    "    '''  \n",
    "    han_numbers = [str(_) for _ in range(10)]\n",
    "    kigou_list = [\"◎\",\"○\",\"□\",\"▲\",\"×\"]\n",
    "    region_list = [\"北海道\",\"東北\",\"北関東\",\"南関東\",\"甲信越\",\n",
    "                   \"東海\",\"北陸\",\"近畿\",\"中国\",\"四国\",\"九州\",\"沖縄\"]\n",
    "    \n",
    "    place = 6\n",
    "    sakiyuki = 0\n",
    "    for l in range(len(df_in)):\n",
    "        if ('景気の現状判断' in str(df_in.iloc[l,:])):\n",
    "            place = l\n",
    "            sakiyuki = 0\n",
    "            break\n",
    "            \n",
    "        if (\"景気の先行き判断\" in str(df_in.iloc[l,:])):\n",
    "            place = l\n",
    "            sakiyuki = 1\n",
    "            break\n",
    "    \n",
    "    col_names = df_in.iloc[place,:]\n",
    "    use_col_names = dict()\n",
    "    for l in range(len(col_names)):\n",
    "        use_col_names.update({col_names[l]:l})\n",
    "        \n",
    "    out_data = []\n",
    "    \n",
    "    # Used to determine which regions\n",
    "    region = \"\"\n",
    "\n",
    "    # Loop through all records\n",
    "    for i in range(len(df_in)):\n",
    "        line = df_in.iloc[i,0]\n",
    "\n",
    "        # Update line headers\n",
    "        if line == line:\n",
    "            new_region = 0\n",
    "            for r in region_list:\n",
    "                if r in line:\n",
    "                    new_region = 1\n",
    "                    break\n",
    "                   \n",
    "            if new_region == 1:\n",
    "                region = r\n",
    "        \n",
    "\n",
    "        line = df_in.iloc[i,2]\n",
    "        if line == line:\n",
    "            for kigou in kigou_list:\n",
    "                if kigou in line:\n",
    "                    if sakiyuki == 0:\n",
    "                    \n",
    "                        if \"判断の理由\" in use_col_names:\n",
    "\n",
    "                            out_data.append([region,\n",
    "                                             df_in.iloc[i,use_col_names[\"景気の現状判断\"]],\n",
    "                                             df_in.iloc[i,use_col_names[\"業種・職種\"]],\n",
    "                                             df_in.iloc[i,use_col_names[\"判断の理由\"]],\n",
    "                                             df_in.iloc[i,use_col_names[\"追加説明及び具体的状況の説明\"]]])\n",
    "                        else:\n",
    "                            out_data.append([region,\n",
    "                                             df_in.iloc[i,use_col_names[\"景気の現状判断\"]],\n",
    "                                             df_in.iloc[i,use_col_names[\"業種・職種\"]],\n",
    "                                             \"\",\n",
    "                                             df_in.iloc[i,use_col_names[\"追加説明及び具体的状況の説明\"]]])\n",
    "                            \n",
    "                    else:\n",
    "                        if \"判断の理由\" in use_col_names:\n",
    "\n",
    "                            out_data.append([region,\n",
    "                                             df_in.iloc[i,use_col_names[\"景気の先行き判断\"]],\n",
    "                                             df_in.iloc[i,use_col_names[\"業種・職種\"]],\n",
    "                                             df_in.iloc[i,use_col_names[\"判断の理由\"]],\n",
    "                                             df_in.iloc[i,use_col_names[\"景気の先行きに対する判断理由\"]]])\n",
    "                        else:\n",
    "                            out_data.append([region,df_in.iloc[i,use_col_names[\"景気の先行き判断\"]],\n",
    "                                             df_in.iloc[i,use_col_names[\"業種・職種\"]],\n",
    "                                             \"\",\n",
    "                                             df_in.iloc[i,use_col_names[\"景気の先行きに対する判断理由\"]]])     \n",
    "                        \n",
    "    df_out = pd.DataFrame(out_data)\n",
    "    df_out.columns = [\"region\",\"symbol\",\"industry\",\"topic\",\"text\"]\n",
    "    \n",
    "    return(df_out)"
   ]
  },
  {
   "cell_type": "code",
   "execution_count": 4,
   "metadata": {},
   "outputs": [],
   "source": [
    "# retrieve all urls\n",
    "all_urls = get_all_url(url_new)\n",
    "all_urls.extend(get_all_url(url_old))\n",
    "all_urls.sort()"
   ]
  },
  {
   "cell_type": "code",
   "execution_count": 8,
   "metadata": {},
   "outputs": [
    {
     "name": "stdout",
     "output_type": "stream",
     "text": [
      "0\n",
      "1\n"
     ]
    },
    {
     "name": "stderr",
     "output_type": "stream",
     "text": [
      "/var/folders/xn/9jbxxjcj63b3xbh21qlt_pcr0000gn/T/ipykernel_83080/935186160.py:47: FutureWarning: Series.__getitem__ treating keys as positions is deprecated. In a future version, integer keys will always be treated as labels (consistent with DataFrame behavior). To access a value by position, use `ser.iloc[pos]`\n",
      "  use_col_names.update({col_names[l]:l})\n",
      "/var/folders/xn/9jbxxjcj63b3xbh21qlt_pcr0000gn/T/ipykernel_83080/935186160.py:47: FutureWarning: Series.__getitem__ treating keys as positions is deprecated. In a future version, integer keys will always be treated as labels (consistent with DataFrame behavior). To access a value by position, use `ser.iloc[pos]`\n",
      "  use_col_names.update({col_names[l]:l})\n"
     ]
    },
    {
     "name": "stdout",
     "output_type": "stream",
     "text": [
      "2\n",
      "3\n",
      "4\n",
      "5\n"
     ]
    },
    {
     "name": "stderr",
     "output_type": "stream",
     "text": [
      "/var/folders/xn/9jbxxjcj63b3xbh21qlt_pcr0000gn/T/ipykernel_83080/935186160.py:47: FutureWarning: Series.__getitem__ treating keys as positions is deprecated. In a future version, integer keys will always be treated as labels (consistent with DataFrame behavior). To access a value by position, use `ser.iloc[pos]`\n",
      "  use_col_names.update({col_names[l]:l})\n",
      "/var/folders/xn/9jbxxjcj63b3xbh21qlt_pcr0000gn/T/ipykernel_83080/935186160.py:47: FutureWarning: Series.__getitem__ treating keys as positions is deprecated. In a future version, integer keys will always be treated as labels (consistent with DataFrame behavior). To access a value by position, use `ser.iloc[pos]`\n",
      "  use_col_names.update({col_names[l]:l})\n"
     ]
    },
    {
     "name": "stdout",
     "output_type": "stream",
     "text": [
      "6\n",
      "7\n",
      "8\n",
      "9\n"
     ]
    },
    {
     "name": "stderr",
     "output_type": "stream",
     "text": [
      "/var/folders/xn/9jbxxjcj63b3xbh21qlt_pcr0000gn/T/ipykernel_83080/935186160.py:47: FutureWarning: Series.__getitem__ treating keys as positions is deprecated. In a future version, integer keys will always be treated as labels (consistent with DataFrame behavior). To access a value by position, use `ser.iloc[pos]`\n",
      "  use_col_names.update({col_names[l]:l})\n",
      "/var/folders/xn/9jbxxjcj63b3xbh21qlt_pcr0000gn/T/ipykernel_83080/935186160.py:47: FutureWarning: Series.__getitem__ treating keys as positions is deprecated. In a future version, integer keys will always be treated as labels (consistent with DataFrame behavior). To access a value by position, use `ser.iloc[pos]`\n",
      "  use_col_names.update({col_names[l]:l})\n"
     ]
    },
    {
     "name": "stdout",
     "output_type": "stream",
     "text": [
      "10\n"
     ]
    },
    {
     "name": "stderr",
     "output_type": "stream",
     "text": [
      "/var/folders/xn/9jbxxjcj63b3xbh21qlt_pcr0000gn/T/ipykernel_83080/935186160.py:47: FutureWarning: Series.__getitem__ treating keys as positions is deprecated. In a future version, integer keys will always be treated as labels (consistent with DataFrame behavior). To access a value by position, use `ser.iloc[pos]`\n",
      "  use_col_names.update({col_names[l]:l})\n",
      "/var/folders/xn/9jbxxjcj63b3xbh21qlt_pcr0000gn/T/ipykernel_83080/935186160.py:47: FutureWarning: Series.__getitem__ treating keys as positions is deprecated. In a future version, integer keys will always be treated as labels (consistent with DataFrame behavior). To access a value by position, use `ser.iloc[pos]`\n",
      "  use_col_names.update({col_names[l]:l})\n"
     ]
    },
    {
     "name": "stdout",
     "output_type": "stream",
     "text": [
      "11\n"
     ]
    },
    {
     "name": "stderr",
     "output_type": "stream",
     "text": [
      "/var/folders/xn/9jbxxjcj63b3xbh21qlt_pcr0000gn/T/ipykernel_83080/935186160.py:47: FutureWarning: Series.__getitem__ treating keys as positions is deprecated. In a future version, integer keys will always be treated as labels (consistent with DataFrame behavior). To access a value by position, use `ser.iloc[pos]`\n",
      "  use_col_names.update({col_names[l]:l})\n",
      "/var/folders/xn/9jbxxjcj63b3xbh21qlt_pcr0000gn/T/ipykernel_83080/935186160.py:47: FutureWarning: Series.__getitem__ treating keys as positions is deprecated. In a future version, integer keys will always be treated as labels (consistent with DataFrame behavior). To access a value by position, use `ser.iloc[pos]`\n",
      "  use_col_names.update({col_names[l]:l})\n"
     ]
    },
    {
     "name": "stdout",
     "output_type": "stream",
     "text": [
      "12\n"
     ]
    },
    {
     "name": "stderr",
     "output_type": "stream",
     "text": [
      "/var/folders/xn/9jbxxjcj63b3xbh21qlt_pcr0000gn/T/ipykernel_83080/935186160.py:47: FutureWarning: Series.__getitem__ treating keys as positions is deprecated. In a future version, integer keys will always be treated as labels (consistent with DataFrame behavior). To access a value by position, use `ser.iloc[pos]`\n",
      "  use_col_names.update({col_names[l]:l})\n",
      "/var/folders/xn/9jbxxjcj63b3xbh21qlt_pcr0000gn/T/ipykernel_83080/935186160.py:47: FutureWarning: Series.__getitem__ treating keys as positions is deprecated. In a future version, integer keys will always be treated as labels (consistent with DataFrame behavior). To access a value by position, use `ser.iloc[pos]`\n",
      "  use_col_names.update({col_names[l]:l})\n"
     ]
    },
    {
     "name": "stdout",
     "output_type": "stream",
     "text": [
      "13\n"
     ]
    },
    {
     "name": "stderr",
     "output_type": "stream",
     "text": [
      "/var/folders/xn/9jbxxjcj63b3xbh21qlt_pcr0000gn/T/ipykernel_83080/935186160.py:47: FutureWarning: Series.__getitem__ treating keys as positions is deprecated. In a future version, integer keys will always be treated as labels (consistent with DataFrame behavior). To access a value by position, use `ser.iloc[pos]`\n",
      "  use_col_names.update({col_names[l]:l})\n",
      "/var/folders/xn/9jbxxjcj63b3xbh21qlt_pcr0000gn/T/ipykernel_83080/935186160.py:47: FutureWarning: Series.__getitem__ treating keys as positions is deprecated. In a future version, integer keys will always be treated as labels (consistent with DataFrame behavior). To access a value by position, use `ser.iloc[pos]`\n",
      "  use_col_names.update({col_names[l]:l})\n"
     ]
    },
    {
     "name": "stdout",
     "output_type": "stream",
     "text": [
      "14\n"
     ]
    },
    {
     "name": "stderr",
     "output_type": "stream",
     "text": [
      "/var/folders/xn/9jbxxjcj63b3xbh21qlt_pcr0000gn/T/ipykernel_83080/935186160.py:47: FutureWarning: Series.__getitem__ treating keys as positions is deprecated. In a future version, integer keys will always be treated as labels (consistent with DataFrame behavior). To access a value by position, use `ser.iloc[pos]`\n",
      "  use_col_names.update({col_names[l]:l})\n",
      "/var/folders/xn/9jbxxjcj63b3xbh21qlt_pcr0000gn/T/ipykernel_83080/935186160.py:47: FutureWarning: Series.__getitem__ treating keys as positions is deprecated. In a future version, integer keys will always be treated as labels (consistent with DataFrame behavior). To access a value by position, use `ser.iloc[pos]`\n",
      "  use_col_names.update({col_names[l]:l})\n"
     ]
    },
    {
     "name": "stdout",
     "output_type": "stream",
     "text": [
      "15\n"
     ]
    },
    {
     "name": "stderr",
     "output_type": "stream",
     "text": [
      "/var/folders/xn/9jbxxjcj63b3xbh21qlt_pcr0000gn/T/ipykernel_83080/935186160.py:47: FutureWarning: Series.__getitem__ treating keys as positions is deprecated. In a future version, integer keys will always be treated as labels (consistent with DataFrame behavior). To access a value by position, use `ser.iloc[pos]`\n",
      "  use_col_names.update({col_names[l]:l})\n",
      "/var/folders/xn/9jbxxjcj63b3xbh21qlt_pcr0000gn/T/ipykernel_83080/935186160.py:47: FutureWarning: Series.__getitem__ treating keys as positions is deprecated. In a future version, integer keys will always be treated as labels (consistent with DataFrame behavior). To access a value by position, use `ser.iloc[pos]`\n",
      "  use_col_names.update({col_names[l]:l})\n"
     ]
    },
    {
     "name": "stdout",
     "output_type": "stream",
     "text": [
      "16\n"
     ]
    },
    {
     "name": "stderr",
     "output_type": "stream",
     "text": [
      "/var/folders/xn/9jbxxjcj63b3xbh21qlt_pcr0000gn/T/ipykernel_83080/935186160.py:47: FutureWarning: Series.__getitem__ treating keys as positions is deprecated. In a future version, integer keys will always be treated as labels (consistent with DataFrame behavior). To access a value by position, use `ser.iloc[pos]`\n",
      "  use_col_names.update({col_names[l]:l})\n",
      "/var/folders/xn/9jbxxjcj63b3xbh21qlt_pcr0000gn/T/ipykernel_83080/935186160.py:47: FutureWarning: Series.__getitem__ treating keys as positions is deprecated. In a future version, integer keys will always be treated as labels (consistent with DataFrame behavior). To access a value by position, use `ser.iloc[pos]`\n",
      "  use_col_names.update({col_names[l]:l})\n"
     ]
    },
    {
     "name": "stdout",
     "output_type": "stream",
     "text": [
      "17\n"
     ]
    },
    {
     "name": "stderr",
     "output_type": "stream",
     "text": [
      "/var/folders/xn/9jbxxjcj63b3xbh21qlt_pcr0000gn/T/ipykernel_83080/935186160.py:47: FutureWarning: Series.__getitem__ treating keys as positions is deprecated. In a future version, integer keys will always be treated as labels (consistent with DataFrame behavior). To access a value by position, use `ser.iloc[pos]`\n",
      "  use_col_names.update({col_names[l]:l})\n",
      "/var/folders/xn/9jbxxjcj63b3xbh21qlt_pcr0000gn/T/ipykernel_83080/935186160.py:47: FutureWarning: Series.__getitem__ treating keys as positions is deprecated. In a future version, integer keys will always be treated as labels (consistent with DataFrame behavior). To access a value by position, use `ser.iloc[pos]`\n",
      "  use_col_names.update({col_names[l]:l})\n"
     ]
    },
    {
     "name": "stdout",
     "output_type": "stream",
     "text": [
      "18\n"
     ]
    },
    {
     "name": "stderr",
     "output_type": "stream",
     "text": [
      "/var/folders/xn/9jbxxjcj63b3xbh21qlt_pcr0000gn/T/ipykernel_83080/935186160.py:47: FutureWarning: Series.__getitem__ treating keys as positions is deprecated. In a future version, integer keys will always be treated as labels (consistent with DataFrame behavior). To access a value by position, use `ser.iloc[pos]`\n",
      "  use_col_names.update({col_names[l]:l})\n",
      "/var/folders/xn/9jbxxjcj63b3xbh21qlt_pcr0000gn/T/ipykernel_83080/935186160.py:47: FutureWarning: Series.__getitem__ treating keys as positions is deprecated. In a future version, integer keys will always be treated as labels (consistent with DataFrame behavior). To access a value by position, use `ser.iloc[pos]`\n",
      "  use_col_names.update({col_names[l]:l})\n"
     ]
    },
    {
     "name": "stdout",
     "output_type": "stream",
     "text": [
      "19\n"
     ]
    },
    {
     "name": "stderr",
     "output_type": "stream",
     "text": [
      "/var/folders/xn/9jbxxjcj63b3xbh21qlt_pcr0000gn/T/ipykernel_83080/935186160.py:47: FutureWarning: Series.__getitem__ treating keys as positions is deprecated. In a future version, integer keys will always be treated as labels (consistent with DataFrame behavior). To access a value by position, use `ser.iloc[pos]`\n",
      "  use_col_names.update({col_names[l]:l})\n",
      "/var/folders/xn/9jbxxjcj63b3xbh21qlt_pcr0000gn/T/ipykernel_83080/935186160.py:47: FutureWarning: Series.__getitem__ treating keys as positions is deprecated. In a future version, integer keys will always be treated as labels (consistent with DataFrame behavior). To access a value by position, use `ser.iloc[pos]`\n",
      "  use_col_names.update({col_names[l]:l})\n"
     ]
    },
    {
     "name": "stdout",
     "output_type": "stream",
     "text": [
      "20\n"
     ]
    },
    {
     "name": "stderr",
     "output_type": "stream",
     "text": [
      "/var/folders/xn/9jbxxjcj63b3xbh21qlt_pcr0000gn/T/ipykernel_83080/935186160.py:47: FutureWarning: Series.__getitem__ treating keys as positions is deprecated. In a future version, integer keys will always be treated as labels (consistent with DataFrame behavior). To access a value by position, use `ser.iloc[pos]`\n",
      "  use_col_names.update({col_names[l]:l})\n",
      "/var/folders/xn/9jbxxjcj63b3xbh21qlt_pcr0000gn/T/ipykernel_83080/935186160.py:47: FutureWarning: Series.__getitem__ treating keys as positions is deprecated. In a future version, integer keys will always be treated as labels (consistent with DataFrame behavior). To access a value by position, use `ser.iloc[pos]`\n",
      "  use_col_names.update({col_names[l]:l})\n"
     ]
    },
    {
     "name": "stdout",
     "output_type": "stream",
     "text": [
      "21\n"
     ]
    },
    {
     "name": "stderr",
     "output_type": "stream",
     "text": [
      "/var/folders/xn/9jbxxjcj63b3xbh21qlt_pcr0000gn/T/ipykernel_83080/935186160.py:47: FutureWarning: Series.__getitem__ treating keys as positions is deprecated. In a future version, integer keys will always be treated as labels (consistent with DataFrame behavior). To access a value by position, use `ser.iloc[pos]`\n",
      "  use_col_names.update({col_names[l]:l})\n",
      "/var/folders/xn/9jbxxjcj63b3xbh21qlt_pcr0000gn/T/ipykernel_83080/935186160.py:47: FutureWarning: Series.__getitem__ treating keys as positions is deprecated. In a future version, integer keys will always be treated as labels (consistent with DataFrame behavior). To access a value by position, use `ser.iloc[pos]`\n",
      "  use_col_names.update({col_names[l]:l})\n"
     ]
    },
    {
     "name": "stdout",
     "output_type": "stream",
     "text": [
      "22\n"
     ]
    },
    {
     "name": "stderr",
     "output_type": "stream",
     "text": [
      "/var/folders/xn/9jbxxjcj63b3xbh21qlt_pcr0000gn/T/ipykernel_83080/935186160.py:47: FutureWarning: Series.__getitem__ treating keys as positions is deprecated. In a future version, integer keys will always be treated as labels (consistent with DataFrame behavior). To access a value by position, use `ser.iloc[pos]`\n",
      "  use_col_names.update({col_names[l]:l})\n",
      "/var/folders/xn/9jbxxjcj63b3xbh21qlt_pcr0000gn/T/ipykernel_83080/935186160.py:47: FutureWarning: Series.__getitem__ treating keys as positions is deprecated. In a future version, integer keys will always be treated as labels (consistent with DataFrame behavior). To access a value by position, use `ser.iloc[pos]`\n",
      "  use_col_names.update({col_names[l]:l})\n"
     ]
    },
    {
     "name": "stdout",
     "output_type": "stream",
     "text": [
      "23\n"
     ]
    },
    {
     "name": "stderr",
     "output_type": "stream",
     "text": [
      "/var/folders/xn/9jbxxjcj63b3xbh21qlt_pcr0000gn/T/ipykernel_83080/935186160.py:47: FutureWarning: Series.__getitem__ treating keys as positions is deprecated. In a future version, integer keys will always be treated as labels (consistent with DataFrame behavior). To access a value by position, use `ser.iloc[pos]`\n",
      "  use_col_names.update({col_names[l]:l})\n",
      "/var/folders/xn/9jbxxjcj63b3xbh21qlt_pcr0000gn/T/ipykernel_83080/935186160.py:47: FutureWarning: Series.__getitem__ treating keys as positions is deprecated. In a future version, integer keys will always be treated as labels (consistent with DataFrame behavior). To access a value by position, use `ser.iloc[pos]`\n",
      "  use_col_names.update({col_names[l]:l})\n"
     ]
    },
    {
     "name": "stdout",
     "output_type": "stream",
     "text": [
      "24\n"
     ]
    },
    {
     "name": "stderr",
     "output_type": "stream",
     "text": [
      "/var/folders/xn/9jbxxjcj63b3xbh21qlt_pcr0000gn/T/ipykernel_83080/935186160.py:47: FutureWarning: Series.__getitem__ treating keys as positions is deprecated. In a future version, integer keys will always be treated as labels (consistent with DataFrame behavior). To access a value by position, use `ser.iloc[pos]`\n",
      "  use_col_names.update({col_names[l]:l})\n"
     ]
    },
    {
     "name": "stdout",
     "output_type": "stream",
     "text": [
      "25\n",
      "26\n",
      "27\n",
      "28\n",
      "29\n",
      "30\n",
      "31\n",
      "32\n",
      "33\n",
      "34\n",
      "35\n",
      "36\n",
      "37\n",
      "38\n",
      "39\n",
      "40\n",
      "41\n",
      "42\n",
      "43\n",
      "44\n",
      "45\n",
      "46\n",
      "47\n",
      "48\n",
      "49\n",
      "50\n",
      "51\n",
      "52\n",
      "53\n",
      "54\n",
      "55\n",
      "56\n",
      "57\n"
     ]
    },
    {
     "name": "stderr",
     "output_type": "stream",
     "text": [
      "/var/folders/xn/9jbxxjcj63b3xbh21qlt_pcr0000gn/T/ipykernel_83080/935186160.py:47: FutureWarning: Series.__getitem__ treating keys as positions is deprecated. In a future version, integer keys will always be treated as labels (consistent with DataFrame behavior). To access a value by position, use `ser.iloc[pos]`\n",
      "  use_col_names.update({col_names[l]:l})\n",
      "/var/folders/xn/9jbxxjcj63b3xbh21qlt_pcr0000gn/T/ipykernel_83080/935186160.py:47: FutureWarning: Series.__getitem__ treating keys as positions is deprecated. In a future version, integer keys will always be treated as labels (consistent with DataFrame behavior). To access a value by position, use `ser.iloc[pos]`\n",
      "  use_col_names.update({col_names[l]:l})\n"
     ]
    },
    {
     "name": "stdout",
     "output_type": "stream",
     "text": [
      "58\n"
     ]
    },
    {
     "name": "stderr",
     "output_type": "stream",
     "text": [
      "/var/folders/xn/9jbxxjcj63b3xbh21qlt_pcr0000gn/T/ipykernel_83080/935186160.py:47: FutureWarning: Series.__getitem__ treating keys as positions is deprecated. In a future version, integer keys will always be treated as labels (consistent with DataFrame behavior). To access a value by position, use `ser.iloc[pos]`\n",
      "  use_col_names.update({col_names[l]:l})\n",
      "/var/folders/xn/9jbxxjcj63b3xbh21qlt_pcr0000gn/T/ipykernel_83080/935186160.py:47: FutureWarning: Series.__getitem__ treating keys as positions is deprecated. In a future version, integer keys will always be treated as labels (consistent with DataFrame behavior). To access a value by position, use `ser.iloc[pos]`\n",
      "  use_col_names.update({col_names[l]:l})\n"
     ]
    },
    {
     "name": "stdout",
     "output_type": "stream",
     "text": [
      "59\n"
     ]
    },
    {
     "name": "stderr",
     "output_type": "stream",
     "text": [
      "/var/folders/xn/9jbxxjcj63b3xbh21qlt_pcr0000gn/T/ipykernel_83080/935186160.py:47: FutureWarning: Series.__getitem__ treating keys as positions is deprecated. In a future version, integer keys will always be treated as labels (consistent with DataFrame behavior). To access a value by position, use `ser.iloc[pos]`\n",
      "  use_col_names.update({col_names[l]:l})\n",
      "/var/folders/xn/9jbxxjcj63b3xbh21qlt_pcr0000gn/T/ipykernel_83080/935186160.py:47: FutureWarning: Series.__getitem__ treating keys as positions is deprecated. In a future version, integer keys will always be treated as labels (consistent with DataFrame behavior). To access a value by position, use `ser.iloc[pos]`\n",
      "  use_col_names.update({col_names[l]:l})\n"
     ]
    },
    {
     "name": "stdout",
     "output_type": "stream",
     "text": [
      "60\n"
     ]
    },
    {
     "name": "stderr",
     "output_type": "stream",
     "text": [
      "/var/folders/xn/9jbxxjcj63b3xbh21qlt_pcr0000gn/T/ipykernel_83080/935186160.py:47: FutureWarning: Series.__getitem__ treating keys as positions is deprecated. In a future version, integer keys will always be treated as labels (consistent with DataFrame behavior). To access a value by position, use `ser.iloc[pos]`\n",
      "  use_col_names.update({col_names[l]:l})\n",
      "/var/folders/xn/9jbxxjcj63b3xbh21qlt_pcr0000gn/T/ipykernel_83080/935186160.py:47: FutureWarning: Series.__getitem__ treating keys as positions is deprecated. In a future version, integer keys will always be treated as labels (consistent with DataFrame behavior). To access a value by position, use `ser.iloc[pos]`\n",
      "  use_col_names.update({col_names[l]:l})\n"
     ]
    },
    {
     "name": "stdout",
     "output_type": "stream",
     "text": [
      "61\n"
     ]
    },
    {
     "name": "stderr",
     "output_type": "stream",
     "text": [
      "/var/folders/xn/9jbxxjcj63b3xbh21qlt_pcr0000gn/T/ipykernel_83080/935186160.py:47: FutureWarning: Series.__getitem__ treating keys as positions is deprecated. In a future version, integer keys will always be treated as labels (consistent with DataFrame behavior). To access a value by position, use `ser.iloc[pos]`\n",
      "  use_col_names.update({col_names[l]:l})\n",
      "/var/folders/xn/9jbxxjcj63b3xbh21qlt_pcr0000gn/T/ipykernel_83080/935186160.py:47: FutureWarning: Series.__getitem__ treating keys as positions is deprecated. In a future version, integer keys will always be treated as labels (consistent with DataFrame behavior). To access a value by position, use `ser.iloc[pos]`\n",
      "  use_col_names.update({col_names[l]:l})\n"
     ]
    },
    {
     "name": "stdout",
     "output_type": "stream",
     "text": [
      "62\n"
     ]
    },
    {
     "name": "stderr",
     "output_type": "stream",
     "text": [
      "/var/folders/xn/9jbxxjcj63b3xbh21qlt_pcr0000gn/T/ipykernel_83080/935186160.py:47: FutureWarning: Series.__getitem__ treating keys as positions is deprecated. In a future version, integer keys will always be treated as labels (consistent with DataFrame behavior). To access a value by position, use `ser.iloc[pos]`\n",
      "  use_col_names.update({col_names[l]:l})\n",
      "/var/folders/xn/9jbxxjcj63b3xbh21qlt_pcr0000gn/T/ipykernel_83080/935186160.py:47: FutureWarning: Series.__getitem__ treating keys as positions is deprecated. In a future version, integer keys will always be treated as labels (consistent with DataFrame behavior). To access a value by position, use `ser.iloc[pos]`\n",
      "  use_col_names.update({col_names[l]:l})\n"
     ]
    },
    {
     "name": "stdout",
     "output_type": "stream",
     "text": [
      "63\n"
     ]
    },
    {
     "name": "stderr",
     "output_type": "stream",
     "text": [
      "/var/folders/xn/9jbxxjcj63b3xbh21qlt_pcr0000gn/T/ipykernel_83080/935186160.py:47: FutureWarning: Series.__getitem__ treating keys as positions is deprecated. In a future version, integer keys will always be treated as labels (consistent with DataFrame behavior). To access a value by position, use `ser.iloc[pos]`\n",
      "  use_col_names.update({col_names[l]:l})\n",
      "/var/folders/xn/9jbxxjcj63b3xbh21qlt_pcr0000gn/T/ipykernel_83080/935186160.py:47: FutureWarning: Series.__getitem__ treating keys as positions is deprecated. In a future version, integer keys will always be treated as labels (consistent with DataFrame behavior). To access a value by position, use `ser.iloc[pos]`\n",
      "  use_col_names.update({col_names[l]:l})\n"
     ]
    },
    {
     "name": "stdout",
     "output_type": "stream",
     "text": [
      "64\n"
     ]
    },
    {
     "name": "stderr",
     "output_type": "stream",
     "text": [
      "/var/folders/xn/9jbxxjcj63b3xbh21qlt_pcr0000gn/T/ipykernel_83080/935186160.py:47: FutureWarning: Series.__getitem__ treating keys as positions is deprecated. In a future version, integer keys will always be treated as labels (consistent with DataFrame behavior). To access a value by position, use `ser.iloc[pos]`\n",
      "  use_col_names.update({col_names[l]:l})\n",
      "/var/folders/xn/9jbxxjcj63b3xbh21qlt_pcr0000gn/T/ipykernel_83080/935186160.py:47: FutureWarning: Series.__getitem__ treating keys as positions is deprecated. In a future version, integer keys will always be treated as labels (consistent with DataFrame behavior). To access a value by position, use `ser.iloc[pos]`\n",
      "  use_col_names.update({col_names[l]:l})\n"
     ]
    },
    {
     "name": "stdout",
     "output_type": "stream",
     "text": [
      "65\n"
     ]
    },
    {
     "name": "stderr",
     "output_type": "stream",
     "text": [
      "/var/folders/xn/9jbxxjcj63b3xbh21qlt_pcr0000gn/T/ipykernel_83080/935186160.py:47: FutureWarning: Series.__getitem__ treating keys as positions is deprecated. In a future version, integer keys will always be treated as labels (consistent with DataFrame behavior). To access a value by position, use `ser.iloc[pos]`\n",
      "  use_col_names.update({col_names[l]:l})\n",
      "/var/folders/xn/9jbxxjcj63b3xbh21qlt_pcr0000gn/T/ipykernel_83080/935186160.py:47: FutureWarning: Series.__getitem__ treating keys as positions is deprecated. In a future version, integer keys will always be treated as labels (consistent with DataFrame behavior). To access a value by position, use `ser.iloc[pos]`\n",
      "  use_col_names.update({col_names[l]:l})\n"
     ]
    },
    {
     "name": "stdout",
     "output_type": "stream",
     "text": [
      "66\n"
     ]
    },
    {
     "name": "stderr",
     "output_type": "stream",
     "text": [
      "/var/folders/xn/9jbxxjcj63b3xbh21qlt_pcr0000gn/T/ipykernel_83080/935186160.py:47: FutureWarning: Series.__getitem__ treating keys as positions is deprecated. In a future version, integer keys will always be treated as labels (consistent with DataFrame behavior). To access a value by position, use `ser.iloc[pos]`\n",
      "  use_col_names.update({col_names[l]:l})\n",
      "/var/folders/xn/9jbxxjcj63b3xbh21qlt_pcr0000gn/T/ipykernel_83080/935186160.py:47: FutureWarning: Series.__getitem__ treating keys as positions is deprecated. In a future version, integer keys will always be treated as labels (consistent with DataFrame behavior). To access a value by position, use `ser.iloc[pos]`\n",
      "  use_col_names.update({col_names[l]:l})\n"
     ]
    },
    {
     "name": "stdout",
     "output_type": "stream",
     "text": [
      "67\n"
     ]
    },
    {
     "name": "stderr",
     "output_type": "stream",
     "text": [
      "/var/folders/xn/9jbxxjcj63b3xbh21qlt_pcr0000gn/T/ipykernel_83080/935186160.py:47: FutureWarning: Series.__getitem__ treating keys as positions is deprecated. In a future version, integer keys will always be treated as labels (consistent with DataFrame behavior). To access a value by position, use `ser.iloc[pos]`\n",
      "  use_col_names.update({col_names[l]:l})\n",
      "/var/folders/xn/9jbxxjcj63b3xbh21qlt_pcr0000gn/T/ipykernel_83080/935186160.py:47: FutureWarning: Series.__getitem__ treating keys as positions is deprecated. In a future version, integer keys will always be treated as labels (consistent with DataFrame behavior). To access a value by position, use `ser.iloc[pos]`\n",
      "  use_col_names.update({col_names[l]:l})\n"
     ]
    },
    {
     "name": "stdout",
     "output_type": "stream",
     "text": [
      "68\n"
     ]
    },
    {
     "name": "stderr",
     "output_type": "stream",
     "text": [
      "/var/folders/xn/9jbxxjcj63b3xbh21qlt_pcr0000gn/T/ipykernel_83080/935186160.py:47: FutureWarning: Series.__getitem__ treating keys as positions is deprecated. In a future version, integer keys will always be treated as labels (consistent with DataFrame behavior). To access a value by position, use `ser.iloc[pos]`\n",
      "  use_col_names.update({col_names[l]:l})\n",
      "/var/folders/xn/9jbxxjcj63b3xbh21qlt_pcr0000gn/T/ipykernel_83080/935186160.py:47: FutureWarning: Series.__getitem__ treating keys as positions is deprecated. In a future version, integer keys will always be treated as labels (consistent with DataFrame behavior). To access a value by position, use `ser.iloc[pos]`\n",
      "  use_col_names.update({col_names[l]:l})\n"
     ]
    },
    {
     "name": "stdout",
     "output_type": "stream",
     "text": [
      "69\n"
     ]
    },
    {
     "name": "stderr",
     "output_type": "stream",
     "text": [
      "/var/folders/xn/9jbxxjcj63b3xbh21qlt_pcr0000gn/T/ipykernel_83080/935186160.py:47: FutureWarning: Series.__getitem__ treating keys as positions is deprecated. In a future version, integer keys will always be treated as labels (consistent with DataFrame behavior). To access a value by position, use `ser.iloc[pos]`\n",
      "  use_col_names.update({col_names[l]:l})\n",
      "/var/folders/xn/9jbxxjcj63b3xbh21qlt_pcr0000gn/T/ipykernel_83080/935186160.py:47: FutureWarning: Series.__getitem__ treating keys as positions is deprecated. In a future version, integer keys will always be treated as labels (consistent with DataFrame behavior). To access a value by position, use `ser.iloc[pos]`\n",
      "  use_col_names.update({col_names[l]:l})\n"
     ]
    },
    {
     "name": "stdout",
     "output_type": "stream",
     "text": [
      "70\n"
     ]
    },
    {
     "name": "stderr",
     "output_type": "stream",
     "text": [
      "/var/folders/xn/9jbxxjcj63b3xbh21qlt_pcr0000gn/T/ipykernel_83080/935186160.py:47: FutureWarning: Series.__getitem__ treating keys as positions is deprecated. In a future version, integer keys will always be treated as labels (consistent with DataFrame behavior). To access a value by position, use `ser.iloc[pos]`\n",
      "  use_col_names.update({col_names[l]:l})\n",
      "/var/folders/xn/9jbxxjcj63b3xbh21qlt_pcr0000gn/T/ipykernel_83080/935186160.py:47: FutureWarning: Series.__getitem__ treating keys as positions is deprecated. In a future version, integer keys will always be treated as labels (consistent with DataFrame behavior). To access a value by position, use `ser.iloc[pos]`\n",
      "  use_col_names.update({col_names[l]:l})\n"
     ]
    },
    {
     "name": "stdout",
     "output_type": "stream",
     "text": [
      "71\n"
     ]
    },
    {
     "name": "stderr",
     "output_type": "stream",
     "text": [
      "/var/folders/xn/9jbxxjcj63b3xbh21qlt_pcr0000gn/T/ipykernel_83080/935186160.py:47: FutureWarning: Series.__getitem__ treating keys as positions is deprecated. In a future version, integer keys will always be treated as labels (consistent with DataFrame behavior). To access a value by position, use `ser.iloc[pos]`\n",
      "  use_col_names.update({col_names[l]:l})\n",
      "/var/folders/xn/9jbxxjcj63b3xbh21qlt_pcr0000gn/T/ipykernel_83080/935186160.py:47: FutureWarning: Series.__getitem__ treating keys as positions is deprecated. In a future version, integer keys will always be treated as labels (consistent with DataFrame behavior). To access a value by position, use `ser.iloc[pos]`\n",
      "  use_col_names.update({col_names[l]:l})\n"
     ]
    },
    {
     "name": "stdout",
     "output_type": "stream",
     "text": [
      "72\n"
     ]
    },
    {
     "name": "stderr",
     "output_type": "stream",
     "text": [
      "/var/folders/xn/9jbxxjcj63b3xbh21qlt_pcr0000gn/T/ipykernel_83080/935186160.py:47: FutureWarning: Series.__getitem__ treating keys as positions is deprecated. In a future version, integer keys will always be treated as labels (consistent with DataFrame behavior). To access a value by position, use `ser.iloc[pos]`\n",
      "  use_col_names.update({col_names[l]:l})\n",
      "/var/folders/xn/9jbxxjcj63b3xbh21qlt_pcr0000gn/T/ipykernel_83080/935186160.py:47: FutureWarning: Series.__getitem__ treating keys as positions is deprecated. In a future version, integer keys will always be treated as labels (consistent with DataFrame behavior). To access a value by position, use `ser.iloc[pos]`\n",
      "  use_col_names.update({col_names[l]:l})\n"
     ]
    },
    {
     "name": "stdout",
     "output_type": "stream",
     "text": [
      "73\n"
     ]
    },
    {
     "name": "stderr",
     "output_type": "stream",
     "text": [
      "/var/folders/xn/9jbxxjcj63b3xbh21qlt_pcr0000gn/T/ipykernel_83080/935186160.py:47: FutureWarning: Series.__getitem__ treating keys as positions is deprecated. In a future version, integer keys will always be treated as labels (consistent with DataFrame behavior). To access a value by position, use `ser.iloc[pos]`\n",
      "  use_col_names.update({col_names[l]:l})\n",
      "/var/folders/xn/9jbxxjcj63b3xbh21qlt_pcr0000gn/T/ipykernel_83080/935186160.py:47: FutureWarning: Series.__getitem__ treating keys as positions is deprecated. In a future version, integer keys will always be treated as labels (consistent with DataFrame behavior). To access a value by position, use `ser.iloc[pos]`\n",
      "  use_col_names.update({col_names[l]:l})\n"
     ]
    },
    {
     "name": "stdout",
     "output_type": "stream",
     "text": [
      "74\n"
     ]
    },
    {
     "name": "stderr",
     "output_type": "stream",
     "text": [
      "/var/folders/xn/9jbxxjcj63b3xbh21qlt_pcr0000gn/T/ipykernel_83080/935186160.py:47: FutureWarning: Series.__getitem__ treating keys as positions is deprecated. In a future version, integer keys will always be treated as labels (consistent with DataFrame behavior). To access a value by position, use `ser.iloc[pos]`\n",
      "  use_col_names.update({col_names[l]:l})\n",
      "/var/folders/xn/9jbxxjcj63b3xbh21qlt_pcr0000gn/T/ipykernel_83080/935186160.py:47: FutureWarning: Series.__getitem__ treating keys as positions is deprecated. In a future version, integer keys will always be treated as labels (consistent with DataFrame behavior). To access a value by position, use `ser.iloc[pos]`\n",
      "  use_col_names.update({col_names[l]:l})\n"
     ]
    },
    {
     "name": "stdout",
     "output_type": "stream",
     "text": [
      "75\n"
     ]
    },
    {
     "name": "stderr",
     "output_type": "stream",
     "text": [
      "/var/folders/xn/9jbxxjcj63b3xbh21qlt_pcr0000gn/T/ipykernel_83080/935186160.py:47: FutureWarning: Series.__getitem__ treating keys as positions is deprecated. In a future version, integer keys will always be treated as labels (consistent with DataFrame behavior). To access a value by position, use `ser.iloc[pos]`\n",
      "  use_col_names.update({col_names[l]:l})\n",
      "/var/folders/xn/9jbxxjcj63b3xbh21qlt_pcr0000gn/T/ipykernel_83080/935186160.py:47: FutureWarning: Series.__getitem__ treating keys as positions is deprecated. In a future version, integer keys will always be treated as labels (consistent with DataFrame behavior). To access a value by position, use `ser.iloc[pos]`\n",
      "  use_col_names.update({col_names[l]:l})\n"
     ]
    },
    {
     "name": "stdout",
     "output_type": "stream",
     "text": [
      "76\n"
     ]
    },
    {
     "name": "stderr",
     "output_type": "stream",
     "text": [
      "/var/folders/xn/9jbxxjcj63b3xbh21qlt_pcr0000gn/T/ipykernel_83080/935186160.py:47: FutureWarning: Series.__getitem__ treating keys as positions is deprecated. In a future version, integer keys will always be treated as labels (consistent with DataFrame behavior). To access a value by position, use `ser.iloc[pos]`\n",
      "  use_col_names.update({col_names[l]:l})\n",
      "/var/folders/xn/9jbxxjcj63b3xbh21qlt_pcr0000gn/T/ipykernel_83080/935186160.py:47: FutureWarning: Series.__getitem__ treating keys as positions is deprecated. In a future version, integer keys will always be treated as labels (consistent with DataFrame behavior). To access a value by position, use `ser.iloc[pos]`\n",
      "  use_col_names.update({col_names[l]:l})\n"
     ]
    },
    {
     "name": "stdout",
     "output_type": "stream",
     "text": [
      "77\n"
     ]
    },
    {
     "name": "stderr",
     "output_type": "stream",
     "text": [
      "/var/folders/xn/9jbxxjcj63b3xbh21qlt_pcr0000gn/T/ipykernel_83080/935186160.py:47: FutureWarning: Series.__getitem__ treating keys as positions is deprecated. In a future version, integer keys will always be treated as labels (consistent with DataFrame behavior). To access a value by position, use `ser.iloc[pos]`\n",
      "  use_col_names.update({col_names[l]:l})\n",
      "/var/folders/xn/9jbxxjcj63b3xbh21qlt_pcr0000gn/T/ipykernel_83080/935186160.py:47: FutureWarning: Series.__getitem__ treating keys as positions is deprecated. In a future version, integer keys will always be treated as labels (consistent with DataFrame behavior). To access a value by position, use `ser.iloc[pos]`\n",
      "  use_col_names.update({col_names[l]:l})\n"
     ]
    },
    {
     "name": "stdout",
     "output_type": "stream",
     "text": [
      "78\n"
     ]
    },
    {
     "name": "stderr",
     "output_type": "stream",
     "text": [
      "/var/folders/xn/9jbxxjcj63b3xbh21qlt_pcr0000gn/T/ipykernel_83080/935186160.py:47: FutureWarning: Series.__getitem__ treating keys as positions is deprecated. In a future version, integer keys will always be treated as labels (consistent with DataFrame behavior). To access a value by position, use `ser.iloc[pos]`\n",
      "  use_col_names.update({col_names[l]:l})\n",
      "/var/folders/xn/9jbxxjcj63b3xbh21qlt_pcr0000gn/T/ipykernel_83080/935186160.py:47: FutureWarning: Series.__getitem__ treating keys as positions is deprecated. In a future version, integer keys will always be treated as labels (consistent with DataFrame behavior). To access a value by position, use `ser.iloc[pos]`\n",
      "  use_col_names.update({col_names[l]:l})\n"
     ]
    },
    {
     "name": "stdout",
     "output_type": "stream",
     "text": [
      "79\n"
     ]
    },
    {
     "name": "stderr",
     "output_type": "stream",
     "text": [
      "/var/folders/xn/9jbxxjcj63b3xbh21qlt_pcr0000gn/T/ipykernel_83080/935186160.py:47: FutureWarning: Series.__getitem__ treating keys as positions is deprecated. In a future version, integer keys will always be treated as labels (consistent with DataFrame behavior). To access a value by position, use `ser.iloc[pos]`\n",
      "  use_col_names.update({col_names[l]:l})\n",
      "/var/folders/xn/9jbxxjcj63b3xbh21qlt_pcr0000gn/T/ipykernel_83080/935186160.py:47: FutureWarning: Series.__getitem__ treating keys as positions is deprecated. In a future version, integer keys will always be treated as labels (consistent with DataFrame behavior). To access a value by position, use `ser.iloc[pos]`\n",
      "  use_col_names.update({col_names[l]:l})\n"
     ]
    },
    {
     "name": "stdout",
     "output_type": "stream",
     "text": [
      "80\n"
     ]
    },
    {
     "name": "stderr",
     "output_type": "stream",
     "text": [
      "/var/folders/xn/9jbxxjcj63b3xbh21qlt_pcr0000gn/T/ipykernel_83080/935186160.py:47: FutureWarning: Series.__getitem__ treating keys as positions is deprecated. In a future version, integer keys will always be treated as labels (consistent with DataFrame behavior). To access a value by position, use `ser.iloc[pos]`\n",
      "  use_col_names.update({col_names[l]:l})\n",
      "/var/folders/xn/9jbxxjcj63b3xbh21qlt_pcr0000gn/T/ipykernel_83080/935186160.py:47: FutureWarning: Series.__getitem__ treating keys as positions is deprecated. In a future version, integer keys will always be treated as labels (consistent with DataFrame behavior). To access a value by position, use `ser.iloc[pos]`\n",
      "  use_col_names.update({col_names[l]:l})\n"
     ]
    },
    {
     "name": "stdout",
     "output_type": "stream",
     "text": [
      "81\n"
     ]
    },
    {
     "name": "stderr",
     "output_type": "stream",
     "text": [
      "/var/folders/xn/9jbxxjcj63b3xbh21qlt_pcr0000gn/T/ipykernel_83080/935186160.py:47: FutureWarning: Series.__getitem__ treating keys as positions is deprecated. In a future version, integer keys will always be treated as labels (consistent with DataFrame behavior). To access a value by position, use `ser.iloc[pos]`\n",
      "  use_col_names.update({col_names[l]:l})\n",
      "/var/folders/xn/9jbxxjcj63b3xbh21qlt_pcr0000gn/T/ipykernel_83080/935186160.py:47: FutureWarning: Series.__getitem__ treating keys as positions is deprecated. In a future version, integer keys will always be treated as labels (consistent with DataFrame behavior). To access a value by position, use `ser.iloc[pos]`\n",
      "  use_col_names.update({col_names[l]:l})\n",
      "/var/folders/xn/9jbxxjcj63b3xbh21qlt_pcr0000gn/T/ipykernel_83080/935186160.py:47: FutureWarning: Series.__getitem__ treating keys as positions is deprecated. In a future version, integer keys will always be treated as labels (consistent with DataFrame behavior). To access a value by position, use `ser.iloc[pos]`\n",
      "  use_col_names.update({col_names[l]:l})\n",
      "/var/folders/xn/9jbxxjcj63b3xbh21qlt_pcr0000gn/T/ipykernel_83080/935186160.py:47: FutureWarning: Series.__getitem__ treating keys as positions is deprecated. In a future version, integer keys will always be treated as labels (consistent with DataFrame behavior). To access a value by position, use `ser.iloc[pos]`\n",
      "  use_col_names.update({col_names[l]:l})\n",
      "/var/folders/xn/9jbxxjcj63b3xbh21qlt_pcr0000gn/T/ipykernel_83080/935186160.py:47: FutureWarning: Series.__getitem__ treating keys as positions is deprecated. In a future version, integer keys will always be treated as labels (consistent with DataFrame behavior). To access a value by position, use `ser.iloc[pos]`\n",
      "  use_col_names.update({col_names[l]:l})\n"
     ]
    },
    {
     "name": "stdout",
     "output_type": "stream",
     "text": [
      "82\n"
     ]
    },
    {
     "name": "stderr",
     "output_type": "stream",
     "text": [
      "/var/folders/xn/9jbxxjcj63b3xbh21qlt_pcr0000gn/T/ipykernel_83080/935186160.py:47: FutureWarning: Series.__getitem__ treating keys as positions is deprecated. In a future version, integer keys will always be treated as labels (consistent with DataFrame behavior). To access a value by position, use `ser.iloc[pos]`\n",
      "  use_col_names.update({col_names[l]:l})\n",
      "/var/folders/xn/9jbxxjcj63b3xbh21qlt_pcr0000gn/T/ipykernel_83080/935186160.py:47: FutureWarning: Series.__getitem__ treating keys as positions is deprecated. In a future version, integer keys will always be treated as labels (consistent with DataFrame behavior). To access a value by position, use `ser.iloc[pos]`\n",
      "  use_col_names.update({col_names[l]:l})\n",
      "/var/folders/xn/9jbxxjcj63b3xbh21qlt_pcr0000gn/T/ipykernel_83080/935186160.py:47: FutureWarning: Series.__getitem__ treating keys as positions is deprecated. In a future version, integer keys will always be treated as labels (consistent with DataFrame behavior). To access a value by position, use `ser.iloc[pos]`\n",
      "  use_col_names.update({col_names[l]:l})\n",
      "/var/folders/xn/9jbxxjcj63b3xbh21qlt_pcr0000gn/T/ipykernel_83080/935186160.py:47: FutureWarning: Series.__getitem__ treating keys as positions is deprecated. In a future version, integer keys will always be treated as labels (consistent with DataFrame behavior). To access a value by position, use `ser.iloc[pos]`\n",
      "  use_col_names.update({col_names[l]:l})\n"
     ]
    },
    {
     "name": "stdout",
     "output_type": "stream",
     "text": [
      "83\n"
     ]
    },
    {
     "name": "stderr",
     "output_type": "stream",
     "text": [
      "/var/folders/xn/9jbxxjcj63b3xbh21qlt_pcr0000gn/T/ipykernel_83080/935186160.py:47: FutureWarning: Series.__getitem__ treating keys as positions is deprecated. In a future version, integer keys will always be treated as labels (consistent with DataFrame behavior). To access a value by position, use `ser.iloc[pos]`\n",
      "  use_col_names.update({col_names[l]:l})\n",
      "/var/folders/xn/9jbxxjcj63b3xbh21qlt_pcr0000gn/T/ipykernel_83080/935186160.py:47: FutureWarning: Series.__getitem__ treating keys as positions is deprecated. In a future version, integer keys will always be treated as labels (consistent with DataFrame behavior). To access a value by position, use `ser.iloc[pos]`\n",
      "  use_col_names.update({col_names[l]:l})\n",
      "/var/folders/xn/9jbxxjcj63b3xbh21qlt_pcr0000gn/T/ipykernel_83080/935186160.py:47: FutureWarning: Series.__getitem__ treating keys as positions is deprecated. In a future version, integer keys will always be treated as labels (consistent with DataFrame behavior). To access a value by position, use `ser.iloc[pos]`\n",
      "  use_col_names.update({col_names[l]:l})\n",
      "/var/folders/xn/9jbxxjcj63b3xbh21qlt_pcr0000gn/T/ipykernel_83080/935186160.py:47: FutureWarning: Series.__getitem__ treating keys as positions is deprecated. In a future version, integer keys will always be treated as labels (consistent with DataFrame behavior). To access a value by position, use `ser.iloc[pos]`\n",
      "  use_col_names.update({col_names[l]:l})\n"
     ]
    },
    {
     "name": "stdout",
     "output_type": "stream",
     "text": [
      "84\n"
     ]
    },
    {
     "name": "stderr",
     "output_type": "stream",
     "text": [
      "/var/folders/xn/9jbxxjcj63b3xbh21qlt_pcr0000gn/T/ipykernel_83080/935186160.py:47: FutureWarning: Series.__getitem__ treating keys as positions is deprecated. In a future version, integer keys will always be treated as labels (consistent with DataFrame behavior). To access a value by position, use `ser.iloc[pos]`\n",
      "  use_col_names.update({col_names[l]:l})\n",
      "/var/folders/xn/9jbxxjcj63b3xbh21qlt_pcr0000gn/T/ipykernel_83080/935186160.py:47: FutureWarning: Series.__getitem__ treating keys as positions is deprecated. In a future version, integer keys will always be treated as labels (consistent with DataFrame behavior). To access a value by position, use `ser.iloc[pos]`\n",
      "  use_col_names.update({col_names[l]:l})\n",
      "/var/folders/xn/9jbxxjcj63b3xbh21qlt_pcr0000gn/T/ipykernel_83080/935186160.py:47: FutureWarning: Series.__getitem__ treating keys as positions is deprecated. In a future version, integer keys will always be treated as labels (consistent with DataFrame behavior). To access a value by position, use `ser.iloc[pos]`\n",
      "  use_col_names.update({col_names[l]:l})\n",
      "/var/folders/xn/9jbxxjcj63b3xbh21qlt_pcr0000gn/T/ipykernel_83080/935186160.py:47: FutureWarning: Series.__getitem__ treating keys as positions is deprecated. In a future version, integer keys will always be treated as labels (consistent with DataFrame behavior). To access a value by position, use `ser.iloc[pos]`\n",
      "  use_col_names.update({col_names[l]:l})\n"
     ]
    },
    {
     "name": "stdout",
     "output_type": "stream",
     "text": [
      "85\n"
     ]
    },
    {
     "name": "stderr",
     "output_type": "stream",
     "text": [
      "/var/folders/xn/9jbxxjcj63b3xbh21qlt_pcr0000gn/T/ipykernel_83080/935186160.py:47: FutureWarning: Series.__getitem__ treating keys as positions is deprecated. In a future version, integer keys will always be treated as labels (consistent with DataFrame behavior). To access a value by position, use `ser.iloc[pos]`\n",
      "  use_col_names.update({col_names[l]:l})\n",
      "/var/folders/xn/9jbxxjcj63b3xbh21qlt_pcr0000gn/T/ipykernel_83080/935186160.py:47: FutureWarning: Series.__getitem__ treating keys as positions is deprecated. In a future version, integer keys will always be treated as labels (consistent with DataFrame behavior). To access a value by position, use `ser.iloc[pos]`\n",
      "  use_col_names.update({col_names[l]:l})\n",
      "/var/folders/xn/9jbxxjcj63b3xbh21qlt_pcr0000gn/T/ipykernel_83080/935186160.py:47: FutureWarning: Series.__getitem__ treating keys as positions is deprecated. In a future version, integer keys will always be treated as labels (consistent with DataFrame behavior). To access a value by position, use `ser.iloc[pos]`\n",
      "  use_col_names.update({col_names[l]:l})\n"
     ]
    },
    {
     "name": "stdout",
     "output_type": "stream",
     "text": [
      "86\n"
     ]
    },
    {
     "name": "stderr",
     "output_type": "stream",
     "text": [
      "/var/folders/xn/9jbxxjcj63b3xbh21qlt_pcr0000gn/T/ipykernel_83080/935186160.py:47: FutureWarning: Series.__getitem__ treating keys as positions is deprecated. In a future version, integer keys will always be treated as labels (consistent with DataFrame behavior). To access a value by position, use `ser.iloc[pos]`\n",
      "  use_col_names.update({col_names[l]:l})\n",
      "/var/folders/xn/9jbxxjcj63b3xbh21qlt_pcr0000gn/T/ipykernel_83080/935186160.py:47: FutureWarning: Series.__getitem__ treating keys as positions is deprecated. In a future version, integer keys will always be treated as labels (consistent with DataFrame behavior). To access a value by position, use `ser.iloc[pos]`\n",
      "  use_col_names.update({col_names[l]:l})\n",
      "/var/folders/xn/9jbxxjcj63b3xbh21qlt_pcr0000gn/T/ipykernel_83080/935186160.py:47: FutureWarning: Series.__getitem__ treating keys as positions is deprecated. In a future version, integer keys will always be treated as labels (consistent with DataFrame behavior). To access a value by position, use `ser.iloc[pos]`\n",
      "  use_col_names.update({col_names[l]:l})\n",
      "/var/folders/xn/9jbxxjcj63b3xbh21qlt_pcr0000gn/T/ipykernel_83080/935186160.py:47: FutureWarning: Series.__getitem__ treating keys as positions is deprecated. In a future version, integer keys will always be treated as labels (consistent with DataFrame behavior). To access a value by position, use `ser.iloc[pos]`\n",
      "  use_col_names.update({col_names[l]:l})\n"
     ]
    },
    {
     "name": "stdout",
     "output_type": "stream",
     "text": [
      "87\n"
     ]
    },
    {
     "name": "stderr",
     "output_type": "stream",
     "text": [
      "/var/folders/xn/9jbxxjcj63b3xbh21qlt_pcr0000gn/T/ipykernel_83080/935186160.py:47: FutureWarning: Series.__getitem__ treating keys as positions is deprecated. In a future version, integer keys will always be treated as labels (consistent with DataFrame behavior). To access a value by position, use `ser.iloc[pos]`\n",
      "  use_col_names.update({col_names[l]:l})\n",
      "/var/folders/xn/9jbxxjcj63b3xbh21qlt_pcr0000gn/T/ipykernel_83080/935186160.py:47: FutureWarning: Series.__getitem__ treating keys as positions is deprecated. In a future version, integer keys will always be treated as labels (consistent with DataFrame behavior). To access a value by position, use `ser.iloc[pos]`\n",
      "  use_col_names.update({col_names[l]:l})\n",
      "/var/folders/xn/9jbxxjcj63b3xbh21qlt_pcr0000gn/T/ipykernel_83080/935186160.py:47: FutureWarning: Series.__getitem__ treating keys as positions is deprecated. In a future version, integer keys will always be treated as labels (consistent with DataFrame behavior). To access a value by position, use `ser.iloc[pos]`\n",
      "  use_col_names.update({col_names[l]:l})\n",
      "/var/folders/xn/9jbxxjcj63b3xbh21qlt_pcr0000gn/T/ipykernel_83080/935186160.py:47: FutureWarning: Series.__getitem__ treating keys as positions is deprecated. In a future version, integer keys will always be treated as labels (consistent with DataFrame behavior). To access a value by position, use `ser.iloc[pos]`\n",
      "  use_col_names.update({col_names[l]:l})\n",
      "/var/folders/xn/9jbxxjcj63b3xbh21qlt_pcr0000gn/T/ipykernel_83080/935186160.py:47: FutureWarning: Series.__getitem__ treating keys as positions is deprecated. In a future version, integer keys will always be treated as labels (consistent with DataFrame behavior). To access a value by position, use `ser.iloc[pos]`\n",
      "  use_col_names.update({col_names[l]:l})\n"
     ]
    },
    {
     "name": "stdout",
     "output_type": "stream",
     "text": [
      "88\n"
     ]
    },
    {
     "name": "stderr",
     "output_type": "stream",
     "text": [
      "/var/folders/xn/9jbxxjcj63b3xbh21qlt_pcr0000gn/T/ipykernel_83080/935186160.py:47: FutureWarning: Series.__getitem__ treating keys as positions is deprecated. In a future version, integer keys will always be treated as labels (consistent with DataFrame behavior). To access a value by position, use `ser.iloc[pos]`\n",
      "  use_col_names.update({col_names[l]:l})\n",
      "/var/folders/xn/9jbxxjcj63b3xbh21qlt_pcr0000gn/T/ipykernel_83080/935186160.py:47: FutureWarning: Series.__getitem__ treating keys as positions is deprecated. In a future version, integer keys will always be treated as labels (consistent with DataFrame behavior). To access a value by position, use `ser.iloc[pos]`\n",
      "  use_col_names.update({col_names[l]:l})\n",
      "/var/folders/xn/9jbxxjcj63b3xbh21qlt_pcr0000gn/T/ipykernel_83080/935186160.py:47: FutureWarning: Series.__getitem__ treating keys as positions is deprecated. In a future version, integer keys will always be treated as labels (consistent with DataFrame behavior). To access a value by position, use `ser.iloc[pos]`\n",
      "  use_col_names.update({col_names[l]:l})\n"
     ]
    },
    {
     "name": "stdout",
     "output_type": "stream",
     "text": [
      "89\n"
     ]
    },
    {
     "name": "stderr",
     "output_type": "stream",
     "text": [
      "/var/folders/xn/9jbxxjcj63b3xbh21qlt_pcr0000gn/T/ipykernel_83080/935186160.py:47: FutureWarning: Series.__getitem__ treating keys as positions is deprecated. In a future version, integer keys will always be treated as labels (consistent with DataFrame behavior). To access a value by position, use `ser.iloc[pos]`\n",
      "  use_col_names.update({col_names[l]:l})\n",
      "/var/folders/xn/9jbxxjcj63b3xbh21qlt_pcr0000gn/T/ipykernel_83080/935186160.py:47: FutureWarning: Series.__getitem__ treating keys as positions is deprecated. In a future version, integer keys will always be treated as labels (consistent with DataFrame behavior). To access a value by position, use `ser.iloc[pos]`\n",
      "  use_col_names.update({col_names[l]:l})\n",
      "/var/folders/xn/9jbxxjcj63b3xbh21qlt_pcr0000gn/T/ipykernel_83080/935186160.py:47: FutureWarning: Series.__getitem__ treating keys as positions is deprecated. In a future version, integer keys will always be treated as labels (consistent with DataFrame behavior). To access a value by position, use `ser.iloc[pos]`\n",
      "  use_col_names.update({col_names[l]:l})\n",
      "/var/folders/xn/9jbxxjcj63b3xbh21qlt_pcr0000gn/T/ipykernel_83080/935186160.py:47: FutureWarning: Series.__getitem__ treating keys as positions is deprecated. In a future version, integer keys will always be treated as labels (consistent with DataFrame behavior). To access a value by position, use `ser.iloc[pos]`\n",
      "  use_col_names.update({col_names[l]:l})\n"
     ]
    },
    {
     "name": "stdout",
     "output_type": "stream",
     "text": [
      "90\n"
     ]
    },
    {
     "name": "stderr",
     "output_type": "stream",
     "text": [
      "/var/folders/xn/9jbxxjcj63b3xbh21qlt_pcr0000gn/T/ipykernel_83080/935186160.py:47: FutureWarning: Series.__getitem__ treating keys as positions is deprecated. In a future version, integer keys will always be treated as labels (consistent with DataFrame behavior). To access a value by position, use `ser.iloc[pos]`\n",
      "  use_col_names.update({col_names[l]:l})\n",
      "/var/folders/xn/9jbxxjcj63b3xbh21qlt_pcr0000gn/T/ipykernel_83080/935186160.py:47: FutureWarning: Series.__getitem__ treating keys as positions is deprecated. In a future version, integer keys will always be treated as labels (consistent with DataFrame behavior). To access a value by position, use `ser.iloc[pos]`\n",
      "  use_col_names.update({col_names[l]:l})\n"
     ]
    },
    {
     "name": "stdout",
     "output_type": "stream",
     "text": [
      "91\n"
     ]
    },
    {
     "name": "stderr",
     "output_type": "stream",
     "text": [
      "/var/folders/xn/9jbxxjcj63b3xbh21qlt_pcr0000gn/T/ipykernel_83080/935186160.py:47: FutureWarning: Series.__getitem__ treating keys as positions is deprecated. In a future version, integer keys will always be treated as labels (consistent with DataFrame behavior). To access a value by position, use `ser.iloc[pos]`\n",
      "  use_col_names.update({col_names[l]:l})\n",
      "/var/folders/xn/9jbxxjcj63b3xbh21qlt_pcr0000gn/T/ipykernel_83080/935186160.py:47: FutureWarning: Series.__getitem__ treating keys as positions is deprecated. In a future version, integer keys will always be treated as labels (consistent with DataFrame behavior). To access a value by position, use `ser.iloc[pos]`\n",
      "  use_col_names.update({col_names[l]:l})\n"
     ]
    },
    {
     "name": "stdout",
     "output_type": "stream",
     "text": [
      "92\n"
     ]
    },
    {
     "name": "stderr",
     "output_type": "stream",
     "text": [
      "/var/folders/xn/9jbxxjcj63b3xbh21qlt_pcr0000gn/T/ipykernel_83080/935186160.py:47: FutureWarning: Series.__getitem__ treating keys as positions is deprecated. In a future version, integer keys will always be treated as labels (consistent with DataFrame behavior). To access a value by position, use `ser.iloc[pos]`\n",
      "  use_col_names.update({col_names[l]:l})\n",
      "/var/folders/xn/9jbxxjcj63b3xbh21qlt_pcr0000gn/T/ipykernel_83080/935186160.py:47: FutureWarning: Series.__getitem__ treating keys as positions is deprecated. In a future version, integer keys will always be treated as labels (consistent with DataFrame behavior). To access a value by position, use `ser.iloc[pos]`\n",
      "  use_col_names.update({col_names[l]:l})\n"
     ]
    },
    {
     "name": "stdout",
     "output_type": "stream",
     "text": [
      "93\n"
     ]
    },
    {
     "name": "stderr",
     "output_type": "stream",
     "text": [
      "/var/folders/xn/9jbxxjcj63b3xbh21qlt_pcr0000gn/T/ipykernel_83080/935186160.py:47: FutureWarning: Series.__getitem__ treating keys as positions is deprecated. In a future version, integer keys will always be treated as labels (consistent with DataFrame behavior). To access a value by position, use `ser.iloc[pos]`\n",
      "  use_col_names.update({col_names[l]:l})\n",
      "/var/folders/xn/9jbxxjcj63b3xbh21qlt_pcr0000gn/T/ipykernel_83080/935186160.py:47: FutureWarning: Series.__getitem__ treating keys as positions is deprecated. In a future version, integer keys will always be treated as labels (consistent with DataFrame behavior). To access a value by position, use `ser.iloc[pos]`\n",
      "  use_col_names.update({col_names[l]:l})\n",
      "/var/folders/xn/9jbxxjcj63b3xbh21qlt_pcr0000gn/T/ipykernel_83080/935186160.py:47: FutureWarning: Series.__getitem__ treating keys as positions is deprecated. In a future version, integer keys will always be treated as labels (consistent with DataFrame behavior). To access a value by position, use `ser.iloc[pos]`\n",
      "  use_col_names.update({col_names[l]:l})\n",
      "/var/folders/xn/9jbxxjcj63b3xbh21qlt_pcr0000gn/T/ipykernel_83080/935186160.py:47: FutureWarning: Series.__getitem__ treating keys as positions is deprecated. In a future version, integer keys will always be treated as labels (consistent with DataFrame behavior). To access a value by position, use `ser.iloc[pos]`\n",
      "  use_col_names.update({col_names[l]:l})\n"
     ]
    },
    {
     "name": "stdout",
     "output_type": "stream",
     "text": [
      "94\n"
     ]
    },
    {
     "name": "stderr",
     "output_type": "stream",
     "text": [
      "/var/folders/xn/9jbxxjcj63b3xbh21qlt_pcr0000gn/T/ipykernel_83080/935186160.py:47: FutureWarning: Series.__getitem__ treating keys as positions is deprecated. In a future version, integer keys will always be treated as labels (consistent with DataFrame behavior). To access a value by position, use `ser.iloc[pos]`\n",
      "  use_col_names.update({col_names[l]:l})\n",
      "/var/folders/xn/9jbxxjcj63b3xbh21qlt_pcr0000gn/T/ipykernel_83080/935186160.py:47: FutureWarning: Series.__getitem__ treating keys as positions is deprecated. In a future version, integer keys will always be treated as labels (consistent with DataFrame behavior). To access a value by position, use `ser.iloc[pos]`\n",
      "  use_col_names.update({col_names[l]:l})\n",
      "/var/folders/xn/9jbxxjcj63b3xbh21qlt_pcr0000gn/T/ipykernel_83080/935186160.py:47: FutureWarning: Series.__getitem__ treating keys as positions is deprecated. In a future version, integer keys will always be treated as labels (consistent with DataFrame behavior). To access a value by position, use `ser.iloc[pos]`\n",
      "  use_col_names.update({col_names[l]:l})\n",
      "/var/folders/xn/9jbxxjcj63b3xbh21qlt_pcr0000gn/T/ipykernel_83080/935186160.py:47: FutureWarning: Series.__getitem__ treating keys as positions is deprecated. In a future version, integer keys will always be treated as labels (consistent with DataFrame behavior). To access a value by position, use `ser.iloc[pos]`\n",
      "  use_col_names.update({col_names[l]:l})\n"
     ]
    },
    {
     "name": "stdout",
     "output_type": "stream",
     "text": [
      "95\n"
     ]
    },
    {
     "name": "stderr",
     "output_type": "stream",
     "text": [
      "/var/folders/xn/9jbxxjcj63b3xbh21qlt_pcr0000gn/T/ipykernel_83080/935186160.py:47: FutureWarning: Series.__getitem__ treating keys as positions is deprecated. In a future version, integer keys will always be treated as labels (consistent with DataFrame behavior). To access a value by position, use `ser.iloc[pos]`\n",
      "  use_col_names.update({col_names[l]:l})\n",
      "/var/folders/xn/9jbxxjcj63b3xbh21qlt_pcr0000gn/T/ipykernel_83080/935186160.py:47: FutureWarning: Series.__getitem__ treating keys as positions is deprecated. In a future version, integer keys will always be treated as labels (consistent with DataFrame behavior). To access a value by position, use `ser.iloc[pos]`\n",
      "  use_col_names.update({col_names[l]:l})\n",
      "/var/folders/xn/9jbxxjcj63b3xbh21qlt_pcr0000gn/T/ipykernel_83080/935186160.py:47: FutureWarning: Series.__getitem__ treating keys as positions is deprecated. In a future version, integer keys will always be treated as labels (consistent with DataFrame behavior). To access a value by position, use `ser.iloc[pos]`\n",
      "  use_col_names.update({col_names[l]:l})\n",
      "/var/folders/xn/9jbxxjcj63b3xbh21qlt_pcr0000gn/T/ipykernel_83080/935186160.py:47: FutureWarning: Series.__getitem__ treating keys as positions is deprecated. In a future version, integer keys will always be treated as labels (consistent with DataFrame behavior). To access a value by position, use `ser.iloc[pos]`\n",
      "  use_col_names.update({col_names[l]:l})\n",
      "/var/folders/xn/9jbxxjcj63b3xbh21qlt_pcr0000gn/T/ipykernel_83080/935186160.py:47: FutureWarning: Series.__getitem__ treating keys as positions is deprecated. In a future version, integer keys will always be treated as labels (consistent with DataFrame behavior). To access a value by position, use `ser.iloc[pos]`\n",
      "  use_col_names.update({col_names[l]:l})\n"
     ]
    },
    {
     "name": "stdout",
     "output_type": "stream",
     "text": [
      "96\n"
     ]
    },
    {
     "name": "stderr",
     "output_type": "stream",
     "text": [
      "/var/folders/xn/9jbxxjcj63b3xbh21qlt_pcr0000gn/T/ipykernel_83080/935186160.py:47: FutureWarning: Series.__getitem__ treating keys as positions is deprecated. In a future version, integer keys will always be treated as labels (consistent with DataFrame behavior). To access a value by position, use `ser.iloc[pos]`\n",
      "  use_col_names.update({col_names[l]:l})\n",
      "/var/folders/xn/9jbxxjcj63b3xbh21qlt_pcr0000gn/T/ipykernel_83080/935186160.py:47: FutureWarning: Series.__getitem__ treating keys as positions is deprecated. In a future version, integer keys will always be treated as labels (consistent with DataFrame behavior). To access a value by position, use `ser.iloc[pos]`\n",
      "  use_col_names.update({col_names[l]:l})\n",
      "/var/folders/xn/9jbxxjcj63b3xbh21qlt_pcr0000gn/T/ipykernel_83080/935186160.py:47: FutureWarning: Series.__getitem__ treating keys as positions is deprecated. In a future version, integer keys will always be treated as labels (consistent with DataFrame behavior). To access a value by position, use `ser.iloc[pos]`\n",
      "  use_col_names.update({col_names[l]:l})\n"
     ]
    },
    {
     "name": "stdout",
     "output_type": "stream",
     "text": [
      "97\n"
     ]
    },
    {
     "name": "stderr",
     "output_type": "stream",
     "text": [
      "/var/folders/xn/9jbxxjcj63b3xbh21qlt_pcr0000gn/T/ipykernel_83080/935186160.py:47: FutureWarning: Series.__getitem__ treating keys as positions is deprecated. In a future version, integer keys will always be treated as labels (consistent with DataFrame behavior). To access a value by position, use `ser.iloc[pos]`\n",
      "  use_col_names.update({col_names[l]:l})\n",
      "/var/folders/xn/9jbxxjcj63b3xbh21qlt_pcr0000gn/T/ipykernel_83080/935186160.py:47: FutureWarning: Series.__getitem__ treating keys as positions is deprecated. In a future version, integer keys will always be treated as labels (consistent with DataFrame behavior). To access a value by position, use `ser.iloc[pos]`\n",
      "  use_col_names.update({col_names[l]:l})\n",
      "/var/folders/xn/9jbxxjcj63b3xbh21qlt_pcr0000gn/T/ipykernel_83080/935186160.py:47: FutureWarning: Series.__getitem__ treating keys as positions is deprecated. In a future version, integer keys will always be treated as labels (consistent with DataFrame behavior). To access a value by position, use `ser.iloc[pos]`\n",
      "  use_col_names.update({col_names[l]:l})\n",
      "/var/folders/xn/9jbxxjcj63b3xbh21qlt_pcr0000gn/T/ipykernel_83080/935186160.py:47: FutureWarning: Series.__getitem__ treating keys as positions is deprecated. In a future version, integer keys will always be treated as labels (consistent with DataFrame behavior). To access a value by position, use `ser.iloc[pos]`\n",
      "  use_col_names.update({col_names[l]:l})\n"
     ]
    },
    {
     "name": "stdout",
     "output_type": "stream",
     "text": [
      "98\n"
     ]
    },
    {
     "name": "stderr",
     "output_type": "stream",
     "text": [
      "/var/folders/xn/9jbxxjcj63b3xbh21qlt_pcr0000gn/T/ipykernel_83080/935186160.py:47: FutureWarning: Series.__getitem__ treating keys as positions is deprecated. In a future version, integer keys will always be treated as labels (consistent with DataFrame behavior). To access a value by position, use `ser.iloc[pos]`\n",
      "  use_col_names.update({col_names[l]:l})\n",
      "/var/folders/xn/9jbxxjcj63b3xbh21qlt_pcr0000gn/T/ipykernel_83080/935186160.py:47: FutureWarning: Series.__getitem__ treating keys as positions is deprecated. In a future version, integer keys will always be treated as labels (consistent with DataFrame behavior). To access a value by position, use `ser.iloc[pos]`\n",
      "  use_col_names.update({col_names[l]:l})\n",
      "/var/folders/xn/9jbxxjcj63b3xbh21qlt_pcr0000gn/T/ipykernel_83080/935186160.py:47: FutureWarning: Series.__getitem__ treating keys as positions is deprecated. In a future version, integer keys will always be treated as labels (consistent with DataFrame behavior). To access a value by position, use `ser.iloc[pos]`\n",
      "  use_col_names.update({col_names[l]:l})\n",
      "/var/folders/xn/9jbxxjcj63b3xbh21qlt_pcr0000gn/T/ipykernel_83080/935186160.py:47: FutureWarning: Series.__getitem__ treating keys as positions is deprecated. In a future version, integer keys will always be treated as labels (consistent with DataFrame behavior). To access a value by position, use `ser.iloc[pos]`\n",
      "  use_col_names.update({col_names[l]:l})\n"
     ]
    },
    {
     "name": "stdout",
     "output_type": "stream",
     "text": [
      "99\n"
     ]
    },
    {
     "name": "stderr",
     "output_type": "stream",
     "text": [
      "/var/folders/xn/9jbxxjcj63b3xbh21qlt_pcr0000gn/T/ipykernel_83080/935186160.py:47: FutureWarning: Series.__getitem__ treating keys as positions is deprecated. In a future version, integer keys will always be treated as labels (consistent with DataFrame behavior). To access a value by position, use `ser.iloc[pos]`\n",
      "  use_col_names.update({col_names[l]:l})\n",
      "/var/folders/xn/9jbxxjcj63b3xbh21qlt_pcr0000gn/T/ipykernel_83080/935186160.py:47: FutureWarning: Series.__getitem__ treating keys as positions is deprecated. In a future version, integer keys will always be treated as labels (consistent with DataFrame behavior). To access a value by position, use `ser.iloc[pos]`\n",
      "  use_col_names.update({col_names[l]:l})\n",
      "/var/folders/xn/9jbxxjcj63b3xbh21qlt_pcr0000gn/T/ipykernel_83080/935186160.py:47: FutureWarning: Series.__getitem__ treating keys as positions is deprecated. In a future version, integer keys will always be treated as labels (consistent with DataFrame behavior). To access a value by position, use `ser.iloc[pos]`\n",
      "  use_col_names.update({col_names[l]:l})\n",
      "/var/folders/xn/9jbxxjcj63b3xbh21qlt_pcr0000gn/T/ipykernel_83080/935186160.py:47: FutureWarning: Series.__getitem__ treating keys as positions is deprecated. In a future version, integer keys will always be treated as labels (consistent with DataFrame behavior). To access a value by position, use `ser.iloc[pos]`\n",
      "  use_col_names.update({col_names[l]:l})\n",
      "/var/folders/xn/9jbxxjcj63b3xbh21qlt_pcr0000gn/T/ipykernel_83080/935186160.py:47: FutureWarning: Series.__getitem__ treating keys as positions is deprecated. In a future version, integer keys will always be treated as labels (consistent with DataFrame behavior). To access a value by position, use `ser.iloc[pos]`\n",
      "  use_col_names.update({col_names[l]:l})\n"
     ]
    },
    {
     "name": "stdout",
     "output_type": "stream",
     "text": [
      "100\n"
     ]
    },
    {
     "name": "stderr",
     "output_type": "stream",
     "text": [
      "/var/folders/xn/9jbxxjcj63b3xbh21qlt_pcr0000gn/T/ipykernel_83080/935186160.py:47: FutureWarning: Series.__getitem__ treating keys as positions is deprecated. In a future version, integer keys will always be treated as labels (consistent with DataFrame behavior). To access a value by position, use `ser.iloc[pos]`\n",
      "  use_col_names.update({col_names[l]:l})\n",
      "/var/folders/xn/9jbxxjcj63b3xbh21qlt_pcr0000gn/T/ipykernel_83080/935186160.py:47: FutureWarning: Series.__getitem__ treating keys as positions is deprecated. In a future version, integer keys will always be treated as labels (consistent with DataFrame behavior). To access a value by position, use `ser.iloc[pos]`\n",
      "  use_col_names.update({col_names[l]:l})\n",
      "/var/folders/xn/9jbxxjcj63b3xbh21qlt_pcr0000gn/T/ipykernel_83080/935186160.py:47: FutureWarning: Series.__getitem__ treating keys as positions is deprecated. In a future version, integer keys will always be treated as labels (consistent with DataFrame behavior). To access a value by position, use `ser.iloc[pos]`\n",
      "  use_col_names.update({col_names[l]:l})\n"
     ]
    },
    {
     "name": "stdout",
     "output_type": "stream",
     "text": [
      "101\n"
     ]
    },
    {
     "name": "stderr",
     "output_type": "stream",
     "text": [
      "/var/folders/xn/9jbxxjcj63b3xbh21qlt_pcr0000gn/T/ipykernel_83080/935186160.py:47: FutureWarning: Series.__getitem__ treating keys as positions is deprecated. In a future version, integer keys will always be treated as labels (consistent with DataFrame behavior). To access a value by position, use `ser.iloc[pos]`\n",
      "  use_col_names.update({col_names[l]:l})\n",
      "/var/folders/xn/9jbxxjcj63b3xbh21qlt_pcr0000gn/T/ipykernel_83080/935186160.py:47: FutureWarning: Series.__getitem__ treating keys as positions is deprecated. In a future version, integer keys will always be treated as labels (consistent with DataFrame behavior). To access a value by position, use `ser.iloc[pos]`\n",
      "  use_col_names.update({col_names[l]:l})\n",
      "/var/folders/xn/9jbxxjcj63b3xbh21qlt_pcr0000gn/T/ipykernel_83080/935186160.py:47: FutureWarning: Series.__getitem__ treating keys as positions is deprecated. In a future version, integer keys will always be treated as labels (consistent with DataFrame behavior). To access a value by position, use `ser.iloc[pos]`\n",
      "  use_col_names.update({col_names[l]:l})\n",
      "/var/folders/xn/9jbxxjcj63b3xbh21qlt_pcr0000gn/T/ipykernel_83080/935186160.py:47: FutureWarning: Series.__getitem__ treating keys as positions is deprecated. In a future version, integer keys will always be treated as labels (consistent with DataFrame behavior). To access a value by position, use `ser.iloc[pos]`\n",
      "  use_col_names.update({col_names[l]:l})\n"
     ]
    },
    {
     "name": "stdout",
     "output_type": "stream",
     "text": [
      "102\n"
     ]
    },
    {
     "name": "stderr",
     "output_type": "stream",
     "text": [
      "/var/folders/xn/9jbxxjcj63b3xbh21qlt_pcr0000gn/T/ipykernel_83080/935186160.py:47: FutureWarning: Series.__getitem__ treating keys as positions is deprecated. In a future version, integer keys will always be treated as labels (consistent with DataFrame behavior). To access a value by position, use `ser.iloc[pos]`\n",
      "  use_col_names.update({col_names[l]:l})\n",
      "/var/folders/xn/9jbxxjcj63b3xbh21qlt_pcr0000gn/T/ipykernel_83080/935186160.py:47: FutureWarning: Series.__getitem__ treating keys as positions is deprecated. In a future version, integer keys will always be treated as labels (consistent with DataFrame behavior). To access a value by position, use `ser.iloc[pos]`\n",
      "  use_col_names.update({col_names[l]:l})\n",
      "/var/folders/xn/9jbxxjcj63b3xbh21qlt_pcr0000gn/T/ipykernel_83080/935186160.py:47: FutureWarning: Series.__getitem__ treating keys as positions is deprecated. In a future version, integer keys will always be treated as labels (consistent with DataFrame behavior). To access a value by position, use `ser.iloc[pos]`\n",
      "  use_col_names.update({col_names[l]:l})\n",
      "/var/folders/xn/9jbxxjcj63b3xbh21qlt_pcr0000gn/T/ipykernel_83080/935186160.py:47: FutureWarning: Series.__getitem__ treating keys as positions is deprecated. In a future version, integer keys will always be treated as labels (consistent with DataFrame behavior). To access a value by position, use `ser.iloc[pos]`\n",
      "  use_col_names.update({col_names[l]:l})\n"
     ]
    },
    {
     "name": "stdout",
     "output_type": "stream",
     "text": [
      "103\n"
     ]
    },
    {
     "name": "stderr",
     "output_type": "stream",
     "text": [
      "/var/folders/xn/9jbxxjcj63b3xbh21qlt_pcr0000gn/T/ipykernel_83080/935186160.py:47: FutureWarning: Series.__getitem__ treating keys as positions is deprecated. In a future version, integer keys will always be treated as labels (consistent with DataFrame behavior). To access a value by position, use `ser.iloc[pos]`\n",
      "  use_col_names.update({col_names[l]:l})\n",
      "/var/folders/xn/9jbxxjcj63b3xbh21qlt_pcr0000gn/T/ipykernel_83080/935186160.py:47: FutureWarning: Series.__getitem__ treating keys as positions is deprecated. In a future version, integer keys will always be treated as labels (consistent with DataFrame behavior). To access a value by position, use `ser.iloc[pos]`\n",
      "  use_col_names.update({col_names[l]:l})\n",
      "/var/folders/xn/9jbxxjcj63b3xbh21qlt_pcr0000gn/T/ipykernel_83080/935186160.py:47: FutureWarning: Series.__getitem__ treating keys as positions is deprecated. In a future version, integer keys will always be treated as labels (consistent with DataFrame behavior). To access a value by position, use `ser.iloc[pos]`\n",
      "  use_col_names.update({col_names[l]:l})\n",
      "/var/folders/xn/9jbxxjcj63b3xbh21qlt_pcr0000gn/T/ipykernel_83080/935186160.py:47: FutureWarning: Series.__getitem__ treating keys as positions is deprecated. In a future version, integer keys will always be treated as labels (consistent with DataFrame behavior). To access a value by position, use `ser.iloc[pos]`\n",
      "  use_col_names.update({col_names[l]:l})\n"
     ]
    },
    {
     "name": "stdout",
     "output_type": "stream",
     "text": [
      "104\n"
     ]
    },
    {
     "name": "stderr",
     "output_type": "stream",
     "text": [
      "/var/folders/xn/9jbxxjcj63b3xbh21qlt_pcr0000gn/T/ipykernel_83080/935186160.py:47: FutureWarning: Series.__getitem__ treating keys as positions is deprecated. In a future version, integer keys will always be treated as labels (consistent with DataFrame behavior). To access a value by position, use `ser.iloc[pos]`\n",
      "  use_col_names.update({col_names[l]:l})\n",
      "/var/folders/xn/9jbxxjcj63b3xbh21qlt_pcr0000gn/T/ipykernel_83080/935186160.py:47: FutureWarning: Series.__getitem__ treating keys as positions is deprecated. In a future version, integer keys will always be treated as labels (consistent with DataFrame behavior). To access a value by position, use `ser.iloc[pos]`\n",
      "  use_col_names.update({col_names[l]:l})\n",
      "/var/folders/xn/9jbxxjcj63b3xbh21qlt_pcr0000gn/T/ipykernel_83080/935186160.py:47: FutureWarning: Series.__getitem__ treating keys as positions is deprecated. In a future version, integer keys will always be treated as labels (consistent with DataFrame behavior). To access a value by position, use `ser.iloc[pos]`\n",
      "  use_col_names.update({col_names[l]:l})\n",
      "/var/folders/xn/9jbxxjcj63b3xbh21qlt_pcr0000gn/T/ipykernel_83080/935186160.py:47: FutureWarning: Series.__getitem__ treating keys as positions is deprecated. In a future version, integer keys will always be treated as labels (consistent with DataFrame behavior). To access a value by position, use `ser.iloc[pos]`\n",
      "  use_col_names.update({col_names[l]:l})\n"
     ]
    },
    {
     "name": "stdout",
     "output_type": "stream",
     "text": [
      "105\n"
     ]
    },
    {
     "name": "stderr",
     "output_type": "stream",
     "text": [
      "/var/folders/xn/9jbxxjcj63b3xbh21qlt_pcr0000gn/T/ipykernel_83080/935186160.py:47: FutureWarning: Series.__getitem__ treating keys as positions is deprecated. In a future version, integer keys will always be treated as labels (consistent with DataFrame behavior). To access a value by position, use `ser.iloc[pos]`\n",
      "  use_col_names.update({col_names[l]:l})\n",
      "/var/folders/xn/9jbxxjcj63b3xbh21qlt_pcr0000gn/T/ipykernel_83080/935186160.py:47: FutureWarning: Series.__getitem__ treating keys as positions is deprecated. In a future version, integer keys will always be treated as labels (consistent with DataFrame behavior). To access a value by position, use `ser.iloc[pos]`\n",
      "  use_col_names.update({col_names[l]:l})\n",
      "/var/folders/xn/9jbxxjcj63b3xbh21qlt_pcr0000gn/T/ipykernel_83080/935186160.py:47: FutureWarning: Series.__getitem__ treating keys as positions is deprecated. In a future version, integer keys will always be treated as labels (consistent with DataFrame behavior). To access a value by position, use `ser.iloc[pos]`\n",
      "  use_col_names.update({col_names[l]:l})\n",
      "/var/folders/xn/9jbxxjcj63b3xbh21qlt_pcr0000gn/T/ipykernel_83080/935186160.py:47: FutureWarning: Series.__getitem__ treating keys as positions is deprecated. In a future version, integer keys will always be treated as labels (consistent with DataFrame behavior). To access a value by position, use `ser.iloc[pos]`\n",
      "  use_col_names.update({col_names[l]:l})\n"
     ]
    },
    {
     "name": "stdout",
     "output_type": "stream",
     "text": [
      "106\n"
     ]
    },
    {
     "name": "stderr",
     "output_type": "stream",
     "text": [
      "/var/folders/xn/9jbxxjcj63b3xbh21qlt_pcr0000gn/T/ipykernel_83080/935186160.py:47: FutureWarning: Series.__getitem__ treating keys as positions is deprecated. In a future version, integer keys will always be treated as labels (consistent with DataFrame behavior). To access a value by position, use `ser.iloc[pos]`\n",
      "  use_col_names.update({col_names[l]:l})\n",
      "/var/folders/xn/9jbxxjcj63b3xbh21qlt_pcr0000gn/T/ipykernel_83080/935186160.py:47: FutureWarning: Series.__getitem__ treating keys as positions is deprecated. In a future version, integer keys will always be treated as labels (consistent with DataFrame behavior). To access a value by position, use `ser.iloc[pos]`\n",
      "  use_col_names.update({col_names[l]:l})\n",
      "/var/folders/xn/9jbxxjcj63b3xbh21qlt_pcr0000gn/T/ipykernel_83080/935186160.py:47: FutureWarning: Series.__getitem__ treating keys as positions is deprecated. In a future version, integer keys will always be treated as labels (consistent with DataFrame behavior). To access a value by position, use `ser.iloc[pos]`\n",
      "  use_col_names.update({col_names[l]:l})\n",
      "/var/folders/xn/9jbxxjcj63b3xbh21qlt_pcr0000gn/T/ipykernel_83080/935186160.py:47: FutureWarning: Series.__getitem__ treating keys as positions is deprecated. In a future version, integer keys will always be treated as labels (consistent with DataFrame behavior). To access a value by position, use `ser.iloc[pos]`\n",
      "  use_col_names.update({col_names[l]:l})\n"
     ]
    },
    {
     "name": "stdout",
     "output_type": "stream",
     "text": [
      "107\n"
     ]
    },
    {
     "name": "stderr",
     "output_type": "stream",
     "text": [
      "/var/folders/xn/9jbxxjcj63b3xbh21qlt_pcr0000gn/T/ipykernel_83080/935186160.py:47: FutureWarning: Series.__getitem__ treating keys as positions is deprecated. In a future version, integer keys will always be treated as labels (consistent with DataFrame behavior). To access a value by position, use `ser.iloc[pos]`\n",
      "  use_col_names.update({col_names[l]:l})\n",
      "/var/folders/xn/9jbxxjcj63b3xbh21qlt_pcr0000gn/T/ipykernel_83080/935186160.py:47: FutureWarning: Series.__getitem__ treating keys as positions is deprecated. In a future version, integer keys will always be treated as labels (consistent with DataFrame behavior). To access a value by position, use `ser.iloc[pos]`\n",
      "  use_col_names.update({col_names[l]:l})\n",
      "/var/folders/xn/9jbxxjcj63b3xbh21qlt_pcr0000gn/T/ipykernel_83080/935186160.py:47: FutureWarning: Series.__getitem__ treating keys as positions is deprecated. In a future version, integer keys will always be treated as labels (consistent with DataFrame behavior). To access a value by position, use `ser.iloc[pos]`\n",
      "  use_col_names.update({col_names[l]:l})\n",
      "/var/folders/xn/9jbxxjcj63b3xbh21qlt_pcr0000gn/T/ipykernel_83080/935186160.py:47: FutureWarning: Series.__getitem__ treating keys as positions is deprecated. In a future version, integer keys will always be treated as labels (consistent with DataFrame behavior). To access a value by position, use `ser.iloc[pos]`\n",
      "  use_col_names.update({col_names[l]:l})\n",
      "/var/folders/xn/9jbxxjcj63b3xbh21qlt_pcr0000gn/T/ipykernel_83080/935186160.py:47: FutureWarning: Series.__getitem__ treating keys as positions is deprecated. In a future version, integer keys will always be treated as labels (consistent with DataFrame behavior). To access a value by position, use `ser.iloc[pos]`\n",
      "  use_col_names.update({col_names[l]:l})\n"
     ]
    },
    {
     "name": "stdout",
     "output_type": "stream",
     "text": [
      "108\n"
     ]
    },
    {
     "name": "stderr",
     "output_type": "stream",
     "text": [
      "/var/folders/xn/9jbxxjcj63b3xbh21qlt_pcr0000gn/T/ipykernel_83080/935186160.py:47: FutureWarning: Series.__getitem__ treating keys as positions is deprecated. In a future version, integer keys will always be treated as labels (consistent with DataFrame behavior). To access a value by position, use `ser.iloc[pos]`\n",
      "  use_col_names.update({col_names[l]:l})\n",
      "/var/folders/xn/9jbxxjcj63b3xbh21qlt_pcr0000gn/T/ipykernel_83080/935186160.py:47: FutureWarning: Series.__getitem__ treating keys as positions is deprecated. In a future version, integer keys will always be treated as labels (consistent with DataFrame behavior). To access a value by position, use `ser.iloc[pos]`\n",
      "  use_col_names.update({col_names[l]:l})\n",
      "/var/folders/xn/9jbxxjcj63b3xbh21qlt_pcr0000gn/T/ipykernel_83080/935186160.py:47: FutureWarning: Series.__getitem__ treating keys as positions is deprecated. In a future version, integer keys will always be treated as labels (consistent with DataFrame behavior). To access a value by position, use `ser.iloc[pos]`\n",
      "  use_col_names.update({col_names[l]:l})\n"
     ]
    },
    {
     "name": "stdout",
     "output_type": "stream",
     "text": [
      "109\n"
     ]
    },
    {
     "name": "stderr",
     "output_type": "stream",
     "text": [
      "/var/folders/xn/9jbxxjcj63b3xbh21qlt_pcr0000gn/T/ipykernel_83080/935186160.py:47: FutureWarning: Series.__getitem__ treating keys as positions is deprecated. In a future version, integer keys will always be treated as labels (consistent with DataFrame behavior). To access a value by position, use `ser.iloc[pos]`\n",
      "  use_col_names.update({col_names[l]:l})\n",
      "/var/folders/xn/9jbxxjcj63b3xbh21qlt_pcr0000gn/T/ipykernel_83080/935186160.py:47: FutureWarning: Series.__getitem__ treating keys as positions is deprecated. In a future version, integer keys will always be treated as labels (consistent with DataFrame behavior). To access a value by position, use `ser.iloc[pos]`\n",
      "  use_col_names.update({col_names[l]:l})\n",
      "/var/folders/xn/9jbxxjcj63b3xbh21qlt_pcr0000gn/T/ipykernel_83080/935186160.py:47: FutureWarning: Series.__getitem__ treating keys as positions is deprecated. In a future version, integer keys will always be treated as labels (consistent with DataFrame behavior). To access a value by position, use `ser.iloc[pos]`\n",
      "  use_col_names.update({col_names[l]:l})\n",
      "/var/folders/xn/9jbxxjcj63b3xbh21qlt_pcr0000gn/T/ipykernel_83080/935186160.py:47: FutureWarning: Series.__getitem__ treating keys as positions is deprecated. In a future version, integer keys will always be treated as labels (consistent with DataFrame behavior). To access a value by position, use `ser.iloc[pos]`\n",
      "  use_col_names.update({col_names[l]:l})\n"
     ]
    },
    {
     "name": "stdout",
     "output_type": "stream",
     "text": [
      "110\n"
     ]
    },
    {
     "name": "stderr",
     "output_type": "stream",
     "text": [
      "/var/folders/xn/9jbxxjcj63b3xbh21qlt_pcr0000gn/T/ipykernel_83080/935186160.py:47: FutureWarning: Series.__getitem__ treating keys as positions is deprecated. In a future version, integer keys will always be treated as labels (consistent with DataFrame behavior). To access a value by position, use `ser.iloc[pos]`\n",
      "  use_col_names.update({col_names[l]:l})\n",
      "/var/folders/xn/9jbxxjcj63b3xbh21qlt_pcr0000gn/T/ipykernel_83080/935186160.py:47: FutureWarning: Series.__getitem__ treating keys as positions is deprecated. In a future version, integer keys will always be treated as labels (consistent with DataFrame behavior). To access a value by position, use `ser.iloc[pos]`\n",
      "  use_col_names.update({col_names[l]:l})\n",
      "/var/folders/xn/9jbxxjcj63b3xbh21qlt_pcr0000gn/T/ipykernel_83080/935186160.py:47: FutureWarning: Series.__getitem__ treating keys as positions is deprecated. In a future version, integer keys will always be treated as labels (consistent with DataFrame behavior). To access a value by position, use `ser.iloc[pos]`\n",
      "  use_col_names.update({col_names[l]:l})\n",
      "/var/folders/xn/9jbxxjcj63b3xbh21qlt_pcr0000gn/T/ipykernel_83080/935186160.py:47: FutureWarning: Series.__getitem__ treating keys as positions is deprecated. In a future version, integer keys will always be treated as labels (consistent with DataFrame behavior). To access a value by position, use `ser.iloc[pos]`\n",
      "  use_col_names.update({col_names[l]:l})\n"
     ]
    },
    {
     "name": "stdout",
     "output_type": "stream",
     "text": [
      "111\n"
     ]
    },
    {
     "name": "stderr",
     "output_type": "stream",
     "text": [
      "/var/folders/xn/9jbxxjcj63b3xbh21qlt_pcr0000gn/T/ipykernel_83080/935186160.py:47: FutureWarning: Series.__getitem__ treating keys as positions is deprecated. In a future version, integer keys will always be treated as labels (consistent with DataFrame behavior). To access a value by position, use `ser.iloc[pos]`\n",
      "  use_col_names.update({col_names[l]:l})\n",
      "/var/folders/xn/9jbxxjcj63b3xbh21qlt_pcr0000gn/T/ipykernel_83080/935186160.py:47: FutureWarning: Series.__getitem__ treating keys as positions is deprecated. In a future version, integer keys will always be treated as labels (consistent with DataFrame behavior). To access a value by position, use `ser.iloc[pos]`\n",
      "  use_col_names.update({col_names[l]:l})\n",
      "/var/folders/xn/9jbxxjcj63b3xbh21qlt_pcr0000gn/T/ipykernel_83080/935186160.py:47: FutureWarning: Series.__getitem__ treating keys as positions is deprecated. In a future version, integer keys will always be treated as labels (consistent with DataFrame behavior). To access a value by position, use `ser.iloc[pos]`\n",
      "  use_col_names.update({col_names[l]:l})\n",
      "/var/folders/xn/9jbxxjcj63b3xbh21qlt_pcr0000gn/T/ipykernel_83080/935186160.py:47: FutureWarning: Series.__getitem__ treating keys as positions is deprecated. In a future version, integer keys will always be treated as labels (consistent with DataFrame behavior). To access a value by position, use `ser.iloc[pos]`\n",
      "  use_col_names.update({col_names[l]:l})\n"
     ]
    },
    {
     "name": "stdout",
     "output_type": "stream",
     "text": [
      "112\n"
     ]
    },
    {
     "name": "stderr",
     "output_type": "stream",
     "text": [
      "/var/folders/xn/9jbxxjcj63b3xbh21qlt_pcr0000gn/T/ipykernel_83080/935186160.py:47: FutureWarning: Series.__getitem__ treating keys as positions is deprecated. In a future version, integer keys will always be treated as labels (consistent with DataFrame behavior). To access a value by position, use `ser.iloc[pos]`\n",
      "  use_col_names.update({col_names[l]:l})\n",
      "/var/folders/xn/9jbxxjcj63b3xbh21qlt_pcr0000gn/T/ipykernel_83080/935186160.py:47: FutureWarning: Series.__getitem__ treating keys as positions is deprecated. In a future version, integer keys will always be treated as labels (consistent with DataFrame behavior). To access a value by position, use `ser.iloc[pos]`\n",
      "  use_col_names.update({col_names[l]:l})\n",
      "/var/folders/xn/9jbxxjcj63b3xbh21qlt_pcr0000gn/T/ipykernel_83080/935186160.py:47: FutureWarning: Series.__getitem__ treating keys as positions is deprecated. In a future version, integer keys will always be treated as labels (consistent with DataFrame behavior). To access a value by position, use `ser.iloc[pos]`\n",
      "  use_col_names.update({col_names[l]:l})\n",
      "/var/folders/xn/9jbxxjcj63b3xbh21qlt_pcr0000gn/T/ipykernel_83080/935186160.py:47: FutureWarning: Series.__getitem__ treating keys as positions is deprecated. In a future version, integer keys will always be treated as labels (consistent with DataFrame behavior). To access a value by position, use `ser.iloc[pos]`\n",
      "  use_col_names.update({col_names[l]:l})\n"
     ]
    },
    {
     "name": "stdout",
     "output_type": "stream",
     "text": [
      "113\n"
     ]
    },
    {
     "name": "stderr",
     "output_type": "stream",
     "text": [
      "/var/folders/xn/9jbxxjcj63b3xbh21qlt_pcr0000gn/T/ipykernel_83080/935186160.py:47: FutureWarning: Series.__getitem__ treating keys as positions is deprecated. In a future version, integer keys will always be treated as labels (consistent with DataFrame behavior). To access a value by position, use `ser.iloc[pos]`\n",
      "  use_col_names.update({col_names[l]:l})\n",
      "/var/folders/xn/9jbxxjcj63b3xbh21qlt_pcr0000gn/T/ipykernel_83080/935186160.py:47: FutureWarning: Series.__getitem__ treating keys as positions is deprecated. In a future version, integer keys will always be treated as labels (consistent with DataFrame behavior). To access a value by position, use `ser.iloc[pos]`\n",
      "  use_col_names.update({col_names[l]:l})\n",
      "/var/folders/xn/9jbxxjcj63b3xbh21qlt_pcr0000gn/T/ipykernel_83080/935186160.py:47: FutureWarning: Series.__getitem__ treating keys as positions is deprecated. In a future version, integer keys will always be treated as labels (consistent with DataFrame behavior). To access a value by position, use `ser.iloc[pos]`\n",
      "  use_col_names.update({col_names[l]:l})\n",
      "/var/folders/xn/9jbxxjcj63b3xbh21qlt_pcr0000gn/T/ipykernel_83080/935186160.py:47: FutureWarning: Series.__getitem__ treating keys as positions is deprecated. In a future version, integer keys will always be treated as labels (consistent with DataFrame behavior). To access a value by position, use `ser.iloc[pos]`\n",
      "  use_col_names.update({col_names[l]:l})\n",
      "/var/folders/xn/9jbxxjcj63b3xbh21qlt_pcr0000gn/T/ipykernel_83080/935186160.py:47: FutureWarning: Series.__getitem__ treating keys as positions is deprecated. In a future version, integer keys will always be treated as labels (consistent with DataFrame behavior). To access a value by position, use `ser.iloc[pos]`\n",
      "  use_col_names.update({col_names[l]:l})\n"
     ]
    },
    {
     "name": "stdout",
     "output_type": "stream",
     "text": [
      "114\n"
     ]
    },
    {
     "name": "stderr",
     "output_type": "stream",
     "text": [
      "/var/folders/xn/9jbxxjcj63b3xbh21qlt_pcr0000gn/T/ipykernel_83080/935186160.py:47: FutureWarning: Series.__getitem__ treating keys as positions is deprecated. In a future version, integer keys will always be treated as labels (consistent with DataFrame behavior). To access a value by position, use `ser.iloc[pos]`\n",
      "  use_col_names.update({col_names[l]:l})\n",
      "/var/folders/xn/9jbxxjcj63b3xbh21qlt_pcr0000gn/T/ipykernel_83080/935186160.py:47: FutureWarning: Series.__getitem__ treating keys as positions is deprecated. In a future version, integer keys will always be treated as labels (consistent with DataFrame behavior). To access a value by position, use `ser.iloc[pos]`\n",
      "  use_col_names.update({col_names[l]:l})\n",
      "/var/folders/xn/9jbxxjcj63b3xbh21qlt_pcr0000gn/T/ipykernel_83080/935186160.py:47: FutureWarning: Series.__getitem__ treating keys as positions is deprecated. In a future version, integer keys will always be treated as labels (consistent with DataFrame behavior). To access a value by position, use `ser.iloc[pos]`\n",
      "  use_col_names.update({col_names[l]:l})\n"
     ]
    },
    {
     "name": "stdout",
     "output_type": "stream",
     "text": [
      "115\n"
     ]
    },
    {
     "name": "stderr",
     "output_type": "stream",
     "text": [
      "/var/folders/xn/9jbxxjcj63b3xbh21qlt_pcr0000gn/T/ipykernel_83080/935186160.py:47: FutureWarning: Series.__getitem__ treating keys as positions is deprecated. In a future version, integer keys will always be treated as labels (consistent with DataFrame behavior). To access a value by position, use `ser.iloc[pos]`\n",
      "  use_col_names.update({col_names[l]:l})\n",
      "/var/folders/xn/9jbxxjcj63b3xbh21qlt_pcr0000gn/T/ipykernel_83080/935186160.py:47: FutureWarning: Series.__getitem__ treating keys as positions is deprecated. In a future version, integer keys will always be treated as labels (consistent with DataFrame behavior). To access a value by position, use `ser.iloc[pos]`\n",
      "  use_col_names.update({col_names[l]:l})\n",
      "/var/folders/xn/9jbxxjcj63b3xbh21qlt_pcr0000gn/T/ipykernel_83080/935186160.py:47: FutureWarning: Series.__getitem__ treating keys as positions is deprecated. In a future version, integer keys will always be treated as labels (consistent with DataFrame behavior). To access a value by position, use `ser.iloc[pos]`\n",
      "  use_col_names.update({col_names[l]:l})\n",
      "/var/folders/xn/9jbxxjcj63b3xbh21qlt_pcr0000gn/T/ipykernel_83080/935186160.py:47: FutureWarning: Series.__getitem__ treating keys as positions is deprecated. In a future version, integer keys will always be treated as labels (consistent with DataFrame behavior). To access a value by position, use `ser.iloc[pos]`\n",
      "  use_col_names.update({col_names[l]:l})\n"
     ]
    },
    {
     "name": "stdout",
     "output_type": "stream",
     "text": [
      "116\n"
     ]
    },
    {
     "name": "stderr",
     "output_type": "stream",
     "text": [
      "/var/folders/xn/9jbxxjcj63b3xbh21qlt_pcr0000gn/T/ipykernel_83080/935186160.py:47: FutureWarning: Series.__getitem__ treating keys as positions is deprecated. In a future version, integer keys will always be treated as labels (consistent with DataFrame behavior). To access a value by position, use `ser.iloc[pos]`\n",
      "  use_col_names.update({col_names[l]:l})\n",
      "/var/folders/xn/9jbxxjcj63b3xbh21qlt_pcr0000gn/T/ipykernel_83080/935186160.py:47: FutureWarning: Series.__getitem__ treating keys as positions is deprecated. In a future version, integer keys will always be treated as labels (consistent with DataFrame behavior). To access a value by position, use `ser.iloc[pos]`\n",
      "  use_col_names.update({col_names[l]:l})\n",
      "/var/folders/xn/9jbxxjcj63b3xbh21qlt_pcr0000gn/T/ipykernel_83080/935186160.py:47: FutureWarning: Series.__getitem__ treating keys as positions is deprecated. In a future version, integer keys will always be treated as labels (consistent with DataFrame behavior). To access a value by position, use `ser.iloc[pos]`\n",
      "  use_col_names.update({col_names[l]:l})\n",
      "/var/folders/xn/9jbxxjcj63b3xbh21qlt_pcr0000gn/T/ipykernel_83080/935186160.py:47: FutureWarning: Series.__getitem__ treating keys as positions is deprecated. In a future version, integer keys will always be treated as labels (consistent with DataFrame behavior). To access a value by position, use `ser.iloc[pos]`\n",
      "  use_col_names.update({col_names[l]:l})\n"
     ]
    },
    {
     "name": "stdout",
     "output_type": "stream",
     "text": [
      "117\n"
     ]
    },
    {
     "name": "stderr",
     "output_type": "stream",
     "text": [
      "/var/folders/xn/9jbxxjcj63b3xbh21qlt_pcr0000gn/T/ipykernel_83080/935186160.py:47: FutureWarning: Series.__getitem__ treating keys as positions is deprecated. In a future version, integer keys will always be treated as labels (consistent with DataFrame behavior). To access a value by position, use `ser.iloc[pos]`\n",
      "  use_col_names.update({col_names[l]:l})\n",
      "/var/folders/xn/9jbxxjcj63b3xbh21qlt_pcr0000gn/T/ipykernel_83080/935186160.py:47: FutureWarning: Series.__getitem__ treating keys as positions is deprecated. In a future version, integer keys will always be treated as labels (consistent with DataFrame behavior). To access a value by position, use `ser.iloc[pos]`\n",
      "  use_col_names.update({col_names[l]:l})\n",
      "/var/folders/xn/9jbxxjcj63b3xbh21qlt_pcr0000gn/T/ipykernel_83080/935186160.py:47: FutureWarning: Series.__getitem__ treating keys as positions is deprecated. In a future version, integer keys will always be treated as labels (consistent with DataFrame behavior). To access a value by position, use `ser.iloc[pos]`\n",
      "  use_col_names.update({col_names[l]:l})\n",
      "/var/folders/xn/9jbxxjcj63b3xbh21qlt_pcr0000gn/T/ipykernel_83080/935186160.py:47: FutureWarning: Series.__getitem__ treating keys as positions is deprecated. In a future version, integer keys will always be treated as labels (consistent with DataFrame behavior). To access a value by position, use `ser.iloc[pos]`\n",
      "  use_col_names.update({col_names[l]:l})\n"
     ]
    },
    {
     "name": "stdout",
     "output_type": "stream",
     "text": [
      "118\n"
     ]
    },
    {
     "name": "stderr",
     "output_type": "stream",
     "text": [
      "/var/folders/xn/9jbxxjcj63b3xbh21qlt_pcr0000gn/T/ipykernel_83080/935186160.py:47: FutureWarning: Series.__getitem__ treating keys as positions is deprecated. In a future version, integer keys will always be treated as labels (consistent with DataFrame behavior). To access a value by position, use `ser.iloc[pos]`\n",
      "  use_col_names.update({col_names[l]:l})\n",
      "/var/folders/xn/9jbxxjcj63b3xbh21qlt_pcr0000gn/T/ipykernel_83080/935186160.py:47: FutureWarning: Series.__getitem__ treating keys as positions is deprecated. In a future version, integer keys will always be treated as labels (consistent with DataFrame behavior). To access a value by position, use `ser.iloc[pos]`\n",
      "  use_col_names.update({col_names[l]:l})\n",
      "/var/folders/xn/9jbxxjcj63b3xbh21qlt_pcr0000gn/T/ipykernel_83080/935186160.py:47: FutureWarning: Series.__getitem__ treating keys as positions is deprecated. In a future version, integer keys will always be treated as labels (consistent with DataFrame behavior). To access a value by position, use `ser.iloc[pos]`\n",
      "  use_col_names.update({col_names[l]:l})\n",
      "/var/folders/xn/9jbxxjcj63b3xbh21qlt_pcr0000gn/T/ipykernel_83080/935186160.py:47: FutureWarning: Series.__getitem__ treating keys as positions is deprecated. In a future version, integer keys will always be treated as labels (consistent with DataFrame behavior). To access a value by position, use `ser.iloc[pos]`\n",
      "  use_col_names.update({col_names[l]:l})\n"
     ]
    },
    {
     "name": "stdout",
     "output_type": "stream",
     "text": [
      "119\n"
     ]
    },
    {
     "name": "stderr",
     "output_type": "stream",
     "text": [
      "/var/folders/xn/9jbxxjcj63b3xbh21qlt_pcr0000gn/T/ipykernel_83080/935186160.py:47: FutureWarning: Series.__getitem__ treating keys as positions is deprecated. In a future version, integer keys will always be treated as labels (consistent with DataFrame behavior). To access a value by position, use `ser.iloc[pos]`\n",
      "  use_col_names.update({col_names[l]:l})\n",
      "/var/folders/xn/9jbxxjcj63b3xbh21qlt_pcr0000gn/T/ipykernel_83080/935186160.py:47: FutureWarning: Series.__getitem__ treating keys as positions is deprecated. In a future version, integer keys will always be treated as labels (consistent with DataFrame behavior). To access a value by position, use `ser.iloc[pos]`\n",
      "  use_col_names.update({col_names[l]:l})\n",
      "/var/folders/xn/9jbxxjcj63b3xbh21qlt_pcr0000gn/T/ipykernel_83080/935186160.py:47: FutureWarning: Series.__getitem__ treating keys as positions is deprecated. In a future version, integer keys will always be treated as labels (consistent with DataFrame behavior). To access a value by position, use `ser.iloc[pos]`\n",
      "  use_col_names.update({col_names[l]:l})\n",
      "/var/folders/xn/9jbxxjcj63b3xbh21qlt_pcr0000gn/T/ipykernel_83080/935186160.py:47: FutureWarning: Series.__getitem__ treating keys as positions is deprecated. In a future version, integer keys will always be treated as labels (consistent with DataFrame behavior). To access a value by position, use `ser.iloc[pos]`\n",
      "  use_col_names.update({col_names[l]:l})\n"
     ]
    },
    {
     "name": "stdout",
     "output_type": "stream",
     "text": [
      "120\n"
     ]
    },
    {
     "name": "stderr",
     "output_type": "stream",
     "text": [
      "/var/folders/xn/9jbxxjcj63b3xbh21qlt_pcr0000gn/T/ipykernel_83080/935186160.py:47: FutureWarning: Series.__getitem__ treating keys as positions is deprecated. In a future version, integer keys will always be treated as labels (consistent with DataFrame behavior). To access a value by position, use `ser.iloc[pos]`\n",
      "  use_col_names.update({col_names[l]:l})\n",
      "/var/folders/xn/9jbxxjcj63b3xbh21qlt_pcr0000gn/T/ipykernel_83080/935186160.py:47: FutureWarning: Series.__getitem__ treating keys as positions is deprecated. In a future version, integer keys will always be treated as labels (consistent with DataFrame behavior). To access a value by position, use `ser.iloc[pos]`\n",
      "  use_col_names.update({col_names[l]:l})\n",
      "/var/folders/xn/9jbxxjcj63b3xbh21qlt_pcr0000gn/T/ipykernel_83080/935186160.py:47: FutureWarning: Series.__getitem__ treating keys as positions is deprecated. In a future version, integer keys will always be treated as labels (consistent with DataFrame behavior). To access a value by position, use `ser.iloc[pos]`\n",
      "  use_col_names.update({col_names[l]:l})\n",
      "/var/folders/xn/9jbxxjcj63b3xbh21qlt_pcr0000gn/T/ipykernel_83080/935186160.py:47: FutureWarning: Series.__getitem__ treating keys as positions is deprecated. In a future version, integer keys will always be treated as labels (consistent with DataFrame behavior). To access a value by position, use `ser.iloc[pos]`\n",
      "  use_col_names.update({col_names[l]:l})\n"
     ]
    },
    {
     "name": "stdout",
     "output_type": "stream",
     "text": [
      "121\n"
     ]
    },
    {
     "name": "stderr",
     "output_type": "stream",
     "text": [
      "/var/folders/xn/9jbxxjcj63b3xbh21qlt_pcr0000gn/T/ipykernel_83080/935186160.py:47: FutureWarning: Series.__getitem__ treating keys as positions is deprecated. In a future version, integer keys will always be treated as labels (consistent with DataFrame behavior). To access a value by position, use `ser.iloc[pos]`\n",
      "  use_col_names.update({col_names[l]:l})\n",
      "/var/folders/xn/9jbxxjcj63b3xbh21qlt_pcr0000gn/T/ipykernel_83080/935186160.py:47: FutureWarning: Series.__getitem__ treating keys as positions is deprecated. In a future version, integer keys will always be treated as labels (consistent with DataFrame behavior). To access a value by position, use `ser.iloc[pos]`\n",
      "  use_col_names.update({col_names[l]:l})\n",
      "/var/folders/xn/9jbxxjcj63b3xbh21qlt_pcr0000gn/T/ipykernel_83080/935186160.py:47: FutureWarning: Series.__getitem__ treating keys as positions is deprecated. In a future version, integer keys will always be treated as labels (consistent with DataFrame behavior). To access a value by position, use `ser.iloc[pos]`\n",
      "  use_col_names.update({col_names[l]:l})\n",
      "/var/folders/xn/9jbxxjcj63b3xbh21qlt_pcr0000gn/T/ipykernel_83080/935186160.py:47: FutureWarning: Series.__getitem__ treating keys as positions is deprecated. In a future version, integer keys will always be treated as labels (consistent with DataFrame behavior). To access a value by position, use `ser.iloc[pos]`\n",
      "  use_col_names.update({col_names[l]:l})\n",
      "/var/folders/xn/9jbxxjcj63b3xbh21qlt_pcr0000gn/T/ipykernel_83080/935186160.py:47: FutureWarning: Series.__getitem__ treating keys as positions is deprecated. In a future version, integer keys will always be treated as labels (consistent with DataFrame behavior). To access a value by position, use `ser.iloc[pos]`\n",
      "  use_col_names.update({col_names[l]:l})\n"
     ]
    },
    {
     "name": "stdout",
     "output_type": "stream",
     "text": [
      "122\n"
     ]
    },
    {
     "name": "stderr",
     "output_type": "stream",
     "text": [
      "/var/folders/xn/9jbxxjcj63b3xbh21qlt_pcr0000gn/T/ipykernel_83080/935186160.py:47: FutureWarning: Series.__getitem__ treating keys as positions is deprecated. In a future version, integer keys will always be treated as labels (consistent with DataFrame behavior). To access a value by position, use `ser.iloc[pos]`\n",
      "  use_col_names.update({col_names[l]:l})\n",
      "/var/folders/xn/9jbxxjcj63b3xbh21qlt_pcr0000gn/T/ipykernel_83080/935186160.py:47: FutureWarning: Series.__getitem__ treating keys as positions is deprecated. In a future version, integer keys will always be treated as labels (consistent with DataFrame behavior). To access a value by position, use `ser.iloc[pos]`\n",
      "  use_col_names.update({col_names[l]:l})\n",
      "/var/folders/xn/9jbxxjcj63b3xbh21qlt_pcr0000gn/T/ipykernel_83080/935186160.py:47: FutureWarning: Series.__getitem__ treating keys as positions is deprecated. In a future version, integer keys will always be treated as labels (consistent with DataFrame behavior). To access a value by position, use `ser.iloc[pos]`\n",
      "  use_col_names.update({col_names[l]:l})\n",
      "/var/folders/xn/9jbxxjcj63b3xbh21qlt_pcr0000gn/T/ipykernel_83080/935186160.py:47: FutureWarning: Series.__getitem__ treating keys as positions is deprecated. In a future version, integer keys will always be treated as labels (consistent with DataFrame behavior). To access a value by position, use `ser.iloc[pos]`\n",
      "  use_col_names.update({col_names[l]:l})\n"
     ]
    },
    {
     "name": "stdout",
     "output_type": "stream",
     "text": [
      "123\n"
     ]
    },
    {
     "name": "stderr",
     "output_type": "stream",
     "text": [
      "/var/folders/xn/9jbxxjcj63b3xbh21qlt_pcr0000gn/T/ipykernel_83080/935186160.py:47: FutureWarning: Series.__getitem__ treating keys as positions is deprecated. In a future version, integer keys will always be treated as labels (consistent with DataFrame behavior). To access a value by position, use `ser.iloc[pos]`\n",
      "  use_col_names.update({col_names[l]:l})\n",
      "/var/folders/xn/9jbxxjcj63b3xbh21qlt_pcr0000gn/T/ipykernel_83080/935186160.py:47: FutureWarning: Series.__getitem__ treating keys as positions is deprecated. In a future version, integer keys will always be treated as labels (consistent with DataFrame behavior). To access a value by position, use `ser.iloc[pos]`\n",
      "  use_col_names.update({col_names[l]:l})\n",
      "/var/folders/xn/9jbxxjcj63b3xbh21qlt_pcr0000gn/T/ipykernel_83080/935186160.py:47: FutureWarning: Series.__getitem__ treating keys as positions is deprecated. In a future version, integer keys will always be treated as labels (consistent with DataFrame behavior). To access a value by position, use `ser.iloc[pos]`\n",
      "  use_col_names.update({col_names[l]:l})\n"
     ]
    },
    {
     "name": "stdout",
     "output_type": "stream",
     "text": [
      "124\n"
     ]
    },
    {
     "name": "stderr",
     "output_type": "stream",
     "text": [
      "/var/folders/xn/9jbxxjcj63b3xbh21qlt_pcr0000gn/T/ipykernel_83080/935186160.py:47: FutureWarning: Series.__getitem__ treating keys as positions is deprecated. In a future version, integer keys will always be treated as labels (consistent with DataFrame behavior). To access a value by position, use `ser.iloc[pos]`\n",
      "  use_col_names.update({col_names[l]:l})\n",
      "/var/folders/xn/9jbxxjcj63b3xbh21qlt_pcr0000gn/T/ipykernel_83080/935186160.py:47: FutureWarning: Series.__getitem__ treating keys as positions is deprecated. In a future version, integer keys will always be treated as labels (consistent with DataFrame behavior). To access a value by position, use `ser.iloc[pos]`\n",
      "  use_col_names.update({col_names[l]:l})\n",
      "/var/folders/xn/9jbxxjcj63b3xbh21qlt_pcr0000gn/T/ipykernel_83080/935186160.py:47: FutureWarning: Series.__getitem__ treating keys as positions is deprecated. In a future version, integer keys will always be treated as labels (consistent with DataFrame behavior). To access a value by position, use `ser.iloc[pos]`\n",
      "  use_col_names.update({col_names[l]:l})\n",
      "/var/folders/xn/9jbxxjcj63b3xbh21qlt_pcr0000gn/T/ipykernel_83080/935186160.py:47: FutureWarning: Series.__getitem__ treating keys as positions is deprecated. In a future version, integer keys will always be treated as labels (consistent with DataFrame behavior). To access a value by position, use `ser.iloc[pos]`\n",
      "  use_col_names.update({col_names[l]:l})\n"
     ]
    },
    {
     "name": "stdout",
     "output_type": "stream",
     "text": [
      "125\n"
     ]
    },
    {
     "name": "stderr",
     "output_type": "stream",
     "text": [
      "/var/folders/xn/9jbxxjcj63b3xbh21qlt_pcr0000gn/T/ipykernel_83080/935186160.py:47: FutureWarning: Series.__getitem__ treating keys as positions is deprecated. In a future version, integer keys will always be treated as labels (consistent with DataFrame behavior). To access a value by position, use `ser.iloc[pos]`\n",
      "  use_col_names.update({col_names[l]:l})\n",
      "/var/folders/xn/9jbxxjcj63b3xbh21qlt_pcr0000gn/T/ipykernel_83080/935186160.py:47: FutureWarning: Series.__getitem__ treating keys as positions is deprecated. In a future version, integer keys will always be treated as labels (consistent with DataFrame behavior). To access a value by position, use `ser.iloc[pos]`\n",
      "  use_col_names.update({col_names[l]:l})\n",
      "/var/folders/xn/9jbxxjcj63b3xbh21qlt_pcr0000gn/T/ipykernel_83080/935186160.py:47: FutureWarning: Series.__getitem__ treating keys as positions is deprecated. In a future version, integer keys will always be treated as labels (consistent with DataFrame behavior). To access a value by position, use `ser.iloc[pos]`\n",
      "  use_col_names.update({col_names[l]:l})\n",
      "/var/folders/xn/9jbxxjcj63b3xbh21qlt_pcr0000gn/T/ipykernel_83080/935186160.py:47: FutureWarning: Series.__getitem__ treating keys as positions is deprecated. In a future version, integer keys will always be treated as labels (consistent with DataFrame behavior). To access a value by position, use `ser.iloc[pos]`\n",
      "  use_col_names.update({col_names[l]:l})\n"
     ]
    },
    {
     "name": "stdout",
     "output_type": "stream",
     "text": [
      "126\n"
     ]
    },
    {
     "name": "stderr",
     "output_type": "stream",
     "text": [
      "/var/folders/xn/9jbxxjcj63b3xbh21qlt_pcr0000gn/T/ipykernel_83080/935186160.py:47: FutureWarning: Series.__getitem__ treating keys as positions is deprecated. In a future version, integer keys will always be treated as labels (consistent with DataFrame behavior). To access a value by position, use `ser.iloc[pos]`\n",
      "  use_col_names.update({col_names[l]:l})\n",
      "/var/folders/xn/9jbxxjcj63b3xbh21qlt_pcr0000gn/T/ipykernel_83080/935186160.py:47: FutureWarning: Series.__getitem__ treating keys as positions is deprecated. In a future version, integer keys will always be treated as labels (consistent with DataFrame behavior). To access a value by position, use `ser.iloc[pos]`\n",
      "  use_col_names.update({col_names[l]:l})\n",
      "/var/folders/xn/9jbxxjcj63b3xbh21qlt_pcr0000gn/T/ipykernel_83080/935186160.py:47: FutureWarning: Series.__getitem__ treating keys as positions is deprecated. In a future version, integer keys will always be treated as labels (consistent with DataFrame behavior). To access a value by position, use `ser.iloc[pos]`\n",
      "  use_col_names.update({col_names[l]:l})\n",
      "/var/folders/xn/9jbxxjcj63b3xbh21qlt_pcr0000gn/T/ipykernel_83080/935186160.py:47: FutureWarning: Series.__getitem__ treating keys as positions is deprecated. In a future version, integer keys will always be treated as labels (consistent with DataFrame behavior). To access a value by position, use `ser.iloc[pos]`\n",
      "  use_col_names.update({col_names[l]:l})\n",
      "/var/folders/xn/9jbxxjcj63b3xbh21qlt_pcr0000gn/T/ipykernel_83080/935186160.py:47: FutureWarning: Series.__getitem__ treating keys as positions is deprecated. In a future version, integer keys will always be treated as labels (consistent with DataFrame behavior). To access a value by position, use `ser.iloc[pos]`\n",
      "  use_col_names.update({col_names[l]:l})\n"
     ]
    },
    {
     "name": "stdout",
     "output_type": "stream",
     "text": [
      "127\n"
     ]
    },
    {
     "name": "stderr",
     "output_type": "stream",
     "text": [
      "/var/folders/xn/9jbxxjcj63b3xbh21qlt_pcr0000gn/T/ipykernel_83080/935186160.py:47: FutureWarning: Series.__getitem__ treating keys as positions is deprecated. In a future version, integer keys will always be treated as labels (consistent with DataFrame behavior). To access a value by position, use `ser.iloc[pos]`\n",
      "  use_col_names.update({col_names[l]:l})\n",
      "/var/folders/xn/9jbxxjcj63b3xbh21qlt_pcr0000gn/T/ipykernel_83080/935186160.py:47: FutureWarning: Series.__getitem__ treating keys as positions is deprecated. In a future version, integer keys will always be treated as labels (consistent with DataFrame behavior). To access a value by position, use `ser.iloc[pos]`\n",
      "  use_col_names.update({col_names[l]:l})\n",
      "/var/folders/xn/9jbxxjcj63b3xbh21qlt_pcr0000gn/T/ipykernel_83080/935186160.py:47: FutureWarning: Series.__getitem__ treating keys as positions is deprecated. In a future version, integer keys will always be treated as labels (consistent with DataFrame behavior). To access a value by position, use `ser.iloc[pos]`\n",
      "  use_col_names.update({col_names[l]:l})\n"
     ]
    },
    {
     "name": "stdout",
     "output_type": "stream",
     "text": [
      "128\n"
     ]
    },
    {
     "name": "stderr",
     "output_type": "stream",
     "text": [
      "/var/folders/xn/9jbxxjcj63b3xbh21qlt_pcr0000gn/T/ipykernel_83080/935186160.py:47: FutureWarning: Series.__getitem__ treating keys as positions is deprecated. In a future version, integer keys will always be treated as labels (consistent with DataFrame behavior). To access a value by position, use `ser.iloc[pos]`\n",
      "  use_col_names.update({col_names[l]:l})\n",
      "/var/folders/xn/9jbxxjcj63b3xbh21qlt_pcr0000gn/T/ipykernel_83080/935186160.py:47: FutureWarning: Series.__getitem__ treating keys as positions is deprecated. In a future version, integer keys will always be treated as labels (consistent with DataFrame behavior). To access a value by position, use `ser.iloc[pos]`\n",
      "  use_col_names.update({col_names[l]:l})\n",
      "/var/folders/xn/9jbxxjcj63b3xbh21qlt_pcr0000gn/T/ipykernel_83080/935186160.py:47: FutureWarning: Series.__getitem__ treating keys as positions is deprecated. In a future version, integer keys will always be treated as labels (consistent with DataFrame behavior). To access a value by position, use `ser.iloc[pos]`\n",
      "  use_col_names.update({col_names[l]:l})\n",
      "/var/folders/xn/9jbxxjcj63b3xbh21qlt_pcr0000gn/T/ipykernel_83080/935186160.py:47: FutureWarning: Series.__getitem__ treating keys as positions is deprecated. In a future version, integer keys will always be treated as labels (consistent with DataFrame behavior). To access a value by position, use `ser.iloc[pos]`\n",
      "  use_col_names.update({col_names[l]:l})\n",
      "/var/folders/xn/9jbxxjcj63b3xbh21qlt_pcr0000gn/T/ipykernel_83080/935186160.py:47: FutureWarning: Series.__getitem__ treating keys as positions is deprecated. In a future version, integer keys will always be treated as labels (consistent with DataFrame behavior). To access a value by position, use `ser.iloc[pos]`\n",
      "  use_col_names.update({col_names[l]:l})\n"
     ]
    },
    {
     "name": "stdout",
     "output_type": "stream",
     "text": [
      "129\n"
     ]
    },
    {
     "name": "stderr",
     "output_type": "stream",
     "text": [
      "/var/folders/xn/9jbxxjcj63b3xbh21qlt_pcr0000gn/T/ipykernel_83080/935186160.py:47: FutureWarning: Series.__getitem__ treating keys as positions is deprecated. In a future version, integer keys will always be treated as labels (consistent with DataFrame behavior). To access a value by position, use `ser.iloc[pos]`\n",
      "  use_col_names.update({col_names[l]:l})\n",
      "/var/folders/xn/9jbxxjcj63b3xbh21qlt_pcr0000gn/T/ipykernel_83080/935186160.py:47: FutureWarning: Series.__getitem__ treating keys as positions is deprecated. In a future version, integer keys will always be treated as labels (consistent with DataFrame behavior). To access a value by position, use `ser.iloc[pos]`\n",
      "  use_col_names.update({col_names[l]:l})\n",
      "/var/folders/xn/9jbxxjcj63b3xbh21qlt_pcr0000gn/T/ipykernel_83080/935186160.py:47: FutureWarning: Series.__getitem__ treating keys as positions is deprecated. In a future version, integer keys will always be treated as labels (consistent with DataFrame behavior). To access a value by position, use `ser.iloc[pos]`\n",
      "  use_col_names.update({col_names[l]:l})\n"
     ]
    },
    {
     "name": "stdout",
     "output_type": "stream",
     "text": [
      "130\n"
     ]
    },
    {
     "name": "stderr",
     "output_type": "stream",
     "text": [
      "/var/folders/xn/9jbxxjcj63b3xbh21qlt_pcr0000gn/T/ipykernel_83080/935186160.py:47: FutureWarning: Series.__getitem__ treating keys as positions is deprecated. In a future version, integer keys will always be treated as labels (consistent with DataFrame behavior). To access a value by position, use `ser.iloc[pos]`\n",
      "  use_col_names.update({col_names[l]:l})\n",
      "/var/folders/xn/9jbxxjcj63b3xbh21qlt_pcr0000gn/T/ipykernel_83080/935186160.py:47: FutureWarning: Series.__getitem__ treating keys as positions is deprecated. In a future version, integer keys will always be treated as labels (consistent with DataFrame behavior). To access a value by position, use `ser.iloc[pos]`\n",
      "  use_col_names.update({col_names[l]:l})\n",
      "/var/folders/xn/9jbxxjcj63b3xbh21qlt_pcr0000gn/T/ipykernel_83080/935186160.py:47: FutureWarning: Series.__getitem__ treating keys as positions is deprecated. In a future version, integer keys will always be treated as labels (consistent with DataFrame behavior). To access a value by position, use `ser.iloc[pos]`\n",
      "  use_col_names.update({col_names[l]:l})\n",
      "/var/folders/xn/9jbxxjcj63b3xbh21qlt_pcr0000gn/T/ipykernel_83080/935186160.py:47: FutureWarning: Series.__getitem__ treating keys as positions is deprecated. In a future version, integer keys will always be treated as labels (consistent with DataFrame behavior). To access a value by position, use `ser.iloc[pos]`\n",
      "  use_col_names.update({col_names[l]:l})\n"
     ]
    },
    {
     "name": "stdout",
     "output_type": "stream",
     "text": [
      "131\n"
     ]
    },
    {
     "name": "stderr",
     "output_type": "stream",
     "text": [
      "/var/folders/xn/9jbxxjcj63b3xbh21qlt_pcr0000gn/T/ipykernel_83080/935186160.py:47: FutureWarning: Series.__getitem__ treating keys as positions is deprecated. In a future version, integer keys will always be treated as labels (consistent with DataFrame behavior). To access a value by position, use `ser.iloc[pos]`\n",
      "  use_col_names.update({col_names[l]:l})\n",
      "/var/folders/xn/9jbxxjcj63b3xbh21qlt_pcr0000gn/T/ipykernel_83080/935186160.py:47: FutureWarning: Series.__getitem__ treating keys as positions is deprecated. In a future version, integer keys will always be treated as labels (consistent with DataFrame behavior). To access a value by position, use `ser.iloc[pos]`\n",
      "  use_col_names.update({col_names[l]:l})\n",
      "/var/folders/xn/9jbxxjcj63b3xbh21qlt_pcr0000gn/T/ipykernel_83080/935186160.py:47: FutureWarning: Series.__getitem__ treating keys as positions is deprecated. In a future version, integer keys will always be treated as labels (consistent with DataFrame behavior). To access a value by position, use `ser.iloc[pos]`\n",
      "  use_col_names.update({col_names[l]:l})\n",
      "/var/folders/xn/9jbxxjcj63b3xbh21qlt_pcr0000gn/T/ipykernel_83080/935186160.py:47: FutureWarning: Series.__getitem__ treating keys as positions is deprecated. In a future version, integer keys will always be treated as labels (consistent with DataFrame behavior). To access a value by position, use `ser.iloc[pos]`\n",
      "  use_col_names.update({col_names[l]:l})\n"
     ]
    },
    {
     "name": "stdout",
     "output_type": "stream",
     "text": [
      "132\n"
     ]
    },
    {
     "name": "stderr",
     "output_type": "stream",
     "text": [
      "/var/folders/xn/9jbxxjcj63b3xbh21qlt_pcr0000gn/T/ipykernel_83080/935186160.py:47: FutureWarning: Series.__getitem__ treating keys as positions is deprecated. In a future version, integer keys will always be treated as labels (consistent with DataFrame behavior). To access a value by position, use `ser.iloc[pos]`\n",
      "  use_col_names.update({col_names[l]:l})\n",
      "/var/folders/xn/9jbxxjcj63b3xbh21qlt_pcr0000gn/T/ipykernel_83080/935186160.py:47: FutureWarning: Series.__getitem__ treating keys as positions is deprecated. In a future version, integer keys will always be treated as labels (consistent with DataFrame behavior). To access a value by position, use `ser.iloc[pos]`\n",
      "  use_col_names.update({col_names[l]:l})\n",
      "/var/folders/xn/9jbxxjcj63b3xbh21qlt_pcr0000gn/T/ipykernel_83080/935186160.py:47: FutureWarning: Series.__getitem__ treating keys as positions is deprecated. In a future version, integer keys will always be treated as labels (consistent with DataFrame behavior). To access a value by position, use `ser.iloc[pos]`\n",
      "  use_col_names.update({col_names[l]:l})\n",
      "/var/folders/xn/9jbxxjcj63b3xbh21qlt_pcr0000gn/T/ipykernel_83080/935186160.py:47: FutureWarning: Series.__getitem__ treating keys as positions is deprecated. In a future version, integer keys will always be treated as labels (consistent with DataFrame behavior). To access a value by position, use `ser.iloc[pos]`\n",
      "  use_col_names.update({col_names[l]:l})\n",
      "/var/folders/xn/9jbxxjcj63b3xbh21qlt_pcr0000gn/T/ipykernel_83080/935186160.py:47: FutureWarning: Series.__getitem__ treating keys as positions is deprecated. In a future version, integer keys will always be treated as labels (consistent with DataFrame behavior). To access a value by position, use `ser.iloc[pos]`\n",
      "  use_col_names.update({col_names[l]:l})\n"
     ]
    },
    {
     "name": "stdout",
     "output_type": "stream",
     "text": [
      "133\n"
     ]
    },
    {
     "name": "stderr",
     "output_type": "stream",
     "text": [
      "/var/folders/xn/9jbxxjcj63b3xbh21qlt_pcr0000gn/T/ipykernel_83080/935186160.py:47: FutureWarning: Series.__getitem__ treating keys as positions is deprecated. In a future version, integer keys will always be treated as labels (consistent with DataFrame behavior). To access a value by position, use `ser.iloc[pos]`\n",
      "  use_col_names.update({col_names[l]:l})\n",
      "/var/folders/xn/9jbxxjcj63b3xbh21qlt_pcr0000gn/T/ipykernel_83080/935186160.py:47: FutureWarning: Series.__getitem__ treating keys as positions is deprecated. In a future version, integer keys will always be treated as labels (consistent with DataFrame behavior). To access a value by position, use `ser.iloc[pos]`\n",
      "  use_col_names.update({col_names[l]:l})\n",
      "/var/folders/xn/9jbxxjcj63b3xbh21qlt_pcr0000gn/T/ipykernel_83080/935186160.py:47: FutureWarning: Series.__getitem__ treating keys as positions is deprecated. In a future version, integer keys will always be treated as labels (consistent with DataFrame behavior). To access a value by position, use `ser.iloc[pos]`\n",
      "  use_col_names.update({col_names[l]:l})\n",
      "/var/folders/xn/9jbxxjcj63b3xbh21qlt_pcr0000gn/T/ipykernel_83080/935186160.py:47: FutureWarning: Series.__getitem__ treating keys as positions is deprecated. In a future version, integer keys will always be treated as labels (consistent with DataFrame behavior). To access a value by position, use `ser.iloc[pos]`\n",
      "  use_col_names.update({col_names[l]:l})\n"
     ]
    },
    {
     "name": "stdout",
     "output_type": "stream",
     "text": [
      "134\n"
     ]
    },
    {
     "name": "stderr",
     "output_type": "stream",
     "text": [
      "/var/folders/xn/9jbxxjcj63b3xbh21qlt_pcr0000gn/T/ipykernel_83080/935186160.py:47: FutureWarning: Series.__getitem__ treating keys as positions is deprecated. In a future version, integer keys will always be treated as labels (consistent with DataFrame behavior). To access a value by position, use `ser.iloc[pos]`\n",
      "  use_col_names.update({col_names[l]:l})\n",
      "/var/folders/xn/9jbxxjcj63b3xbh21qlt_pcr0000gn/T/ipykernel_83080/935186160.py:47: FutureWarning: Series.__getitem__ treating keys as positions is deprecated. In a future version, integer keys will always be treated as labels (consistent with DataFrame behavior). To access a value by position, use `ser.iloc[pos]`\n",
      "  use_col_names.update({col_names[l]:l})\n",
      "/var/folders/xn/9jbxxjcj63b3xbh21qlt_pcr0000gn/T/ipykernel_83080/935186160.py:47: FutureWarning: Series.__getitem__ treating keys as positions is deprecated. In a future version, integer keys will always be treated as labels (consistent with DataFrame behavior). To access a value by position, use `ser.iloc[pos]`\n",
      "  use_col_names.update({col_names[l]:l})\n",
      "/var/folders/xn/9jbxxjcj63b3xbh21qlt_pcr0000gn/T/ipykernel_83080/935186160.py:47: FutureWarning: Series.__getitem__ treating keys as positions is deprecated. In a future version, integer keys will always be treated as labels (consistent with DataFrame behavior). To access a value by position, use `ser.iloc[pos]`\n",
      "  use_col_names.update({col_names[l]:l})\n"
     ]
    },
    {
     "name": "stdout",
     "output_type": "stream",
     "text": [
      "135\n"
     ]
    },
    {
     "name": "stderr",
     "output_type": "stream",
     "text": [
      "/var/folders/xn/9jbxxjcj63b3xbh21qlt_pcr0000gn/T/ipykernel_83080/935186160.py:47: FutureWarning: Series.__getitem__ treating keys as positions is deprecated. In a future version, integer keys will always be treated as labels (consistent with DataFrame behavior). To access a value by position, use `ser.iloc[pos]`\n",
      "  use_col_names.update({col_names[l]:l})\n",
      "/var/folders/xn/9jbxxjcj63b3xbh21qlt_pcr0000gn/T/ipykernel_83080/935186160.py:47: FutureWarning: Series.__getitem__ treating keys as positions is deprecated. In a future version, integer keys will always be treated as labels (consistent with DataFrame behavior). To access a value by position, use `ser.iloc[pos]`\n",
      "  use_col_names.update({col_names[l]:l})\n",
      "/var/folders/xn/9jbxxjcj63b3xbh21qlt_pcr0000gn/T/ipykernel_83080/935186160.py:47: FutureWarning: Series.__getitem__ treating keys as positions is deprecated. In a future version, integer keys will always be treated as labels (consistent with DataFrame behavior). To access a value by position, use `ser.iloc[pos]`\n",
      "  use_col_names.update({col_names[l]:l})\n"
     ]
    },
    {
     "name": "stdout",
     "output_type": "stream",
     "text": [
      "136\n"
     ]
    },
    {
     "name": "stderr",
     "output_type": "stream",
     "text": [
      "/var/folders/xn/9jbxxjcj63b3xbh21qlt_pcr0000gn/T/ipykernel_83080/935186160.py:47: FutureWarning: Series.__getitem__ treating keys as positions is deprecated. In a future version, integer keys will always be treated as labels (consistent with DataFrame behavior). To access a value by position, use `ser.iloc[pos]`\n",
      "  use_col_names.update({col_names[l]:l})\n",
      "/var/folders/xn/9jbxxjcj63b3xbh21qlt_pcr0000gn/T/ipykernel_83080/935186160.py:47: FutureWarning: Series.__getitem__ treating keys as positions is deprecated. In a future version, integer keys will always be treated as labels (consistent with DataFrame behavior). To access a value by position, use `ser.iloc[pos]`\n",
      "  use_col_names.update({col_names[l]:l})\n",
      "/var/folders/xn/9jbxxjcj63b3xbh21qlt_pcr0000gn/T/ipykernel_83080/935186160.py:47: FutureWarning: Series.__getitem__ treating keys as positions is deprecated. In a future version, integer keys will always be treated as labels (consistent with DataFrame behavior). To access a value by position, use `ser.iloc[pos]`\n",
      "  use_col_names.update({col_names[l]:l})\n",
      "/var/folders/xn/9jbxxjcj63b3xbh21qlt_pcr0000gn/T/ipykernel_83080/935186160.py:47: FutureWarning: Series.__getitem__ treating keys as positions is deprecated. In a future version, integer keys will always be treated as labels (consistent with DataFrame behavior). To access a value by position, use `ser.iloc[pos]`\n",
      "  use_col_names.update({col_names[l]:l})\n"
     ]
    },
    {
     "name": "stdout",
     "output_type": "stream",
     "text": [
      "137\n"
     ]
    },
    {
     "name": "stderr",
     "output_type": "stream",
     "text": [
      "/var/folders/xn/9jbxxjcj63b3xbh21qlt_pcr0000gn/T/ipykernel_83080/935186160.py:47: FutureWarning: Series.__getitem__ treating keys as positions is deprecated. In a future version, integer keys will always be treated as labels (consistent with DataFrame behavior). To access a value by position, use `ser.iloc[pos]`\n",
      "  use_col_names.update({col_names[l]:l})\n",
      "/var/folders/xn/9jbxxjcj63b3xbh21qlt_pcr0000gn/T/ipykernel_83080/935186160.py:47: FutureWarning: Series.__getitem__ treating keys as positions is deprecated. In a future version, integer keys will always be treated as labels (consistent with DataFrame behavior). To access a value by position, use `ser.iloc[pos]`\n",
      "  use_col_names.update({col_names[l]:l})\n",
      "/var/folders/xn/9jbxxjcj63b3xbh21qlt_pcr0000gn/T/ipykernel_83080/935186160.py:47: FutureWarning: Series.__getitem__ treating keys as positions is deprecated. In a future version, integer keys will always be treated as labels (consistent with DataFrame behavior). To access a value by position, use `ser.iloc[pos]`\n",
      "  use_col_names.update({col_names[l]:l})\n",
      "/var/folders/xn/9jbxxjcj63b3xbh21qlt_pcr0000gn/T/ipykernel_83080/935186160.py:47: FutureWarning: Series.__getitem__ treating keys as positions is deprecated. In a future version, integer keys will always be treated as labels (consistent with DataFrame behavior). To access a value by position, use `ser.iloc[pos]`\n",
      "  use_col_names.update({col_names[l]:l})\n",
      "/var/folders/xn/9jbxxjcj63b3xbh21qlt_pcr0000gn/T/ipykernel_83080/935186160.py:47: FutureWarning: Series.__getitem__ treating keys as positions is deprecated. In a future version, integer keys will always be treated as labels (consistent with DataFrame behavior). To access a value by position, use `ser.iloc[pos]`\n",
      "  use_col_names.update({col_names[l]:l})\n"
     ]
    },
    {
     "name": "stdout",
     "output_type": "stream",
     "text": [
      "138\n"
     ]
    },
    {
     "name": "stderr",
     "output_type": "stream",
     "text": [
      "/var/folders/xn/9jbxxjcj63b3xbh21qlt_pcr0000gn/T/ipykernel_83080/935186160.py:47: FutureWarning: Series.__getitem__ treating keys as positions is deprecated. In a future version, integer keys will always be treated as labels (consistent with DataFrame behavior). To access a value by position, use `ser.iloc[pos]`\n",
      "  use_col_names.update({col_names[l]:l})\n",
      "/var/folders/xn/9jbxxjcj63b3xbh21qlt_pcr0000gn/T/ipykernel_83080/935186160.py:47: FutureWarning: Series.__getitem__ treating keys as positions is deprecated. In a future version, integer keys will always be treated as labels (consistent with DataFrame behavior). To access a value by position, use `ser.iloc[pos]`\n",
      "  use_col_names.update({col_names[l]:l})\n",
      "/var/folders/xn/9jbxxjcj63b3xbh21qlt_pcr0000gn/T/ipykernel_83080/935186160.py:47: FutureWarning: Series.__getitem__ treating keys as positions is deprecated. In a future version, integer keys will always be treated as labels (consistent with DataFrame behavior). To access a value by position, use `ser.iloc[pos]`\n",
      "  use_col_names.update({col_names[l]:l})\n",
      "/var/folders/xn/9jbxxjcj63b3xbh21qlt_pcr0000gn/T/ipykernel_83080/935186160.py:47: FutureWarning: Series.__getitem__ treating keys as positions is deprecated. In a future version, integer keys will always be treated as labels (consistent with DataFrame behavior). To access a value by position, use `ser.iloc[pos]`\n",
      "  use_col_names.update({col_names[l]:l})\n"
     ]
    },
    {
     "name": "stdout",
     "output_type": "stream",
     "text": [
      "139\n"
     ]
    },
    {
     "name": "stderr",
     "output_type": "stream",
     "text": [
      "/var/folders/xn/9jbxxjcj63b3xbh21qlt_pcr0000gn/T/ipykernel_83080/935186160.py:47: FutureWarning: Series.__getitem__ treating keys as positions is deprecated. In a future version, integer keys will always be treated as labels (consistent with DataFrame behavior). To access a value by position, use `ser.iloc[pos]`\n",
      "  use_col_names.update({col_names[l]:l})\n",
      "/var/folders/xn/9jbxxjcj63b3xbh21qlt_pcr0000gn/T/ipykernel_83080/935186160.py:47: FutureWarning: Series.__getitem__ treating keys as positions is deprecated. In a future version, integer keys will always be treated as labels (consistent with DataFrame behavior). To access a value by position, use `ser.iloc[pos]`\n",
      "  use_col_names.update({col_names[l]:l})\n",
      "/var/folders/xn/9jbxxjcj63b3xbh21qlt_pcr0000gn/T/ipykernel_83080/935186160.py:47: FutureWarning: Series.__getitem__ treating keys as positions is deprecated. In a future version, integer keys will always be treated as labels (consistent with DataFrame behavior). To access a value by position, use `ser.iloc[pos]`\n",
      "  use_col_names.update({col_names[l]:l})\n"
     ]
    },
    {
     "name": "stdout",
     "output_type": "stream",
     "text": [
      "140\n"
     ]
    },
    {
     "name": "stderr",
     "output_type": "stream",
     "text": [
      "/var/folders/xn/9jbxxjcj63b3xbh21qlt_pcr0000gn/T/ipykernel_83080/935186160.py:47: FutureWarning: Series.__getitem__ treating keys as positions is deprecated. In a future version, integer keys will always be treated as labels (consistent with DataFrame behavior). To access a value by position, use `ser.iloc[pos]`\n",
      "  use_col_names.update({col_names[l]:l})\n",
      "/var/folders/xn/9jbxxjcj63b3xbh21qlt_pcr0000gn/T/ipykernel_83080/935186160.py:47: FutureWarning: Series.__getitem__ treating keys as positions is deprecated. In a future version, integer keys will always be treated as labels (consistent with DataFrame behavior). To access a value by position, use `ser.iloc[pos]`\n",
      "  use_col_names.update({col_names[l]:l})\n",
      "/var/folders/xn/9jbxxjcj63b3xbh21qlt_pcr0000gn/T/ipykernel_83080/935186160.py:47: FutureWarning: Series.__getitem__ treating keys as positions is deprecated. In a future version, integer keys will always be treated as labels (consistent with DataFrame behavior). To access a value by position, use `ser.iloc[pos]`\n",
      "  use_col_names.update({col_names[l]:l})\n",
      "/var/folders/xn/9jbxxjcj63b3xbh21qlt_pcr0000gn/T/ipykernel_83080/935186160.py:47: FutureWarning: Series.__getitem__ treating keys as positions is deprecated. In a future version, integer keys will always be treated as labels (consistent with DataFrame behavior). To access a value by position, use `ser.iloc[pos]`\n",
      "  use_col_names.update({col_names[l]:l})\n",
      "/var/folders/xn/9jbxxjcj63b3xbh21qlt_pcr0000gn/T/ipykernel_83080/935186160.py:47: FutureWarning: Series.__getitem__ treating keys as positions is deprecated. In a future version, integer keys will always be treated as labels (consistent with DataFrame behavior). To access a value by position, use `ser.iloc[pos]`\n",
      "  use_col_names.update({col_names[l]:l})\n"
     ]
    },
    {
     "name": "stdout",
     "output_type": "stream",
     "text": [
      "141\n"
     ]
    },
    {
     "name": "stderr",
     "output_type": "stream",
     "text": [
      "/var/folders/xn/9jbxxjcj63b3xbh21qlt_pcr0000gn/T/ipykernel_83080/935186160.py:47: FutureWarning: Series.__getitem__ treating keys as positions is deprecated. In a future version, integer keys will always be treated as labels (consistent with DataFrame behavior). To access a value by position, use `ser.iloc[pos]`\n",
      "  use_col_names.update({col_names[l]:l})\n",
      "/var/folders/xn/9jbxxjcj63b3xbh21qlt_pcr0000gn/T/ipykernel_83080/935186160.py:47: FutureWarning: Series.__getitem__ treating keys as positions is deprecated. In a future version, integer keys will always be treated as labels (consistent with DataFrame behavior). To access a value by position, use `ser.iloc[pos]`\n",
      "  use_col_names.update({col_names[l]:l})\n",
      "/var/folders/xn/9jbxxjcj63b3xbh21qlt_pcr0000gn/T/ipykernel_83080/935186160.py:47: FutureWarning: Series.__getitem__ treating keys as positions is deprecated. In a future version, integer keys will always be treated as labels (consistent with DataFrame behavior). To access a value by position, use `ser.iloc[pos]`\n",
      "  use_col_names.update({col_names[l]:l})\n",
      "/var/folders/xn/9jbxxjcj63b3xbh21qlt_pcr0000gn/T/ipykernel_83080/935186160.py:47: FutureWarning: Series.__getitem__ treating keys as positions is deprecated. In a future version, integer keys will always be treated as labels (consistent with DataFrame behavior). To access a value by position, use `ser.iloc[pos]`\n",
      "  use_col_names.update({col_names[l]:l})\n"
     ]
    },
    {
     "name": "stdout",
     "output_type": "stream",
     "text": [
      "142\n"
     ]
    },
    {
     "name": "stderr",
     "output_type": "stream",
     "text": [
      "/var/folders/xn/9jbxxjcj63b3xbh21qlt_pcr0000gn/T/ipykernel_83080/935186160.py:47: FutureWarning: Series.__getitem__ treating keys as positions is deprecated. In a future version, integer keys will always be treated as labels (consistent with DataFrame behavior). To access a value by position, use `ser.iloc[pos]`\n",
      "  use_col_names.update({col_names[l]:l})\n",
      "/var/folders/xn/9jbxxjcj63b3xbh21qlt_pcr0000gn/T/ipykernel_83080/935186160.py:47: FutureWarning: Series.__getitem__ treating keys as positions is deprecated. In a future version, integer keys will always be treated as labels (consistent with DataFrame behavior). To access a value by position, use `ser.iloc[pos]`\n",
      "  use_col_names.update({col_names[l]:l})\n",
      "/var/folders/xn/9jbxxjcj63b3xbh21qlt_pcr0000gn/T/ipykernel_83080/935186160.py:47: FutureWarning: Series.__getitem__ treating keys as positions is deprecated. In a future version, integer keys will always be treated as labels (consistent with DataFrame behavior). To access a value by position, use `ser.iloc[pos]`\n",
      "  use_col_names.update({col_names[l]:l})\n",
      "/var/folders/xn/9jbxxjcj63b3xbh21qlt_pcr0000gn/T/ipykernel_83080/935186160.py:47: FutureWarning: Series.__getitem__ treating keys as positions is deprecated. In a future version, integer keys will always be treated as labels (consistent with DataFrame behavior). To access a value by position, use `ser.iloc[pos]`\n",
      "  use_col_names.update({col_names[l]:l})\n"
     ]
    },
    {
     "name": "stdout",
     "output_type": "stream",
     "text": [
      "143\n"
     ]
    },
    {
     "name": "stderr",
     "output_type": "stream",
     "text": [
      "/var/folders/xn/9jbxxjcj63b3xbh21qlt_pcr0000gn/T/ipykernel_83080/935186160.py:47: FutureWarning: Series.__getitem__ treating keys as positions is deprecated. In a future version, integer keys will always be treated as labels (consistent with DataFrame behavior). To access a value by position, use `ser.iloc[pos]`\n",
      "  use_col_names.update({col_names[l]:l})\n",
      "/var/folders/xn/9jbxxjcj63b3xbh21qlt_pcr0000gn/T/ipykernel_83080/935186160.py:47: FutureWarning: Series.__getitem__ treating keys as positions is deprecated. In a future version, integer keys will always be treated as labels (consistent with DataFrame behavior). To access a value by position, use `ser.iloc[pos]`\n",
      "  use_col_names.update({col_names[l]:l})\n",
      "/var/folders/xn/9jbxxjcj63b3xbh21qlt_pcr0000gn/T/ipykernel_83080/935186160.py:47: FutureWarning: Series.__getitem__ treating keys as positions is deprecated. In a future version, integer keys will always be treated as labels (consistent with DataFrame behavior). To access a value by position, use `ser.iloc[pos]`\n",
      "  use_col_names.update({col_names[l]:l})\n",
      "/var/folders/xn/9jbxxjcj63b3xbh21qlt_pcr0000gn/T/ipykernel_83080/935186160.py:47: FutureWarning: Series.__getitem__ treating keys as positions is deprecated. In a future version, integer keys will always be treated as labels (consistent with DataFrame behavior). To access a value by position, use `ser.iloc[pos]`\n",
      "  use_col_names.update({col_names[l]:l})\n"
     ]
    },
    {
     "name": "stdout",
     "output_type": "stream",
     "text": [
      "144\n"
     ]
    },
    {
     "name": "stderr",
     "output_type": "stream",
     "text": [
      "/var/folders/xn/9jbxxjcj63b3xbh21qlt_pcr0000gn/T/ipykernel_83080/935186160.py:47: FutureWarning: Series.__getitem__ treating keys as positions is deprecated. In a future version, integer keys will always be treated as labels (consistent with DataFrame behavior). To access a value by position, use `ser.iloc[pos]`\n",
      "  use_col_names.update({col_names[l]:l})\n",
      "/var/folders/xn/9jbxxjcj63b3xbh21qlt_pcr0000gn/T/ipykernel_83080/935186160.py:47: FutureWarning: Series.__getitem__ treating keys as positions is deprecated. In a future version, integer keys will always be treated as labels (consistent with DataFrame behavior). To access a value by position, use `ser.iloc[pos]`\n",
      "  use_col_names.update({col_names[l]:l})\n",
      "/var/folders/xn/9jbxxjcj63b3xbh21qlt_pcr0000gn/T/ipykernel_83080/935186160.py:47: FutureWarning: Series.__getitem__ treating keys as positions is deprecated. In a future version, integer keys will always be treated as labels (consistent with DataFrame behavior). To access a value by position, use `ser.iloc[pos]`\n",
      "  use_col_names.update({col_names[l]:l})\n",
      "/var/folders/xn/9jbxxjcj63b3xbh21qlt_pcr0000gn/T/ipykernel_83080/935186160.py:47: FutureWarning: Series.__getitem__ treating keys as positions is deprecated. In a future version, integer keys will always be treated as labels (consistent with DataFrame behavior). To access a value by position, use `ser.iloc[pos]`\n",
      "  use_col_names.update({col_names[l]:l})\n"
     ]
    },
    {
     "name": "stdout",
     "output_type": "stream",
     "text": [
      "145\n"
     ]
    },
    {
     "name": "stderr",
     "output_type": "stream",
     "text": [
      "/var/folders/xn/9jbxxjcj63b3xbh21qlt_pcr0000gn/T/ipykernel_83080/935186160.py:47: FutureWarning: Series.__getitem__ treating keys as positions is deprecated. In a future version, integer keys will always be treated as labels (consistent with DataFrame behavior). To access a value by position, use `ser.iloc[pos]`\n",
      "  use_col_names.update({col_names[l]:l})\n",
      "/var/folders/xn/9jbxxjcj63b3xbh21qlt_pcr0000gn/T/ipykernel_83080/935186160.py:47: FutureWarning: Series.__getitem__ treating keys as positions is deprecated. In a future version, integer keys will always be treated as labels (consistent with DataFrame behavior). To access a value by position, use `ser.iloc[pos]`\n",
      "  use_col_names.update({col_names[l]:l})\n",
      "/var/folders/xn/9jbxxjcj63b3xbh21qlt_pcr0000gn/T/ipykernel_83080/935186160.py:47: FutureWarning: Series.__getitem__ treating keys as positions is deprecated. In a future version, integer keys will always be treated as labels (consistent with DataFrame behavior). To access a value by position, use `ser.iloc[pos]`\n",
      "  use_col_names.update({col_names[l]:l})\n",
      "/var/folders/xn/9jbxxjcj63b3xbh21qlt_pcr0000gn/T/ipykernel_83080/935186160.py:47: FutureWarning: Series.__getitem__ treating keys as positions is deprecated. In a future version, integer keys will always be treated as labels (consistent with DataFrame behavior). To access a value by position, use `ser.iloc[pos]`\n",
      "  use_col_names.update({col_names[l]:l})\n"
     ]
    },
    {
     "name": "stdout",
     "output_type": "stream",
     "text": [
      "146\n"
     ]
    },
    {
     "name": "stderr",
     "output_type": "stream",
     "text": [
      "/var/folders/xn/9jbxxjcj63b3xbh21qlt_pcr0000gn/T/ipykernel_83080/935186160.py:47: FutureWarning: Series.__getitem__ treating keys as positions is deprecated. In a future version, integer keys will always be treated as labels (consistent with DataFrame behavior). To access a value by position, use `ser.iloc[pos]`\n",
      "  use_col_names.update({col_names[l]:l})\n",
      "/var/folders/xn/9jbxxjcj63b3xbh21qlt_pcr0000gn/T/ipykernel_83080/935186160.py:47: FutureWarning: Series.__getitem__ treating keys as positions is deprecated. In a future version, integer keys will always be treated as labels (consistent with DataFrame behavior). To access a value by position, use `ser.iloc[pos]`\n",
      "  use_col_names.update({col_names[l]:l})\n",
      "/var/folders/xn/9jbxxjcj63b3xbh21qlt_pcr0000gn/T/ipykernel_83080/935186160.py:47: FutureWarning: Series.__getitem__ treating keys as positions is deprecated. In a future version, integer keys will always be treated as labels (consistent with DataFrame behavior). To access a value by position, use `ser.iloc[pos]`\n",
      "  use_col_names.update({col_names[l]:l})\n",
      "/var/folders/xn/9jbxxjcj63b3xbh21qlt_pcr0000gn/T/ipykernel_83080/935186160.py:47: FutureWarning: Series.__getitem__ treating keys as positions is deprecated. In a future version, integer keys will always be treated as labels (consistent with DataFrame behavior). To access a value by position, use `ser.iloc[pos]`\n",
      "  use_col_names.update({col_names[l]:l})\n"
     ]
    },
    {
     "name": "stdout",
     "output_type": "stream",
     "text": [
      "147\n"
     ]
    },
    {
     "name": "stderr",
     "output_type": "stream",
     "text": [
      "/var/folders/xn/9jbxxjcj63b3xbh21qlt_pcr0000gn/T/ipykernel_83080/935186160.py:47: FutureWarning: Series.__getitem__ treating keys as positions is deprecated. In a future version, integer keys will always be treated as labels (consistent with DataFrame behavior). To access a value by position, use `ser.iloc[pos]`\n",
      "  use_col_names.update({col_names[l]:l})\n",
      "/var/folders/xn/9jbxxjcj63b3xbh21qlt_pcr0000gn/T/ipykernel_83080/935186160.py:47: FutureWarning: Series.__getitem__ treating keys as positions is deprecated. In a future version, integer keys will always be treated as labels (consistent with DataFrame behavior). To access a value by position, use `ser.iloc[pos]`\n",
      "  use_col_names.update({col_names[l]:l})\n",
      "/var/folders/xn/9jbxxjcj63b3xbh21qlt_pcr0000gn/T/ipykernel_83080/935186160.py:47: FutureWarning: Series.__getitem__ treating keys as positions is deprecated. In a future version, integer keys will always be treated as labels (consistent with DataFrame behavior). To access a value by position, use `ser.iloc[pos]`\n",
      "  use_col_names.update({col_names[l]:l})\n",
      "/var/folders/xn/9jbxxjcj63b3xbh21qlt_pcr0000gn/T/ipykernel_83080/935186160.py:47: FutureWarning: Series.__getitem__ treating keys as positions is deprecated. In a future version, integer keys will always be treated as labels (consistent with DataFrame behavior). To access a value by position, use `ser.iloc[pos]`\n",
      "  use_col_names.update({col_names[l]:l})\n"
     ]
    },
    {
     "name": "stdout",
     "output_type": "stream",
     "text": [
      "148\n"
     ]
    },
    {
     "name": "stderr",
     "output_type": "stream",
     "text": [
      "/var/folders/xn/9jbxxjcj63b3xbh21qlt_pcr0000gn/T/ipykernel_83080/935186160.py:47: FutureWarning: Series.__getitem__ treating keys as positions is deprecated. In a future version, integer keys will always be treated as labels (consistent with DataFrame behavior). To access a value by position, use `ser.iloc[pos]`\n",
      "  use_col_names.update({col_names[l]:l})\n",
      "/var/folders/xn/9jbxxjcj63b3xbh21qlt_pcr0000gn/T/ipykernel_83080/935186160.py:47: FutureWarning: Series.__getitem__ treating keys as positions is deprecated. In a future version, integer keys will always be treated as labels (consistent with DataFrame behavior). To access a value by position, use `ser.iloc[pos]`\n",
      "  use_col_names.update({col_names[l]:l})\n",
      "/var/folders/xn/9jbxxjcj63b3xbh21qlt_pcr0000gn/T/ipykernel_83080/935186160.py:47: FutureWarning: Series.__getitem__ treating keys as positions is deprecated. In a future version, integer keys will always be treated as labels (consistent with DataFrame behavior). To access a value by position, use `ser.iloc[pos]`\n",
      "  use_col_names.update({col_names[l]:l})\n",
      "/var/folders/xn/9jbxxjcj63b3xbh21qlt_pcr0000gn/T/ipykernel_83080/935186160.py:47: FutureWarning: Series.__getitem__ treating keys as positions is deprecated. In a future version, integer keys will always be treated as labels (consistent with DataFrame behavior). To access a value by position, use `ser.iloc[pos]`\n",
      "  use_col_names.update({col_names[l]:l})\n"
     ]
    },
    {
     "name": "stdout",
     "output_type": "stream",
     "text": [
      "149\n"
     ]
    },
    {
     "name": "stderr",
     "output_type": "stream",
     "text": [
      "/var/folders/xn/9jbxxjcj63b3xbh21qlt_pcr0000gn/T/ipykernel_83080/935186160.py:47: FutureWarning: Series.__getitem__ treating keys as positions is deprecated. In a future version, integer keys will always be treated as labels (consistent with DataFrame behavior). To access a value by position, use `ser.iloc[pos]`\n",
      "  use_col_names.update({col_names[l]:l})\n",
      "/var/folders/xn/9jbxxjcj63b3xbh21qlt_pcr0000gn/T/ipykernel_83080/935186160.py:47: FutureWarning: Series.__getitem__ treating keys as positions is deprecated. In a future version, integer keys will always be treated as labels (consistent with DataFrame behavior). To access a value by position, use `ser.iloc[pos]`\n",
      "  use_col_names.update({col_names[l]:l})\n",
      "/var/folders/xn/9jbxxjcj63b3xbh21qlt_pcr0000gn/T/ipykernel_83080/935186160.py:47: FutureWarning: Series.__getitem__ treating keys as positions is deprecated. In a future version, integer keys will always be treated as labels (consistent with DataFrame behavior). To access a value by position, use `ser.iloc[pos]`\n",
      "  use_col_names.update({col_names[l]:l})\n",
      "/var/folders/xn/9jbxxjcj63b3xbh21qlt_pcr0000gn/T/ipykernel_83080/935186160.py:47: FutureWarning: Series.__getitem__ treating keys as positions is deprecated. In a future version, integer keys will always be treated as labels (consistent with DataFrame behavior). To access a value by position, use `ser.iloc[pos]`\n",
      "  use_col_names.update({col_names[l]:l})\n"
     ]
    },
    {
     "name": "stdout",
     "output_type": "stream",
     "text": [
      "150\n"
     ]
    },
    {
     "name": "stderr",
     "output_type": "stream",
     "text": [
      "/var/folders/xn/9jbxxjcj63b3xbh21qlt_pcr0000gn/T/ipykernel_83080/935186160.py:47: FutureWarning: Series.__getitem__ treating keys as positions is deprecated. In a future version, integer keys will always be treated as labels (consistent with DataFrame behavior). To access a value by position, use `ser.iloc[pos]`\n",
      "  use_col_names.update({col_names[l]:l})\n",
      "/var/folders/xn/9jbxxjcj63b3xbh21qlt_pcr0000gn/T/ipykernel_83080/935186160.py:47: FutureWarning: Series.__getitem__ treating keys as positions is deprecated. In a future version, integer keys will always be treated as labels (consistent with DataFrame behavior). To access a value by position, use `ser.iloc[pos]`\n",
      "  use_col_names.update({col_names[l]:l})\n",
      "/var/folders/xn/9jbxxjcj63b3xbh21qlt_pcr0000gn/T/ipykernel_83080/935186160.py:47: FutureWarning: Series.__getitem__ treating keys as positions is deprecated. In a future version, integer keys will always be treated as labels (consistent with DataFrame behavior). To access a value by position, use `ser.iloc[pos]`\n",
      "  use_col_names.update({col_names[l]:l})\n"
     ]
    },
    {
     "name": "stdout",
     "output_type": "stream",
     "text": [
      "151\n"
     ]
    },
    {
     "name": "stderr",
     "output_type": "stream",
     "text": [
      "/var/folders/xn/9jbxxjcj63b3xbh21qlt_pcr0000gn/T/ipykernel_83080/935186160.py:47: FutureWarning: Series.__getitem__ treating keys as positions is deprecated. In a future version, integer keys will always be treated as labels (consistent with DataFrame behavior). To access a value by position, use `ser.iloc[pos]`\n",
      "  use_col_names.update({col_names[l]:l})\n",
      "/var/folders/xn/9jbxxjcj63b3xbh21qlt_pcr0000gn/T/ipykernel_83080/935186160.py:47: FutureWarning: Series.__getitem__ treating keys as positions is deprecated. In a future version, integer keys will always be treated as labels (consistent with DataFrame behavior). To access a value by position, use `ser.iloc[pos]`\n",
      "  use_col_names.update({col_names[l]:l})\n",
      "/var/folders/xn/9jbxxjcj63b3xbh21qlt_pcr0000gn/T/ipykernel_83080/935186160.py:47: FutureWarning: Series.__getitem__ treating keys as positions is deprecated. In a future version, integer keys will always be treated as labels (consistent with DataFrame behavior). To access a value by position, use `ser.iloc[pos]`\n",
      "  use_col_names.update({col_names[l]:l})\n",
      "/var/folders/xn/9jbxxjcj63b3xbh21qlt_pcr0000gn/T/ipykernel_83080/935186160.py:47: FutureWarning: Series.__getitem__ treating keys as positions is deprecated. In a future version, integer keys will always be treated as labels (consistent with DataFrame behavior). To access a value by position, use `ser.iloc[pos]`\n",
      "  use_col_names.update({col_names[l]:l})\n",
      "/var/folders/xn/9jbxxjcj63b3xbh21qlt_pcr0000gn/T/ipykernel_83080/935186160.py:47: FutureWarning: Series.__getitem__ treating keys as positions is deprecated. In a future version, integer keys will always be treated as labels (consistent with DataFrame behavior). To access a value by position, use `ser.iloc[pos]`\n",
      "  use_col_names.update({col_names[l]:l})\n"
     ]
    },
    {
     "name": "stdout",
     "output_type": "stream",
     "text": [
      "152\n"
     ]
    },
    {
     "name": "stderr",
     "output_type": "stream",
     "text": [
      "/var/folders/xn/9jbxxjcj63b3xbh21qlt_pcr0000gn/T/ipykernel_83080/935186160.py:47: FutureWarning: Series.__getitem__ treating keys as positions is deprecated. In a future version, integer keys will always be treated as labels (consistent with DataFrame behavior). To access a value by position, use `ser.iloc[pos]`\n",
      "  use_col_names.update({col_names[l]:l})\n",
      "/var/folders/xn/9jbxxjcj63b3xbh21qlt_pcr0000gn/T/ipykernel_83080/935186160.py:47: FutureWarning: Series.__getitem__ treating keys as positions is deprecated. In a future version, integer keys will always be treated as labels (consistent with DataFrame behavior). To access a value by position, use `ser.iloc[pos]`\n",
      "  use_col_names.update({col_names[l]:l})\n",
      "/var/folders/xn/9jbxxjcj63b3xbh21qlt_pcr0000gn/T/ipykernel_83080/935186160.py:47: FutureWarning: Series.__getitem__ treating keys as positions is deprecated. In a future version, integer keys will always be treated as labels (consistent with DataFrame behavior). To access a value by position, use `ser.iloc[pos]`\n",
      "  use_col_names.update({col_names[l]:l})\n"
     ]
    },
    {
     "name": "stdout",
     "output_type": "stream",
     "text": [
      "153\n"
     ]
    },
    {
     "name": "stderr",
     "output_type": "stream",
     "text": [
      "/var/folders/xn/9jbxxjcj63b3xbh21qlt_pcr0000gn/T/ipykernel_83080/935186160.py:47: FutureWarning: Series.__getitem__ treating keys as positions is deprecated. In a future version, integer keys will always be treated as labels (consistent with DataFrame behavior). To access a value by position, use `ser.iloc[pos]`\n",
      "  use_col_names.update({col_names[l]:l})\n",
      "/var/folders/xn/9jbxxjcj63b3xbh21qlt_pcr0000gn/T/ipykernel_83080/935186160.py:47: FutureWarning: Series.__getitem__ treating keys as positions is deprecated. In a future version, integer keys will always be treated as labels (consistent with DataFrame behavior). To access a value by position, use `ser.iloc[pos]`\n",
      "  use_col_names.update({col_names[l]:l})\n",
      "/var/folders/xn/9jbxxjcj63b3xbh21qlt_pcr0000gn/T/ipykernel_83080/935186160.py:47: FutureWarning: Series.__getitem__ treating keys as positions is deprecated. In a future version, integer keys will always be treated as labels (consistent with DataFrame behavior). To access a value by position, use `ser.iloc[pos]`\n",
      "  use_col_names.update({col_names[l]:l})\n",
      "/var/folders/xn/9jbxxjcj63b3xbh21qlt_pcr0000gn/T/ipykernel_83080/935186160.py:47: FutureWarning: Series.__getitem__ treating keys as positions is deprecated. In a future version, integer keys will always be treated as labels (consistent with DataFrame behavior). To access a value by position, use `ser.iloc[pos]`\n",
      "  use_col_names.update({col_names[l]:l})\n"
     ]
    },
    {
     "name": "stdout",
     "output_type": "stream",
     "text": [
      "154\n"
     ]
    },
    {
     "name": "stderr",
     "output_type": "stream",
     "text": [
      "/var/folders/xn/9jbxxjcj63b3xbh21qlt_pcr0000gn/T/ipykernel_83080/935186160.py:47: FutureWarning: Series.__getitem__ treating keys as positions is deprecated. In a future version, integer keys will always be treated as labels (consistent with DataFrame behavior). To access a value by position, use `ser.iloc[pos]`\n",
      "  use_col_names.update({col_names[l]:l})\n",
      "/var/folders/xn/9jbxxjcj63b3xbh21qlt_pcr0000gn/T/ipykernel_83080/935186160.py:47: FutureWarning: Series.__getitem__ treating keys as positions is deprecated. In a future version, integer keys will always be treated as labels (consistent with DataFrame behavior). To access a value by position, use `ser.iloc[pos]`\n",
      "  use_col_names.update({col_names[l]:l})\n",
      "/var/folders/xn/9jbxxjcj63b3xbh21qlt_pcr0000gn/T/ipykernel_83080/935186160.py:47: FutureWarning: Series.__getitem__ treating keys as positions is deprecated. In a future version, integer keys will always be treated as labels (consistent with DataFrame behavior). To access a value by position, use `ser.iloc[pos]`\n",
      "  use_col_names.update({col_names[l]:l})\n",
      "/var/folders/xn/9jbxxjcj63b3xbh21qlt_pcr0000gn/T/ipykernel_83080/935186160.py:47: FutureWarning: Series.__getitem__ treating keys as positions is deprecated. In a future version, integer keys will always be treated as labels (consistent with DataFrame behavior). To access a value by position, use `ser.iloc[pos]`\n",
      "  use_col_names.update({col_names[l]:l})\n"
     ]
    },
    {
     "name": "stdout",
     "output_type": "stream",
     "text": [
      "155\n"
     ]
    },
    {
     "name": "stderr",
     "output_type": "stream",
     "text": [
      "/var/folders/xn/9jbxxjcj63b3xbh21qlt_pcr0000gn/T/ipykernel_83080/935186160.py:47: FutureWarning: Series.__getitem__ treating keys as positions is deprecated. In a future version, integer keys will always be treated as labels (consistent with DataFrame behavior). To access a value by position, use `ser.iloc[pos]`\n",
      "  use_col_names.update({col_names[l]:l})\n",
      "/var/folders/xn/9jbxxjcj63b3xbh21qlt_pcr0000gn/T/ipykernel_83080/935186160.py:47: FutureWarning: Series.__getitem__ treating keys as positions is deprecated. In a future version, integer keys will always be treated as labels (consistent with DataFrame behavior). To access a value by position, use `ser.iloc[pos]`\n",
      "  use_col_names.update({col_names[l]:l})\n",
      "/var/folders/xn/9jbxxjcj63b3xbh21qlt_pcr0000gn/T/ipykernel_83080/935186160.py:47: FutureWarning: Series.__getitem__ treating keys as positions is deprecated. In a future version, integer keys will always be treated as labels (consistent with DataFrame behavior). To access a value by position, use `ser.iloc[pos]`\n",
      "  use_col_names.update({col_names[l]:l})\n",
      "/var/folders/xn/9jbxxjcj63b3xbh21qlt_pcr0000gn/T/ipykernel_83080/935186160.py:47: FutureWarning: Series.__getitem__ treating keys as positions is deprecated. In a future version, integer keys will always be treated as labels (consistent with DataFrame behavior). To access a value by position, use `ser.iloc[pos]`\n",
      "  use_col_names.update({col_names[l]:l})\n",
      "/var/folders/xn/9jbxxjcj63b3xbh21qlt_pcr0000gn/T/ipykernel_83080/935186160.py:47: FutureWarning: Series.__getitem__ treating keys as positions is deprecated. In a future version, integer keys will always be treated as labels (consistent with DataFrame behavior). To access a value by position, use `ser.iloc[pos]`\n",
      "  use_col_names.update({col_names[l]:l})\n"
     ]
    },
    {
     "name": "stdout",
     "output_type": "stream",
     "text": [
      "156\n"
     ]
    },
    {
     "name": "stderr",
     "output_type": "stream",
     "text": [
      "/var/folders/xn/9jbxxjcj63b3xbh21qlt_pcr0000gn/T/ipykernel_83080/935186160.py:47: FutureWarning: Series.__getitem__ treating keys as positions is deprecated. In a future version, integer keys will always be treated as labels (consistent with DataFrame behavior). To access a value by position, use `ser.iloc[pos]`\n",
      "  use_col_names.update({col_names[l]:l})\n",
      "/var/folders/xn/9jbxxjcj63b3xbh21qlt_pcr0000gn/T/ipykernel_83080/935186160.py:47: FutureWarning: Series.__getitem__ treating keys as positions is deprecated. In a future version, integer keys will always be treated as labels (consistent with DataFrame behavior). To access a value by position, use `ser.iloc[pos]`\n",
      "  use_col_names.update({col_names[l]:l})\n",
      "/var/folders/xn/9jbxxjcj63b3xbh21qlt_pcr0000gn/T/ipykernel_83080/935186160.py:47: FutureWarning: Series.__getitem__ treating keys as positions is deprecated. In a future version, integer keys will always be treated as labels (consistent with DataFrame behavior). To access a value by position, use `ser.iloc[pos]`\n",
      "  use_col_names.update({col_names[l]:l})\n"
     ]
    },
    {
     "name": "stdout",
     "output_type": "stream",
     "text": [
      "157\n"
     ]
    },
    {
     "name": "stderr",
     "output_type": "stream",
     "text": [
      "/var/folders/xn/9jbxxjcj63b3xbh21qlt_pcr0000gn/T/ipykernel_83080/935186160.py:47: FutureWarning: Series.__getitem__ treating keys as positions is deprecated. In a future version, integer keys will always be treated as labels (consistent with DataFrame behavior). To access a value by position, use `ser.iloc[pos]`\n",
      "  use_col_names.update({col_names[l]:l})\n",
      "/var/folders/xn/9jbxxjcj63b3xbh21qlt_pcr0000gn/T/ipykernel_83080/935186160.py:47: FutureWarning: Series.__getitem__ treating keys as positions is deprecated. In a future version, integer keys will always be treated as labels (consistent with DataFrame behavior). To access a value by position, use `ser.iloc[pos]`\n",
      "  use_col_names.update({col_names[l]:l})\n",
      "/var/folders/xn/9jbxxjcj63b3xbh21qlt_pcr0000gn/T/ipykernel_83080/935186160.py:47: FutureWarning: Series.__getitem__ treating keys as positions is deprecated. In a future version, integer keys will always be treated as labels (consistent with DataFrame behavior). To access a value by position, use `ser.iloc[pos]`\n",
      "  use_col_names.update({col_names[l]:l})\n",
      "/var/folders/xn/9jbxxjcj63b3xbh21qlt_pcr0000gn/T/ipykernel_83080/935186160.py:47: FutureWarning: Series.__getitem__ treating keys as positions is deprecated. In a future version, integer keys will always be treated as labels (consistent with DataFrame behavior). To access a value by position, use `ser.iloc[pos]`\n",
      "  use_col_names.update({col_names[l]:l})\n"
     ]
    },
    {
     "name": "stdout",
     "output_type": "stream",
     "text": [
      "158\n"
     ]
    },
    {
     "name": "stderr",
     "output_type": "stream",
     "text": [
      "/var/folders/xn/9jbxxjcj63b3xbh21qlt_pcr0000gn/T/ipykernel_83080/935186160.py:47: FutureWarning: Series.__getitem__ treating keys as positions is deprecated. In a future version, integer keys will always be treated as labels (consistent with DataFrame behavior). To access a value by position, use `ser.iloc[pos]`\n",
      "  use_col_names.update({col_names[l]:l})\n",
      "/var/folders/xn/9jbxxjcj63b3xbh21qlt_pcr0000gn/T/ipykernel_83080/935186160.py:47: FutureWarning: Series.__getitem__ treating keys as positions is deprecated. In a future version, integer keys will always be treated as labels (consistent with DataFrame behavior). To access a value by position, use `ser.iloc[pos]`\n",
      "  use_col_names.update({col_names[l]:l})\n",
      "/var/folders/xn/9jbxxjcj63b3xbh21qlt_pcr0000gn/T/ipykernel_83080/935186160.py:47: FutureWarning: Series.__getitem__ treating keys as positions is deprecated. In a future version, integer keys will always be treated as labels (consistent with DataFrame behavior). To access a value by position, use `ser.iloc[pos]`\n",
      "  use_col_names.update({col_names[l]:l})\n",
      "/var/folders/xn/9jbxxjcj63b3xbh21qlt_pcr0000gn/T/ipykernel_83080/935186160.py:47: FutureWarning: Series.__getitem__ treating keys as positions is deprecated. In a future version, integer keys will always be treated as labels (consistent with DataFrame behavior). To access a value by position, use `ser.iloc[pos]`\n",
      "  use_col_names.update({col_names[l]:l})\n"
     ]
    },
    {
     "name": "stdout",
     "output_type": "stream",
     "text": [
      "159\n"
     ]
    },
    {
     "name": "stderr",
     "output_type": "stream",
     "text": [
      "/var/folders/xn/9jbxxjcj63b3xbh21qlt_pcr0000gn/T/ipykernel_83080/935186160.py:47: FutureWarning: Series.__getitem__ treating keys as positions is deprecated. In a future version, integer keys will always be treated as labels (consistent with DataFrame behavior). To access a value by position, use `ser.iloc[pos]`\n",
      "  use_col_names.update({col_names[l]:l})\n",
      "/var/folders/xn/9jbxxjcj63b3xbh21qlt_pcr0000gn/T/ipykernel_83080/935186160.py:47: FutureWarning: Series.__getitem__ treating keys as positions is deprecated. In a future version, integer keys will always be treated as labels (consistent with DataFrame behavior). To access a value by position, use `ser.iloc[pos]`\n",
      "  use_col_names.update({col_names[l]:l})\n",
      "/var/folders/xn/9jbxxjcj63b3xbh21qlt_pcr0000gn/T/ipykernel_83080/935186160.py:47: FutureWarning: Series.__getitem__ treating keys as positions is deprecated. In a future version, integer keys will always be treated as labels (consistent with DataFrame behavior). To access a value by position, use `ser.iloc[pos]`\n",
      "  use_col_names.update({col_names[l]:l})\n",
      "/var/folders/xn/9jbxxjcj63b3xbh21qlt_pcr0000gn/T/ipykernel_83080/935186160.py:47: FutureWarning: Series.__getitem__ treating keys as positions is deprecated. In a future version, integer keys will always be treated as labels (consistent with DataFrame behavior). To access a value by position, use `ser.iloc[pos]`\n",
      "  use_col_names.update({col_names[l]:l})\n"
     ]
    },
    {
     "name": "stdout",
     "output_type": "stream",
     "text": [
      "160\n"
     ]
    },
    {
     "name": "stderr",
     "output_type": "stream",
     "text": [
      "/var/folders/xn/9jbxxjcj63b3xbh21qlt_pcr0000gn/T/ipykernel_83080/935186160.py:47: FutureWarning: Series.__getitem__ treating keys as positions is deprecated. In a future version, integer keys will always be treated as labels (consistent with DataFrame behavior). To access a value by position, use `ser.iloc[pos]`\n",
      "  use_col_names.update({col_names[l]:l})\n",
      "/var/folders/xn/9jbxxjcj63b3xbh21qlt_pcr0000gn/T/ipykernel_83080/935186160.py:47: FutureWarning: Series.__getitem__ treating keys as positions is deprecated. In a future version, integer keys will always be treated as labels (consistent with DataFrame behavior). To access a value by position, use `ser.iloc[pos]`\n",
      "  use_col_names.update({col_names[l]:l})\n",
      "/var/folders/xn/9jbxxjcj63b3xbh21qlt_pcr0000gn/T/ipykernel_83080/935186160.py:47: FutureWarning: Series.__getitem__ treating keys as positions is deprecated. In a future version, integer keys will always be treated as labels (consistent with DataFrame behavior). To access a value by position, use `ser.iloc[pos]`\n",
      "  use_col_names.update({col_names[l]:l})\n",
      "/var/folders/xn/9jbxxjcj63b3xbh21qlt_pcr0000gn/T/ipykernel_83080/935186160.py:47: FutureWarning: Series.__getitem__ treating keys as positions is deprecated. In a future version, integer keys will always be treated as labels (consistent with DataFrame behavior). To access a value by position, use `ser.iloc[pos]`\n",
      "  use_col_names.update({col_names[l]:l})\n"
     ]
    },
    {
     "name": "stdout",
     "output_type": "stream",
     "text": [
      "161\n"
     ]
    },
    {
     "name": "stderr",
     "output_type": "stream",
     "text": [
      "/var/folders/xn/9jbxxjcj63b3xbh21qlt_pcr0000gn/T/ipykernel_83080/935186160.py:47: FutureWarning: Series.__getitem__ treating keys as positions is deprecated. In a future version, integer keys will always be treated as labels (consistent with DataFrame behavior). To access a value by position, use `ser.iloc[pos]`\n",
      "  use_col_names.update({col_names[l]:l})\n",
      "/var/folders/xn/9jbxxjcj63b3xbh21qlt_pcr0000gn/T/ipykernel_83080/935186160.py:47: FutureWarning: Series.__getitem__ treating keys as positions is deprecated. In a future version, integer keys will always be treated as labels (consistent with DataFrame behavior). To access a value by position, use `ser.iloc[pos]`\n",
      "  use_col_names.update({col_names[l]:l})\n",
      "/var/folders/xn/9jbxxjcj63b3xbh21qlt_pcr0000gn/T/ipykernel_83080/935186160.py:47: FutureWarning: Series.__getitem__ treating keys as positions is deprecated. In a future version, integer keys will always be treated as labels (consistent with DataFrame behavior). To access a value by position, use `ser.iloc[pos]`\n",
      "  use_col_names.update({col_names[l]:l})\n",
      "/var/folders/xn/9jbxxjcj63b3xbh21qlt_pcr0000gn/T/ipykernel_83080/935186160.py:47: FutureWarning: Series.__getitem__ treating keys as positions is deprecated. In a future version, integer keys will always be treated as labels (consistent with DataFrame behavior). To access a value by position, use `ser.iloc[pos]`\n",
      "  use_col_names.update({col_names[l]:l})\n"
     ]
    },
    {
     "name": "stdout",
     "output_type": "stream",
     "text": [
      "162\n"
     ]
    },
    {
     "name": "stderr",
     "output_type": "stream",
     "text": [
      "/var/folders/xn/9jbxxjcj63b3xbh21qlt_pcr0000gn/T/ipykernel_83080/935186160.py:47: FutureWarning: Series.__getitem__ treating keys as positions is deprecated. In a future version, integer keys will always be treated as labels (consistent with DataFrame behavior). To access a value by position, use `ser.iloc[pos]`\n",
      "  use_col_names.update({col_names[l]:l})\n",
      "/var/folders/xn/9jbxxjcj63b3xbh21qlt_pcr0000gn/T/ipykernel_83080/935186160.py:47: FutureWarning: Series.__getitem__ treating keys as positions is deprecated. In a future version, integer keys will always be treated as labels (consistent with DataFrame behavior). To access a value by position, use `ser.iloc[pos]`\n",
      "  use_col_names.update({col_names[l]:l})\n",
      "/var/folders/xn/9jbxxjcj63b3xbh21qlt_pcr0000gn/T/ipykernel_83080/935186160.py:47: FutureWarning: Series.__getitem__ treating keys as positions is deprecated. In a future version, integer keys will always be treated as labels (consistent with DataFrame behavior). To access a value by position, use `ser.iloc[pos]`\n",
      "  use_col_names.update({col_names[l]:l})\n",
      "/var/folders/xn/9jbxxjcj63b3xbh21qlt_pcr0000gn/T/ipykernel_83080/935186160.py:47: FutureWarning: Series.__getitem__ treating keys as positions is deprecated. In a future version, integer keys will always be treated as labels (consistent with DataFrame behavior). To access a value by position, use `ser.iloc[pos]`\n",
      "  use_col_names.update({col_names[l]:l})\n"
     ]
    },
    {
     "name": "stdout",
     "output_type": "stream",
     "text": [
      "163\n"
     ]
    },
    {
     "name": "stderr",
     "output_type": "stream",
     "text": [
      "/var/folders/xn/9jbxxjcj63b3xbh21qlt_pcr0000gn/T/ipykernel_83080/935186160.py:47: FutureWarning: Series.__getitem__ treating keys as positions is deprecated. In a future version, integer keys will always be treated as labels (consistent with DataFrame behavior). To access a value by position, use `ser.iloc[pos]`\n",
      "  use_col_names.update({col_names[l]:l})\n",
      "/var/folders/xn/9jbxxjcj63b3xbh21qlt_pcr0000gn/T/ipykernel_83080/935186160.py:47: FutureWarning: Series.__getitem__ treating keys as positions is deprecated. In a future version, integer keys will always be treated as labels (consistent with DataFrame behavior). To access a value by position, use `ser.iloc[pos]`\n",
      "  use_col_names.update({col_names[l]:l})\n",
      "/var/folders/xn/9jbxxjcj63b3xbh21qlt_pcr0000gn/T/ipykernel_83080/935186160.py:47: FutureWarning: Series.__getitem__ treating keys as positions is deprecated. In a future version, integer keys will always be treated as labels (consistent with DataFrame behavior). To access a value by position, use `ser.iloc[pos]`\n",
      "  use_col_names.update({col_names[l]:l})\n",
      "/var/folders/xn/9jbxxjcj63b3xbh21qlt_pcr0000gn/T/ipykernel_83080/935186160.py:47: FutureWarning: Series.__getitem__ treating keys as positions is deprecated. In a future version, integer keys will always be treated as labels (consistent with DataFrame behavior). To access a value by position, use `ser.iloc[pos]`\n",
      "  use_col_names.update({col_names[l]:l})\n"
     ]
    },
    {
     "name": "stdout",
     "output_type": "stream",
     "text": [
      "164\n"
     ]
    },
    {
     "name": "stderr",
     "output_type": "stream",
     "text": [
      "/var/folders/xn/9jbxxjcj63b3xbh21qlt_pcr0000gn/T/ipykernel_83080/935186160.py:47: FutureWarning: Series.__getitem__ treating keys as positions is deprecated. In a future version, integer keys will always be treated as labels (consistent with DataFrame behavior). To access a value by position, use `ser.iloc[pos]`\n",
      "  use_col_names.update({col_names[l]:l})\n",
      "/var/folders/xn/9jbxxjcj63b3xbh21qlt_pcr0000gn/T/ipykernel_83080/935186160.py:47: FutureWarning: Series.__getitem__ treating keys as positions is deprecated. In a future version, integer keys will always be treated as labels (consistent with DataFrame behavior). To access a value by position, use `ser.iloc[pos]`\n",
      "  use_col_names.update({col_names[l]:l})\n",
      "/var/folders/xn/9jbxxjcj63b3xbh21qlt_pcr0000gn/T/ipykernel_83080/935186160.py:47: FutureWarning: Series.__getitem__ treating keys as positions is deprecated. In a future version, integer keys will always be treated as labels (consistent with DataFrame behavior). To access a value by position, use `ser.iloc[pos]`\n",
      "  use_col_names.update({col_names[l]:l})\n",
      "/var/folders/xn/9jbxxjcj63b3xbh21qlt_pcr0000gn/T/ipykernel_83080/935186160.py:47: FutureWarning: Series.__getitem__ treating keys as positions is deprecated. In a future version, integer keys will always be treated as labels (consistent with DataFrame behavior). To access a value by position, use `ser.iloc[pos]`\n",
      "  use_col_names.update({col_names[l]:l})\n"
     ]
    },
    {
     "name": "stdout",
     "output_type": "stream",
     "text": [
      "165\n"
     ]
    },
    {
     "name": "stderr",
     "output_type": "stream",
     "text": [
      "/var/folders/xn/9jbxxjcj63b3xbh21qlt_pcr0000gn/T/ipykernel_83080/935186160.py:47: FutureWarning: Series.__getitem__ treating keys as positions is deprecated. In a future version, integer keys will always be treated as labels (consistent with DataFrame behavior). To access a value by position, use `ser.iloc[pos]`\n",
      "  use_col_names.update({col_names[l]:l})\n",
      "/var/folders/xn/9jbxxjcj63b3xbh21qlt_pcr0000gn/T/ipykernel_83080/935186160.py:47: FutureWarning: Series.__getitem__ treating keys as positions is deprecated. In a future version, integer keys will always be treated as labels (consistent with DataFrame behavior). To access a value by position, use `ser.iloc[pos]`\n",
      "  use_col_names.update({col_names[l]:l})\n",
      "/var/folders/xn/9jbxxjcj63b3xbh21qlt_pcr0000gn/T/ipykernel_83080/935186160.py:47: FutureWarning: Series.__getitem__ treating keys as positions is deprecated. In a future version, integer keys will always be treated as labels (consistent with DataFrame behavior). To access a value by position, use `ser.iloc[pos]`\n",
      "  use_col_names.update({col_names[l]:l})\n",
      "/var/folders/xn/9jbxxjcj63b3xbh21qlt_pcr0000gn/T/ipykernel_83080/935186160.py:47: FutureWarning: Series.__getitem__ treating keys as positions is deprecated. In a future version, integer keys will always be treated as labels (consistent with DataFrame behavior). To access a value by position, use `ser.iloc[pos]`\n",
      "  use_col_names.update({col_names[l]:l})\n"
     ]
    },
    {
     "name": "stdout",
     "output_type": "stream",
     "text": [
      "166\n"
     ]
    },
    {
     "name": "stderr",
     "output_type": "stream",
     "text": [
      "/var/folders/xn/9jbxxjcj63b3xbh21qlt_pcr0000gn/T/ipykernel_83080/935186160.py:47: FutureWarning: Series.__getitem__ treating keys as positions is deprecated. In a future version, integer keys will always be treated as labels (consistent with DataFrame behavior). To access a value by position, use `ser.iloc[pos]`\n",
      "  use_col_names.update({col_names[l]:l})\n",
      "/var/folders/xn/9jbxxjcj63b3xbh21qlt_pcr0000gn/T/ipykernel_83080/935186160.py:47: FutureWarning: Series.__getitem__ treating keys as positions is deprecated. In a future version, integer keys will always be treated as labels (consistent with DataFrame behavior). To access a value by position, use `ser.iloc[pos]`\n",
      "  use_col_names.update({col_names[l]:l})\n",
      "/var/folders/xn/9jbxxjcj63b3xbh21qlt_pcr0000gn/T/ipykernel_83080/935186160.py:47: FutureWarning: Series.__getitem__ treating keys as positions is deprecated. In a future version, integer keys will always be treated as labels (consistent with DataFrame behavior). To access a value by position, use `ser.iloc[pos]`\n",
      "  use_col_names.update({col_names[l]:l})\n",
      "/var/folders/xn/9jbxxjcj63b3xbh21qlt_pcr0000gn/T/ipykernel_83080/935186160.py:47: FutureWarning: Series.__getitem__ treating keys as positions is deprecated. In a future version, integer keys will always be treated as labels (consistent with DataFrame behavior). To access a value by position, use `ser.iloc[pos]`\n",
      "  use_col_names.update({col_names[l]:l})\n"
     ]
    },
    {
     "name": "stdout",
     "output_type": "stream",
     "text": [
      "167\n"
     ]
    },
    {
     "name": "stderr",
     "output_type": "stream",
     "text": [
      "/var/folders/xn/9jbxxjcj63b3xbh21qlt_pcr0000gn/T/ipykernel_83080/935186160.py:47: FutureWarning: Series.__getitem__ treating keys as positions is deprecated. In a future version, integer keys will always be treated as labels (consistent with DataFrame behavior). To access a value by position, use `ser.iloc[pos]`\n",
      "  use_col_names.update({col_names[l]:l})\n",
      "/var/folders/xn/9jbxxjcj63b3xbh21qlt_pcr0000gn/T/ipykernel_83080/935186160.py:47: FutureWarning: Series.__getitem__ treating keys as positions is deprecated. In a future version, integer keys will always be treated as labels (consistent with DataFrame behavior). To access a value by position, use `ser.iloc[pos]`\n",
      "  use_col_names.update({col_names[l]:l})\n",
      "/var/folders/xn/9jbxxjcj63b3xbh21qlt_pcr0000gn/T/ipykernel_83080/935186160.py:47: FutureWarning: Series.__getitem__ treating keys as positions is deprecated. In a future version, integer keys will always be treated as labels (consistent with DataFrame behavior). To access a value by position, use `ser.iloc[pos]`\n",
      "  use_col_names.update({col_names[l]:l})\n",
      "/var/folders/xn/9jbxxjcj63b3xbh21qlt_pcr0000gn/T/ipykernel_83080/935186160.py:47: FutureWarning: Series.__getitem__ treating keys as positions is deprecated. In a future version, integer keys will always be treated as labels (consistent with DataFrame behavior). To access a value by position, use `ser.iloc[pos]`\n",
      "  use_col_names.update({col_names[l]:l})\n"
     ]
    },
    {
     "name": "stdout",
     "output_type": "stream",
     "text": [
      "168\n"
     ]
    },
    {
     "name": "stderr",
     "output_type": "stream",
     "text": [
      "/var/folders/xn/9jbxxjcj63b3xbh21qlt_pcr0000gn/T/ipykernel_83080/935186160.py:47: FutureWarning: Series.__getitem__ treating keys as positions is deprecated. In a future version, integer keys will always be treated as labels (consistent with DataFrame behavior). To access a value by position, use `ser.iloc[pos]`\n",
      "  use_col_names.update({col_names[l]:l})\n",
      "/var/folders/xn/9jbxxjcj63b3xbh21qlt_pcr0000gn/T/ipykernel_83080/935186160.py:47: FutureWarning: Series.__getitem__ treating keys as positions is deprecated. In a future version, integer keys will always be treated as labels (consistent with DataFrame behavior). To access a value by position, use `ser.iloc[pos]`\n",
      "  use_col_names.update({col_names[l]:l})\n",
      "/var/folders/xn/9jbxxjcj63b3xbh21qlt_pcr0000gn/T/ipykernel_83080/935186160.py:47: FutureWarning: Series.__getitem__ treating keys as positions is deprecated. In a future version, integer keys will always be treated as labels (consistent with DataFrame behavior). To access a value by position, use `ser.iloc[pos]`\n",
      "  use_col_names.update({col_names[l]:l})\n",
      "/var/folders/xn/9jbxxjcj63b3xbh21qlt_pcr0000gn/T/ipykernel_83080/935186160.py:47: FutureWarning: Series.__getitem__ treating keys as positions is deprecated. In a future version, integer keys will always be treated as labels (consistent with DataFrame behavior). To access a value by position, use `ser.iloc[pos]`\n",
      "  use_col_names.update({col_names[l]:l})\n"
     ]
    },
    {
     "name": "stdout",
     "output_type": "stream",
     "text": [
      "169\n"
     ]
    },
    {
     "name": "stderr",
     "output_type": "stream",
     "text": [
      "/var/folders/xn/9jbxxjcj63b3xbh21qlt_pcr0000gn/T/ipykernel_83080/935186160.py:47: FutureWarning: Series.__getitem__ treating keys as positions is deprecated. In a future version, integer keys will always be treated as labels (consistent with DataFrame behavior). To access a value by position, use `ser.iloc[pos]`\n",
      "  use_col_names.update({col_names[l]:l})\n",
      "/var/folders/xn/9jbxxjcj63b3xbh21qlt_pcr0000gn/T/ipykernel_83080/935186160.py:47: FutureWarning: Series.__getitem__ treating keys as positions is deprecated. In a future version, integer keys will always be treated as labels (consistent with DataFrame behavior). To access a value by position, use `ser.iloc[pos]`\n",
      "  use_col_names.update({col_names[l]:l})\n",
      "/var/folders/xn/9jbxxjcj63b3xbh21qlt_pcr0000gn/T/ipykernel_83080/935186160.py:47: FutureWarning: Series.__getitem__ treating keys as positions is deprecated. In a future version, integer keys will always be treated as labels (consistent with DataFrame behavior). To access a value by position, use `ser.iloc[pos]`\n",
      "  use_col_names.update({col_names[l]:l})\n",
      "/var/folders/xn/9jbxxjcj63b3xbh21qlt_pcr0000gn/T/ipykernel_83080/935186160.py:47: FutureWarning: Series.__getitem__ treating keys as positions is deprecated. In a future version, integer keys will always be treated as labels (consistent with DataFrame behavior). To access a value by position, use `ser.iloc[pos]`\n",
      "  use_col_names.update({col_names[l]:l})\n"
     ]
    },
    {
     "name": "stdout",
     "output_type": "stream",
     "text": [
      "170\n"
     ]
    },
    {
     "name": "stderr",
     "output_type": "stream",
     "text": [
      "/var/folders/xn/9jbxxjcj63b3xbh21qlt_pcr0000gn/T/ipykernel_83080/935186160.py:47: FutureWarning: Series.__getitem__ treating keys as positions is deprecated. In a future version, integer keys will always be treated as labels (consistent with DataFrame behavior). To access a value by position, use `ser.iloc[pos]`\n",
      "  use_col_names.update({col_names[l]:l})\n",
      "/var/folders/xn/9jbxxjcj63b3xbh21qlt_pcr0000gn/T/ipykernel_83080/935186160.py:47: FutureWarning: Series.__getitem__ treating keys as positions is deprecated. In a future version, integer keys will always be treated as labels (consistent with DataFrame behavior). To access a value by position, use `ser.iloc[pos]`\n",
      "  use_col_names.update({col_names[l]:l})\n",
      "/var/folders/xn/9jbxxjcj63b3xbh21qlt_pcr0000gn/T/ipykernel_83080/935186160.py:47: FutureWarning: Series.__getitem__ treating keys as positions is deprecated. In a future version, integer keys will always be treated as labels (consistent with DataFrame behavior). To access a value by position, use `ser.iloc[pos]`\n",
      "  use_col_names.update({col_names[l]:l})\n",
      "/var/folders/xn/9jbxxjcj63b3xbh21qlt_pcr0000gn/T/ipykernel_83080/935186160.py:47: FutureWarning: Series.__getitem__ treating keys as positions is deprecated. In a future version, integer keys will always be treated as labels (consistent with DataFrame behavior). To access a value by position, use `ser.iloc[pos]`\n",
      "  use_col_names.update({col_names[l]:l})\n"
     ]
    },
    {
     "name": "stdout",
     "output_type": "stream",
     "text": [
      "171\n"
     ]
    },
    {
     "name": "stderr",
     "output_type": "stream",
     "text": [
      "/var/folders/xn/9jbxxjcj63b3xbh21qlt_pcr0000gn/T/ipykernel_83080/935186160.py:47: FutureWarning: Series.__getitem__ treating keys as positions is deprecated. In a future version, integer keys will always be treated as labels (consistent with DataFrame behavior). To access a value by position, use `ser.iloc[pos]`\n",
      "  use_col_names.update({col_names[l]:l})\n",
      "/var/folders/xn/9jbxxjcj63b3xbh21qlt_pcr0000gn/T/ipykernel_83080/935186160.py:47: FutureWarning: Series.__getitem__ treating keys as positions is deprecated. In a future version, integer keys will always be treated as labels (consistent with DataFrame behavior). To access a value by position, use `ser.iloc[pos]`\n",
      "  use_col_names.update({col_names[l]:l})\n",
      "/var/folders/xn/9jbxxjcj63b3xbh21qlt_pcr0000gn/T/ipykernel_83080/935186160.py:47: FutureWarning: Series.__getitem__ treating keys as positions is deprecated. In a future version, integer keys will always be treated as labels (consistent with DataFrame behavior). To access a value by position, use `ser.iloc[pos]`\n",
      "  use_col_names.update({col_names[l]:l})\n",
      "/var/folders/xn/9jbxxjcj63b3xbh21qlt_pcr0000gn/T/ipykernel_83080/935186160.py:47: FutureWarning: Series.__getitem__ treating keys as positions is deprecated. In a future version, integer keys will always be treated as labels (consistent with DataFrame behavior). To access a value by position, use `ser.iloc[pos]`\n",
      "  use_col_names.update({col_names[l]:l})\n",
      "/var/folders/xn/9jbxxjcj63b3xbh21qlt_pcr0000gn/T/ipykernel_83080/935186160.py:47: FutureWarning: Series.__getitem__ treating keys as positions is deprecated. In a future version, integer keys will always be treated as labels (consistent with DataFrame behavior). To access a value by position, use `ser.iloc[pos]`\n",
      "  use_col_names.update({col_names[l]:l})\n"
     ]
    },
    {
     "name": "stdout",
     "output_type": "stream",
     "text": [
      "172\n"
     ]
    },
    {
     "name": "stderr",
     "output_type": "stream",
     "text": [
      "/var/folders/xn/9jbxxjcj63b3xbh21qlt_pcr0000gn/T/ipykernel_83080/935186160.py:47: FutureWarning: Series.__getitem__ treating keys as positions is deprecated. In a future version, integer keys will always be treated as labels (consistent with DataFrame behavior). To access a value by position, use `ser.iloc[pos]`\n",
      "  use_col_names.update({col_names[l]:l})\n",
      "/var/folders/xn/9jbxxjcj63b3xbh21qlt_pcr0000gn/T/ipykernel_83080/935186160.py:47: FutureWarning: Series.__getitem__ treating keys as positions is deprecated. In a future version, integer keys will always be treated as labels (consistent with DataFrame behavior). To access a value by position, use `ser.iloc[pos]`\n",
      "  use_col_names.update({col_names[l]:l})\n",
      "/var/folders/xn/9jbxxjcj63b3xbh21qlt_pcr0000gn/T/ipykernel_83080/935186160.py:47: FutureWarning: Series.__getitem__ treating keys as positions is deprecated. In a future version, integer keys will always be treated as labels (consistent with DataFrame behavior). To access a value by position, use `ser.iloc[pos]`\n",
      "  use_col_names.update({col_names[l]:l})\n"
     ]
    },
    {
     "name": "stdout",
     "output_type": "stream",
     "text": [
      "173\n"
     ]
    },
    {
     "name": "stderr",
     "output_type": "stream",
     "text": [
      "/var/folders/xn/9jbxxjcj63b3xbh21qlt_pcr0000gn/T/ipykernel_83080/935186160.py:47: FutureWarning: Series.__getitem__ treating keys as positions is deprecated. In a future version, integer keys will always be treated as labels (consistent with DataFrame behavior). To access a value by position, use `ser.iloc[pos]`\n",
      "  use_col_names.update({col_names[l]:l})\n",
      "/var/folders/xn/9jbxxjcj63b3xbh21qlt_pcr0000gn/T/ipykernel_83080/935186160.py:47: FutureWarning: Series.__getitem__ treating keys as positions is deprecated. In a future version, integer keys will always be treated as labels (consistent with DataFrame behavior). To access a value by position, use `ser.iloc[pos]`\n",
      "  use_col_names.update({col_names[l]:l})\n",
      "/var/folders/xn/9jbxxjcj63b3xbh21qlt_pcr0000gn/T/ipykernel_83080/935186160.py:47: FutureWarning: Series.__getitem__ treating keys as positions is deprecated. In a future version, integer keys will always be treated as labels (consistent with DataFrame behavior). To access a value by position, use `ser.iloc[pos]`\n",
      "  use_col_names.update({col_names[l]:l})\n",
      "/var/folders/xn/9jbxxjcj63b3xbh21qlt_pcr0000gn/T/ipykernel_83080/935186160.py:47: FutureWarning: Series.__getitem__ treating keys as positions is deprecated. In a future version, integer keys will always be treated as labels (consistent with DataFrame behavior). To access a value by position, use `ser.iloc[pos]`\n",
      "  use_col_names.update({col_names[l]:l})\n"
     ]
    },
    {
     "name": "stdout",
     "output_type": "stream",
     "text": [
      "174\n"
     ]
    },
    {
     "name": "stderr",
     "output_type": "stream",
     "text": [
      "/var/folders/xn/9jbxxjcj63b3xbh21qlt_pcr0000gn/T/ipykernel_83080/935186160.py:47: FutureWarning: Series.__getitem__ treating keys as positions is deprecated. In a future version, integer keys will always be treated as labels (consistent with DataFrame behavior). To access a value by position, use `ser.iloc[pos]`\n",
      "  use_col_names.update({col_names[l]:l})\n",
      "/var/folders/xn/9jbxxjcj63b3xbh21qlt_pcr0000gn/T/ipykernel_83080/935186160.py:47: FutureWarning: Series.__getitem__ treating keys as positions is deprecated. In a future version, integer keys will always be treated as labels (consistent with DataFrame behavior). To access a value by position, use `ser.iloc[pos]`\n",
      "  use_col_names.update({col_names[l]:l})\n",
      "/var/folders/xn/9jbxxjcj63b3xbh21qlt_pcr0000gn/T/ipykernel_83080/935186160.py:47: FutureWarning: Series.__getitem__ treating keys as positions is deprecated. In a future version, integer keys will always be treated as labels (consistent with DataFrame behavior). To access a value by position, use `ser.iloc[pos]`\n",
      "  use_col_names.update({col_names[l]:l})\n",
      "/var/folders/xn/9jbxxjcj63b3xbh21qlt_pcr0000gn/T/ipykernel_83080/935186160.py:47: FutureWarning: Series.__getitem__ treating keys as positions is deprecated. In a future version, integer keys will always be treated as labels (consistent with DataFrame behavior). To access a value by position, use `ser.iloc[pos]`\n",
      "  use_col_names.update({col_names[l]:l})\n"
     ]
    },
    {
     "name": "stdout",
     "output_type": "stream",
     "text": [
      "175\n"
     ]
    },
    {
     "name": "stderr",
     "output_type": "stream",
     "text": [
      "/var/folders/xn/9jbxxjcj63b3xbh21qlt_pcr0000gn/T/ipykernel_83080/935186160.py:47: FutureWarning: Series.__getitem__ treating keys as positions is deprecated. In a future version, integer keys will always be treated as labels (consistent with DataFrame behavior). To access a value by position, use `ser.iloc[pos]`\n",
      "  use_col_names.update({col_names[l]:l})\n",
      "/var/folders/xn/9jbxxjcj63b3xbh21qlt_pcr0000gn/T/ipykernel_83080/935186160.py:47: FutureWarning: Series.__getitem__ treating keys as positions is deprecated. In a future version, integer keys will always be treated as labels (consistent with DataFrame behavior). To access a value by position, use `ser.iloc[pos]`\n",
      "  use_col_names.update({col_names[l]:l})\n",
      "/var/folders/xn/9jbxxjcj63b3xbh21qlt_pcr0000gn/T/ipykernel_83080/935186160.py:47: FutureWarning: Series.__getitem__ treating keys as positions is deprecated. In a future version, integer keys will always be treated as labels (consistent with DataFrame behavior). To access a value by position, use `ser.iloc[pos]`\n",
      "  use_col_names.update({col_names[l]:l})\n",
      "/var/folders/xn/9jbxxjcj63b3xbh21qlt_pcr0000gn/T/ipykernel_83080/935186160.py:47: FutureWarning: Series.__getitem__ treating keys as positions is deprecated. In a future version, integer keys will always be treated as labels (consistent with DataFrame behavior). To access a value by position, use `ser.iloc[pos]`\n",
      "  use_col_names.update({col_names[l]:l})\n",
      "/var/folders/xn/9jbxxjcj63b3xbh21qlt_pcr0000gn/T/ipykernel_83080/935186160.py:47: FutureWarning: Series.__getitem__ treating keys as positions is deprecated. In a future version, integer keys will always be treated as labels (consistent with DataFrame behavior). To access a value by position, use `ser.iloc[pos]`\n",
      "  use_col_names.update({col_names[l]:l})\n"
     ]
    },
    {
     "name": "stdout",
     "output_type": "stream",
     "text": [
      "176\n"
     ]
    },
    {
     "name": "stderr",
     "output_type": "stream",
     "text": [
      "/var/folders/xn/9jbxxjcj63b3xbh21qlt_pcr0000gn/T/ipykernel_83080/935186160.py:47: FutureWarning: Series.__getitem__ treating keys as positions is deprecated. In a future version, integer keys will always be treated as labels (consistent with DataFrame behavior). To access a value by position, use `ser.iloc[pos]`\n",
      "  use_col_names.update({col_names[l]:l})\n",
      "/var/folders/xn/9jbxxjcj63b3xbh21qlt_pcr0000gn/T/ipykernel_83080/935186160.py:47: FutureWarning: Series.__getitem__ treating keys as positions is deprecated. In a future version, integer keys will always be treated as labels (consistent with DataFrame behavior). To access a value by position, use `ser.iloc[pos]`\n",
      "  use_col_names.update({col_names[l]:l})\n",
      "/var/folders/xn/9jbxxjcj63b3xbh21qlt_pcr0000gn/T/ipykernel_83080/935186160.py:47: FutureWarning: Series.__getitem__ treating keys as positions is deprecated. In a future version, integer keys will always be treated as labels (consistent with DataFrame behavior). To access a value by position, use `ser.iloc[pos]`\n",
      "  use_col_names.update({col_names[l]:l})\n"
     ]
    },
    {
     "name": "stdout",
     "output_type": "stream",
     "text": [
      "177\n",
      "178\n",
      "179\n",
      "180\n",
      "181\n",
      "182\n",
      "183\n",
      "184\n",
      "185\n",
      "186\n",
      "187\n",
      "188\n",
      "189\n",
      "190\n",
      "191\n",
      "192\n",
      "193\n",
      "194\n",
      "195\n",
      "196\n",
      "197\n",
      "198\n",
      "199\n",
      "200\n",
      "201\n",
      "202\n",
      "203\n",
      "204\n",
      "205\n",
      "206\n",
      "207\n",
      "208\n",
      "209\n",
      "210\n",
      "211\n",
      "212\n",
      "213\n",
      "214\n",
      "215\n",
      "216\n",
      "217\n",
      "218\n",
      "219\n",
      "220\n",
      "221\n",
      "222\n",
      "223\n",
      "224\n",
      "225\n",
      "226\n",
      "227\n",
      "228\n",
      "229\n",
      "230\n",
      "231\n",
      "232\n",
      "233\n",
      "234\n",
      "235\n",
      "236\n",
      "237\n",
      "238\n",
      "239\n",
      "240\n",
      "241\n",
      "242\n",
      "243\n",
      "244\n",
      "245\n",
      "246\n",
      "247\n",
      "248\n",
      "249\n",
      "250\n",
      "251\n",
      "252\n",
      "253\n",
      "254\n",
      "255\n",
      "256\n",
      "257\n",
      "258\n",
      "259\n",
      "260\n",
      "261\n",
      "262\n",
      "263\n",
      "264\n",
      "265\n",
      "266\n",
      "267\n",
      "268\n",
      "269\n",
      "270\n",
      "271\n",
      "272\n",
      "273\n",
      "CPU times: user 1min 42s, sys: 4.88 s, total: 1min 47s\n",
      "Wall time: 5min 10s\n"
     ]
    }
   ],
   "source": [
    "%%time\n",
    "if skip != 1:\n",
    "    error_urls, list_dfs = [],[]\n",
    "    #for i in range(257,258):\n",
    "    for i in range(len(all_urls)):\n",
    "        print(i)\n",
    "        date = all_urls[i][0:4] +\"_\" +  all_urls[i][5:7] + \"_\" +  all_urls[i][7:9] \n",
    "\n",
    "        # 現状\n",
    "        file_url = url_head + all_urls[i].strip(\"menu.html\") + \"watcher4.csv\"\n",
    "        \n",
    "        try:\n",
    "            df_tmp = pd.read_csv(file_url,encoding=\"cp932\")\n",
    "            df_out = extract_data(df_tmp)\n",
    "            df_out[\"date\"] = date\n",
    "            df_out[\"type\"] = \"now\"\n",
    "            list_dfs.append(df_out)\n",
    "\n",
    "        except:\n",
    "            error_urls.append(file_url)\n",
    "            \n",
    "        # 先行き\n",
    "        file_url = url_head + all_urls[i].strip(\"menu.html\") + \"watcher5.csv\"\n",
    "\n",
    "        try:\n",
    "            df_tmp = pd.read_csv(file_url,encoding=\"cp932\")\n",
    "            df_out = extract_data(df_tmp)\n",
    "            df_out[\"date\"] = date\n",
    "            df_out[\"type\"] = \"future\"\n",
    "            list_dfs.append(df_out)\n",
    "\n",
    "        except:\n",
    "            #print(file_url)\n",
    "            error_urls.append(file_url)\n",
    "\n",
    "        # 甲信越　現状\n",
    "        file_url = url_head + all_urls[i].strip(\"menu.html\") + \"watcher6.csv\"\n",
    "        try:\n",
    "            df_tmp = pd.read_csv(file_url,encoding=\"cp932\")\n",
    "            df_out = extract_data(df_tmp)\n",
    "            df_out[\"date\"] = date\n",
    "            df_out[\"type\"] = \"now_koushin\"\n",
    "            list_dfs.append(df_out)\n",
    "\n",
    "        except:\n",
    "            error_urls.append(file_url)\n",
    "\n",
    "        # 甲信越　先行き\n",
    "        file_url = url_head + all_urls[i].strip(\"menu.html\") + \"watcher7.csv\"\n",
    "        try:\n",
    "            df_tmp = pd.read_csv(file_url,encoding=\"cp932\")\n",
    "            df_out = extract_data(df_tmp)\n",
    "            df_out[\"date\"] = date\n",
    "            df_out[\"type\"] = \"future_koushin\"\n",
    "            list_dfs.append(df_out)\n",
    "\n",
    "        except:\n",
    "            error_urls.append(file_url)"
   ]
  },
  {
   "cell_type": "code",
   "execution_count": null,
   "metadata": {},
   "outputs": [],
   "source": [
    "# Concatenate all together\n",
    "\n",
    "if skip != 1:\n",
    "    # concatenate\n",
    "    df = pd.concat(list_dfs)\n",
    "    # change symbols to values\n",
    "    df[\"label\"] = df[\"symbol\"].map(kigou2value)\n",
    "    # count type\n",
    "    df[\"type\"].value_counts()\n",
    "\n",
    "# Save\n",
    "if skip != 1:\n",
    "    #save\n",
    "    df.to_csv(\"./keiki.csv\", index = False)"
   ]
  },
  {
   "cell_type": "code",
   "execution_count": null,
   "metadata": {},
   "outputs": [],
   "source": []
  }
 ],
 "metadata": {
  "kernelspec": {
   "display_name": "Python 3",
   "language": "python",
   "name": "python3"
  },
  "language_info": {
   "codemirror_mode": {
    "name": "ipython",
    "version": 3
   },
   "file_extension": ".py",
   "mimetype": "text/x-python",
   "name": "python",
   "nbconvert_exporter": "python",
   "pygments_lexer": "ipython3",
   "version": "3.11.1"
  }
 },
 "nbformat": 4,
 "nbformat_minor": 2
}
