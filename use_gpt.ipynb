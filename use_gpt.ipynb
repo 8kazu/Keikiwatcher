{
 "cells": [
  {
   "cell_type": "code",
   "execution_count": 1,
   "metadata": {},
   "outputs": [],
   "source": [
    "use_model = \"ews_gpt35\"\n",
    "# Choose embedding method\n",
    "model_embed = \"bert\""
   ]
  },
  {
   "cell_type": "code",
   "execution_count": 2,
   "metadata": {},
   "outputs": [],
   "source": [
    "import numpy as np\n",
    "import tqdm\n",
    "import random\n",
    "import pandas as pd\n",
    "import json\n",
    "import glob\n",
    "import matplotlib.pyplot as plt\n",
    "import jaconv\n",
    "from sklearn.cluster import DBSCAN\n",
    "from sklearn.neighbors import NearestNeighbors\n",
    "from sklearn.cluster import KMeans\n",
    "import networkx as nx\n",
    "import unicodedata\n",
    "\n",
    "import os\n",
    "os.environ[\"CUDA_VISIBLE_DEVICES\"]=\"0\""
   ]
  },
  {
   "cell_type": "code",
   "execution_count": 3,
   "metadata": {},
   "outputs": [],
   "source": [
    "log_list = glob.glob(use_model + \"/*\")"
   ]
  },
  {
   "cell_type": "code",
   "execution_count": 4,
   "metadata": {},
   "outputs": [],
   "source": [
    "def read_log(path):\n",
    "    with open(path, \"r\") as f:\n",
    "        lines = f.readlines()\n",
    "\n",
    "    out_edges = []\n",
    "    for kkk in range(len(lines)):\n",
    "        #kkk = 0\n",
    "        data = json.loads(lines[kkk])\n",
    "        answer = data[\"answer\"]\n",
    "                \n",
    "        date = data[\"date\"]\n",
    "        now_future = data[\"type\"]\n",
    "        v1 = data[\"input\"].split(\";\")\n",
    "        label = v1[0]\n",
    "        region = v1[1]\n",
    "        industry = v1[2]\n",
    "\n",
    "        try:\n",
    "            if answer.startswith('```json'):\n",
    "                # Strip the markdown code block indicators\n",
    "                answer = answer.strip('```json\\\\n')\n",
    "                # Load the inner JSON\n",
    "                answer_dict = json.loads(answer)\n",
    "                nodes = answer_dict['ノードリスト']\n",
    "                edges = answer_dict['エッジリスト']\n",
    "                #### ADDED ####\n",
    "                edges = list(edges)\n",
    "                ###############\n",
    "\n",
    "                for j in range(len(edges)):\n",
    "                    try:\n",
    "                        if \"-->\" in edges[j]:\n",
    "                            tmp = edges[j].split(\"-->\")\n",
    "                            out_edges.append([date,region,industry,label,now_future,tmp[0],\"cause\",tmp[1]])\n",
    "                        else:\n",
    "                            tmp = edges[j].split(\"--*\")\n",
    "                            out_edges.append([date,region,industry,label,now_future,tmp[0],\"nin\",tmp[1]])\n",
    "                    except:\n",
    "                        pass\n",
    "                    \n",
    "            elif \"\\n}\\n}\" in answer:\n",
    "                answer = answer.replace(\"\\n}\\n}\",\"]\\n}\")\n",
    "                answer_dict = json.loads(answer)\n",
    "\n",
    "                nodes = answer_dict['ノードリスト']\n",
    "                edges = answer_dict['エッジリスト']\n",
    "                #### ADDED ####\n",
    "                edges = list(edges)\n",
    "                ###############\n",
    "                \n",
    "                for j in range(len(edges)):\n",
    "                    try:\n",
    "                        if \"-->\" in edges[j]:\n",
    "                            tmp = edges[j].split(\"-->\")\n",
    "                            out_edges.append([date,region,industry,label,now_future,tmp[0],\"cause\",tmp[1]])\n",
    "                        else:\n",
    "                            tmp = edges[j].split(\"--*\")\n",
    "                            out_edges.append([date,region,industry,label,now_future,tmp[0],\"nin\",tmp[1]])\n",
    "                    except:\n",
    "                        pass      \n",
    "                      \n",
    "            else:\n",
    "                #print(\"yes\")\n",
    "                answer_dict = json.loads(answer)\n",
    "\n",
    "                nodes = answer_dict['ノードリスト']\n",
    "                edges = answer_dict['エッジリスト']\n",
    "                #### ADDED ####\n",
    "                edges = list(edges)\n",
    "                ###############\n",
    "                \n",
    "                for j in range(len(edges)):\n",
    "                    try:\n",
    "                        if \"-->\" in edges[j]:\n",
    "                            tmp = edges[j].split(\"-->\")\n",
    "                            out_edges.append([date,region,industry,label,now_future,tmp[0],\"cause\",tmp[1]])\n",
    "                        else:\n",
    "                            tmp = edges[j].split(\"--*\")\n",
    "                            out_edges.append([date,region,industry,label,now_future,tmp[0],\"nin\",tmp[1]])\n",
    "                    except:\n",
    "                        pass\n",
    "        except:\n",
    "            print(kkk)\n",
    "    return out_edges\n",
    "\n",
    "\n",
    "def convert_numbers(df):\n",
    "    # Function to check if the value is numeric (float or int)\n",
    "    def is_number(x):\n",
    "        try:\n",
    "            float(x)  # Type-casting to float to check for numeric\n",
    "            return True\n",
    "        except ValueError:\n",
    "            return False\n",
    "\n",
    "    # Applymap to check each element if it's numeric and then convert\n",
    "    df[\"source\"] = df[\"source\"].apply(lambda x: str(int(float(x))) if is_number(x) else x)\n",
    "    df[\"target\"] = df[\"target\"].apply(lambda x: str(int(float(x))) if is_number(x) else x)\n",
    "\n",
    "    return df\n",
    "\n",
    "\n",
    "def convert_full_width_numeral_to_half_width(element):\n",
    "    if isinstance(element, str):\n",
    "        # Normalize element to half-width if it contains full-width numerals\n",
    "        return ''.join(unicodedata.normalize('NFKC', char) if '\\uff10' <= char <= '\\uff19' else char for char in element)\n",
    "    return element\n",
    "\n",
    "\n",
    "import pandas as pd\n",
    "import networkx as nx\n",
    "\n",
    "def filter_top_nodes(edgelist_df, top_n=100):\n",
    "    # Gather all unique nodes from both source and target columns\n",
    "    all_nodes = pd.concat([edgelist_df['source'], edgelist_df['target']]).unique()\n",
    "\n",
    "    # Calculate incoming and outgoing degrees\n",
    "    node_in = edgelist_df['target'].value_counts()\n",
    "    node_out = edgelist_df['source'].value_counts()\n",
    "\n",
    "    # Ensure all nodes are represented in both incoming and outgoing counts\n",
    "    node_in = node_in.reindex(all_nodes, fill_value=0)\n",
    "    node_out = node_out.reindex(all_nodes, fill_value=0)\n",
    "    \n",
    "    # Define the conditions for filtering nodes\n",
    "    cond_more_than_four_in = node_in > 19\n",
    "    cond_at_least_one_in_and_out = (node_in >= 1) & (node_out >= 1)\n",
    "\n",
    "    # Combine conditions to find the relevant nodes\n",
    "    valid_nodes = node_in[cond_more_than_four_in | cond_at_least_one_in_and_out].index\n",
    "\n",
    "    # Get the top N nodes based on the conditions, or all if fewer than top_n\n",
    "    if top_n < 1 or top_n > len(valid_nodes):\n",
    "        top_nodes = valid_nodes\n",
    "    else:\n",
    "        top_nodes = valid_nodes[:top_n]  # Adjust this if you want to sort or apply a different criteria\n",
    "\n",
    "    # Filter the DataFrame to include only edges with both nodes in the top nodes\n",
    "    filtered_df = edgelist_df[(edgelist_df['source'].isin(top_nodes)) & (edgelist_df['target'].isin(top_nodes))]\n",
    "\n",
    "    # Create a graph from the filtered edge list\n",
    "    G = nx.from_pandas_edgelist(filtered_df, 'source', 'target')\n",
    "\n",
    "    # Find the largest connected component\n",
    "    largest_cc = max(nx.connected_components(G), key=len)\n",
    "\n",
    "    # Filter the DataFrame again to keep only edges within the largest connected component\n",
    "    largest_cc_df = filtered_df[(filtered_df['source'].isin(largest_cc)) & (filtered_df['target'].isin(largest_cc))]\n",
    "\n",
    "    return largest_cc_df, largest_cc"
   ]
  },
  {
   "cell_type": "code",
   "execution_count": 5,
   "metadata": {},
   "outputs": [
    {
     "name": "stdout",
     "output_type": "stream",
     "text": [
      "1802\n",
      "Loaded: 6122\n"
     ]
    }
   ],
   "source": [
    "list_df = []\n",
    "for i in range(len(log_list)):\n",
    "    path = log_list[i]\n",
    "    out_edges = read_log(path)\n",
    "    df_edges = pd.DataFrame(out_edges)\n",
    "    df_edges.columns = [\"date\",\"region\",\"industry\",\"label\",\"type\",\"source\",\"relation\",\"target\"]\n",
    "    df_edges[\"date\"] = pd.to_datetime(df_edges[\"date\"])\n",
    "    list_df.append(df_edges)\n",
    "    \n",
    "df_edges = pd.concat(list_df)\n",
    "print(\"Loaded: \" + str(len(df_edges)))\n",
    "\n",
    "df_edges[\"source\"] = df_edges[\"source\"].astype(str)\n",
    "df_edges[\"target\"] = df_edges[\"target\"].astype(str)"
   ]
  },
  {
   "cell_type": "markdown",
   "metadata": {},
   "source": [
    "Filter edge list"
   ]
  },
  {
   "cell_type": "code",
   "execution_count": 6,
   "metadata": {},
   "outputs": [
    {
     "name": "stdout",
     "output_type": "stream",
     "text": [
      "1802\n",
      "What we loaded: 6122\n",
      "After filter: 6101\n"
     ]
    },
    {
     "name": "stderr",
     "output_type": "stream",
     "text": [
      "/var/folders/xn/9jbxxjcj63b3xbh21qlt_pcr0000gn/T/ipykernel_5551/1238650981.py:16: FutureWarning: DataFrame.applymap has been deprecated. Use DataFrame.map instead.\n",
      "  df_edges = df_edges.applymap(convert_full_width_numeral_to_half_width)\n"
     ]
    }
   ],
   "source": [
    "list_df = []\n",
    "for i in range(len(log_list)):\n",
    "    path = log_list[i]\n",
    "    out_edges = read_log(path)\n",
    "    df_edges = pd.DataFrame(out_edges)\n",
    "    df_edges.columns = [\"date\",\"region\",\"industry\",\"label\",\"type\",\"source\",\"relation\",\"target\"]\n",
    "    df_edges[\"date\"] = pd.to_datetime(df_edges[\"date\"])\n",
    "    list_df.append(df_edges)\n",
    "    \n",
    "df_edges = pd.concat(list_df)\n",
    "print(\"What we loaded: \" + str(len(df_edges)))\n",
    "\n",
    "df_edges[\"source\"] = df_edges[\"source\"].astype(str)\n",
    "df_edges[\"target\"] = df_edges[\"target\"].astype(str)\n",
    "\n",
    "df_edges = df_edges.applymap(convert_full_width_numeral_to_half_width)\n",
    "\n",
    "\n",
    "cond = (df_edges[\"source\"] != \"0\") & (df_edges[\"source\"] != \"1\") & (df_edges[\"source\"] != \"2\") \\\n",
    "   & (df_edges[\"source\"] != \"3\") & (df_edges[\"source\"] != \"4\") & (df_edges[\"source\"] != \"5\") \\\n",
    "   & (df_edges[\"source\"] != \"6\") & (df_edges[\"source\"] != \"7\") & (df_edges[\"source\"] != \"8\") \\\n",
    "   & (df_edges[\"source\"] != \"9\") & (df_edges[\"target\"] != \"0\") & (df_edges[\"target\"] != \"6\") \\\n",
    "   & (df_edges[\"target\"] != \"7\") & (df_edges[\"target\"] != \"8\") & (df_edges[\"target\"] != \"9\") \\\n",
    "   & (df_edges[\"source\"] != \"\") & (df_edges[\"target\"] != \"\") & (df_edges[\"source\"] != df_edges[\"target\"])\n",
    "\n",
    "df_edges = df_edges.loc[cond].copy()\n",
    "\n",
    "modify2new = dict()\n",
    "modify2new.update({\"景気判断1\":\"1\",\"景気判断2\":\"2\",\"景気判断3\":\"3\",\"景気判断4\":\"4\",\"景気判断5\":\"5\"})\n",
    "\n",
    "df_edges[\"source\"] = df_edges[\"source\"].map(modify2new).fillna(df_edges[\"source\"])\n",
    "df_edges[\"target\"] = df_edges[\"target\"].map(modify2new).fillna(df_edges[\"target\"])\n",
    "\n",
    "print(\"After filter: \" + str(len(df_edges)))"
   ]
  },
  {
   "cell_type": "markdown",
   "metadata": {},
   "source": [
    "Basic analysis"
   ]
  },
  {
   "cell_type": "code",
   "execution_count": 7,
   "metadata": {},
   "outputs": [
    {
     "data": {
      "text/plain": [
       "relation\n",
       "cause    5108\n",
       "nin       993\n",
       "Name: count, dtype: int64"
      ]
     },
     "execution_count": 7,
     "metadata": {},
     "output_type": "execute_result"
    }
   ],
   "source": [
    "# Tree numbers as numbers\n",
    "df_edges[\"relation\"].value_counts()"
   ]
  },
  {
   "cell_type": "code",
   "execution_count": 8,
   "metadata": {},
   "outputs": [
    {
     "data": {
      "text/plain": [
       "type\n",
       "now       3342\n",
       "future    2759\n",
       "Name: count, dtype: int64"
      ]
     },
     "execution_count": 8,
     "metadata": {},
     "output_type": "execute_result"
    }
   ],
   "source": [
    "df_edges[\"type\"].value_counts()"
   ]
  },
  {
   "cell_type": "markdown",
   "metadata": {},
   "source": [
    "Plot time series edge"
   ]
  },
  {
   "cell_type": "code",
   "execution_count": 9,
   "metadata": {},
   "outputs": [
    {
     "data": {
      "text/plain": [
       "[<matplotlib.lines.Line2D at 0x12d16e490>]"
      ]
     },
     "execution_count": 9,
     "metadata": {},
     "output_type": "execute_result"
    },
    {
     "data": {
      "image/png": "[encoded data removed]",
      "text/plain": [
       "<Figure size 640x480 with 1 Axes>"
      ]
     },
     "metadata": {},
     "output_type": "display_data"
    }
   ],
   "source": [
    "df_date = pd.DataFrame(df_edges[\"date\"].value_counts())\n",
    "df_date.reset_index(inplace=True)\n",
    "df_date.sort_values(by=\"date\",inplace=True)\n",
    "plt.plot(df_date[\"date\"],df_date[\"count\"])"
   ]
  },
  {
   "cell_type": "markdown",
   "metadata": {},
   "source": [
    "Phrase Embedding"
   ]
  },
  {
   "cell_type": "code",
   "execution_count": 11,
   "metadata": {},
   "outputs": [
    {
     "name": "stdout",
     "output_type": "stream",
     "text": [
      "Collecting transformers\n",
      "  Downloading transformers-4.45.2-py3-none-any.whl.metadata (44 kB)\n",
      "\u001b[2K     \u001b[90m━━━━━━━━━━━━━━━━━━━━━━━━━━━━━━━━━━━━━━━━\u001b[0m \u001b[32m44.4/44.4 kB\u001b[0m \u001b[31m1.5 MB/s\u001b[0m eta \u001b[36m0:00:00\u001b[0m\n",
      "\u001b[?25hRequirement already satisfied: filelock in /Library/Frameworks/Python.framework/Versions/3.11/lib/python3.11/site-packages (from transformers) (3.14.0)\n",
      "Requirement already satisfied: huggingface-hub<1.0,>=0.23.2 in /Library/Frameworks/Python.framework/Versions/3.11/lib/python3.11/site-packages (from transformers) (0.24.6)\n",
      "Requirement already satisfied: numpy>=1.17 in /Library/Frameworks/Python.framework/Versions/3.11/lib/python3.11/site-packages (from transformers) (1.26.3)\n",
      "Requirement already satisfied: packaging>=20.0 in /Library/Frameworks/Python.framework/Versions/3.11/lib/python3.11/site-packages (from transformers) (23.2)\n",
      "Requirement already satisfied: pyyaml>=5.1 in /Library/Frameworks/Python.framework/Versions/3.11/lib/python3.11/site-packages (from transformers) (6.0.1)\n",
      "Requirement already satisfied: regex!=2019.12.17 in /Library/Frameworks/Python.framework/Versions/3.11/lib/python3.11/site-packages (from transformers) (2024.7.24)\n",
      "Requirement already satisfied: requests in /Library/Frameworks/Python.framework/Versions/3.11/lib/python3.11/site-packages (from transformers) (2.31.0)\n",
      "Collecting safetensors>=0.4.1 (from transformers)\n",
      "  Downloading safetensors-0.4.5-cp311-cp311-macosx_10_12_x86_64.whl.metadata (3.8 kB)\n",
      "Collecting tokenizers<0.21,>=0.20 (from transformers)\n",
      "  Downloading tokenizers-0.20.0-cp311-cp311-macosx_10_12_x86_64.whl.metadata (6.7 kB)\n",
      "Requirement already satisfied: tqdm>=4.27 in /Library/Frameworks/Python.framework/Versions/3.11/lib/python3.11/site-packages (from transformers) (4.66.2)\n",
      "Requirement already satisfied: fsspec>=2023.5.0 in /Library/Frameworks/Python.framework/Versions/3.11/lib/python3.11/site-packages (from huggingface-hub<1.0,>=0.23.2->transformers) (2024.3.1)\n",
      "Requirement already satisfied: typing-extensions>=3.7.4.3 in /Users/hachikenkazuki/Library/Python/3.11/lib/python/site-packages (from huggingface-hub<1.0,>=0.23.2->transformers) (4.11.0)\n",
      "Requirement already satisfied: charset-normalizer<4,>=2 in /Library/Frameworks/Python.framework/Versions/3.11/lib/python3.11/site-packages (from requests->transformers) (3.3.2)\n",
      "Requirement already satisfied: idna<4,>=2.5 in /Library/Frameworks/Python.framework/Versions/3.11/lib/python3.11/site-packages (from requests->transformers) (3.7)\n",
      "Requirement already satisfied: urllib3<3,>=1.21.1 in /Library/Frameworks/Python.framework/Versions/3.11/lib/python3.11/site-packages (from requests->transformers) (1.26.18)\n",
      "Requirement already satisfied: certifi>=2017.4.17 in /Library/Frameworks/Python.framework/Versions/3.11/lib/python3.11/site-packages (from requests->transformers) (2024.2.2)\n",
      "Downloading transformers-4.45.2-py3-none-any.whl (9.9 MB)\n",
      "\u001b[2K   \u001b[90m━━━━━━━━━━━━━━━━━━━━━━━━━━━━━━━━━━━━━━━━\u001b[0m \u001b[32m9.9/9.9 MB\u001b[0m \u001b[31m16.6 MB/s\u001b[0m eta \u001b[36m0:00:00\u001b[0m00:01\u001b[0m00:01\u001b[0m\n",
      "\u001b[?25hDownloading safetensors-0.4.5-cp311-cp311-macosx_10_12_x86_64.whl (392 kB)\n",
      "\u001b[2K   \u001b[90m━━━━━━━━━━━━━━━━━━━━━━━━━━━━━━━━━━━━━━━━\u001b[0m \u001b[32m392.3/392.3 kB\u001b[0m \u001b[31m6.2 MB/s\u001b[0m eta \u001b[36m0:00:00\u001b[0m:00:01\u001b[0m\n",
      "\u001b[?25hDownloading tokenizers-0.20.0-cp311-cp311-macosx_10_12_x86_64.whl (2.6 MB)\n",
      "\u001b[2K   \u001b[90m━━━━━━━━━━━━━━━━━━━━━━━━━━━━━━━━━━━━━━━━\u001b[0m \u001b[32m2.6/2.6 MB\u001b[0m \u001b[31m18.5 MB/s\u001b[0m eta \u001b[36m0:00:00\u001b[0m00:01\u001b[0m00:01\u001b[0m\n",
      "\u001b[?25hInstalling collected packages: safetensors, tokenizers, transformers\n",
      "Successfully installed safetensors-0.4.5 tokenizers-0.20.0 transformers-4.45.2\n",
      "\n",
      "\u001b[1m[\u001b[0m\u001b[34;49mnotice\u001b[0m\u001b[1;39;49m]\u001b[0m\u001b[39;49m A new release of pip is available: \u001b[0m\u001b[31;49m24.0\u001b[0m\u001b[39;49m -> \u001b[0m\u001b[32;49m24.2\u001b[0m\n",
      "\u001b[1m[\u001b[0m\u001b[34;49mnotice\u001b[0m\u001b[1;39;49m]\u001b[0m\u001b[39;49m To update, run: \u001b[0m\u001b[32;49mpip install --upgrade pip\u001b[0m\n",
      "Note: you may need to restart the kernel to use updated packages.\n"
     ]
    }
   ],
   "source": [
    "pip install transformers"
   ]
  },
  {
   "cell_type": "code",
   "execution_count": 12,
   "metadata": {},
   "outputs": [
    {
     "name": "stderr",
     "output_type": "stream",
     "text": [
      "/Library/Frameworks/Python.framework/Versions/3.11/lib/python3.11/site-packages/tqdm/auto.py:21: TqdmWarning: IProgress not found. Please update jupyter and ipywidgets. See https://ipywidgets.readthedocs.io/en/stable/user_install.html\n",
      "  from .autonotebook import tqdm as notebook_tqdm\n"
     ]
    }
   ],
   "source": [
    "# THIS MODEL MIGHT NOT BE SUITABLE FOR PYTHON 3.10 and LATER\n",
    "if model_embed == \"use\":\n",
    "    \n",
    "    import tensorflow\n",
    "    import tensorflow_hub as hub\n",
    "    import tensorflow_text\n",
    "    embed = hub.load(\"https://tfhub.dev/google/universal-sentence-encoder-multilingual-large/3\")\n",
    "    \n",
    "else:\n",
    "    \n",
    "    from transformers import BertModel, BertTokenizer\n",
    "    import torch\n",
    "\n",
    "    def load_model_and_tokenizer():\n",
    "        # Load tokenizer and model from Hugging Face Hub\n",
    "        tokenizer = BertTokenizer.from_pretrained('bert-base-multilingual-cased')\n",
    "        model = BertModel.from_pretrained('bert-base-multilingual-cased')\n",
    "        return tokenizer, model\n",
    "\n",
    "    def get_embeddings(texts, tokenizer, model):\n",
    "        # Tokenize input texts and prepare input tensors\n",
    "        encoded_input = tokenizer(texts, return_tensors='pt', padding=True, truncation=True, max_length=128)\n",
    "        # Move tensors to the same device as the model\n",
    "        input_ids = encoded_input['input_ids']\n",
    "\n",
    "        with torch.no_grad():  # Do not compute gradients\n",
    "            # Forward pass, get hidden states\n",
    "            output = model(input_ids)\n",
    "            # We take the embeddings from the last hidden state\n",
    "            embeddings = output.last_hidden_state[:, 0, :]\n",
    "        return embeddings\n",
    "\n",
    "    tokenizer, model = load_model_and_tokenizer()\n",
    "    # Get embeddings"
   ]
  },
  {
   "cell_type": "markdown",
   "metadata": {},
   "source": [
    "Create Node List"
   ]
  },
  {
   "cell_type": "code",
   "execution_count": 13,
   "metadata": {},
   "outputs": [],
   "source": [
    "nodes = list(set(df_edges[\"source\"]))\n",
    "nodes.extend(list(set(df_edges[\"target\"])))\n",
    "nodes = list(set(nodes))"
   ]
  },
  {
   "cell_type": "code",
   "execution_count": 14,
   "metadata": {},
   "outputs": [
    {
     "name": "stderr",
     "output_type": "stream",
     "text": [
      "We strongly recommend passing in an `attention_mask` since your input_ids may be padded. See https://huggingface.co/docs/transformers/troubleshooting#incorrect-output-when-padding-tokens-arent-masked.\n"
     ]
    }
   ],
   "source": [
    "if model_embed == \"use\":\n",
    "    # USE\n",
    "    #num_bunkatsu = 1000\n",
    "    #list_nodes = []\n",
    "    #for i in range(int( len(nodes) / num_bunkatsu) + 1):\n",
    "    #    start = i*num_bunkatsu\n",
    "    #    owari = (i+1)*num_bunkatsu\n",
    "    #    #print(start,owari)\n",
    "    #    list_nodes.append(embed(nodes[start:owari]))\n",
    "    #nodes_emb = np.concatenate(list_nodes)    \n",
    "    start = 0\n",
    "    owari = 1000\n",
    "    nodes_emb = embed(nodes[start:owari])\n",
    "\n",
    "else:\n",
    "    # BERT\n",
    "    #nodes_emb = get_embeddings(nodes, tokenizer, model)\n",
    "    start = 0\n",
    "    owari = 1000\n",
    "    nodes_emb = get_embeddings(nodes[start:owari], tokenizer, model)    "
   ]
  },
  {
   "cell_type": "markdown",
   "metadata": {},
   "source": [
    "DBSCAN"
   ]
  },
  {
   "cell_type": "code",
   "execution_count": 15,
   "metadata": {},
   "outputs": [
    {
     "name": "stdout",
     "output_type": "stream",
     "text": [
      "CPU times: user 283 ms, sys: 97.9 ms, total: 381 ms\n",
      "Wall time: 243 ms\n"
     ]
    },
    {
     "name": "stderr",
     "output_type": "stream",
     "text": [
      "/Library/Frameworks/Python.framework/Versions/3.11/lib/python3.11/site-packages/threadpoolctl.py:1223: RuntimeWarning: \n",
      "Found Intel OpenMP ('libiomp') and LLVM OpenMP ('libomp') loaded at\n",
      "the same time. Both libraries are known to be incompatible and this\n",
      "can cause random crashes or deadlocks on Linux when loaded in the\n",
      "same Python program.\n",
      "Using threadpoolctl may cause crashes or deadlocks. For more\n",
      "information and possible workarounds, please see\n",
      "    https://github.com/joblib/threadpoolctl/blob/master/multiple_openmp.md\n",
      "\n",
      "  warnings.warn(msg, RuntimeWarning)\n"
     ]
    }
   ],
   "source": [
    "%%time\n",
    "## Hyper parameters\n",
    "if model_embed == \"use\":\n",
    "    eps = 0.45\n",
    "    min_samples= 2\n",
    "else:\n",
    "    eps = 3.5\n",
    "    min_samples= 2\n",
    "    \n",
    "clustering = DBSCAN(eps=eps, min_samples=min_samples).fit(nodes_emb) # debug"
   ]
  },
  {
   "cell_type": "code",
   "execution_count": 16,
   "metadata": {},
   "outputs": [],
   "source": [
    "# Restrict to clusters that are not treated as outliers (-1)\n",
    "df_nodes = pd.DataFrame({\"node\":nodes[start:owari],\"label\":clustering.labels_})\n",
    "# Find representative node name\n",
    "df_nodes.sort_values(by=\"label\",ascending=True,inplace=True)"
   ]
  },
  {
   "cell_type": "code",
   "execution_count": 17,
   "metadata": {},
   "outputs": [
    {
     "data": {
      "text/plain": [
       "{-1, 0, 1, 2, 3, 4, 5, 6, 7, 8, 9, 10, 11, 12, 13, 14, 15, 16}"
      ]
     },
     "execution_count": 17,
     "metadata": {},
     "output_type": "execute_result"
    }
   ],
   "source": [
    "set(df_nodes[\"label\"])"
   ]
  },
  {
   "cell_type": "code",
   "execution_count": 18,
   "metadata": {},
   "outputs": [
    {
     "data": {
      "text/html": [
       "<div>\n",
       "<style scoped>\n",
       "    .dataframe tbody tr th:only-of-type {\n",
       "        vertical-align: middle;\n",
       "    }\n",
       "\n",
       "    .dataframe tbody tr th {\n",
       "        vertical-align: top;\n",
       "    }\n",
       "\n",
       "    .dataframe thead th {\n",
       "        text-align: right;\n",
       "    }\n",
       "</style>\n",
       "<table border=\"1\" class=\"dataframe\">\n",
       "  <thead>\n",
       "    <tr style=\"text-align: right;\">\n",
       "      <th></th>\n",
       "      <th>node</th>\n",
       "      <th>label</th>\n",
       "    </tr>\n",
       "  </thead>\n",
       "  <tbody>\n",
       "    <tr>\n",
       "      <th>76</th>\n",
       "      <td>新築物件の注文減少</td>\n",
       "      <td>4</td>\n",
       "    </tr>\n",
       "    <tr>\n",
       "      <th>935</th>\n",
       "      <td>新築の件数大幅減少</td>\n",
       "      <td>4</td>\n",
       "    </tr>\n",
       "  </tbody>\n",
       "</table>\n",
       "</div>"
      ],
      "text/plain": [
       "          node  label\n",
       "76   新築物件の注文減少      4\n",
       "935  新築の件数大幅減少      4"
      ]
     },
     "execution_count": 18,
     "metadata": {},
     "output_type": "execute_result"
    }
   ],
   "source": [
    "cond = df_nodes[\"label\"] == 4\n",
    "df_tmp = df_nodes.loc[cond].copy()\n",
    "df_tmp"
   ]
  },
  {
   "cell_type": "code",
   "execution_count": null,
   "metadata": {},
   "outputs": [],
   "source": []
  }
 ],
 "metadata": {
  "kernelspec": {
   "display_name": "Python 3",
   "language": "python",
   "name": "python3"
  },
  "language_info": {
   "codemirror_mode": {
    "name": "ipython",
    "version": 3
   },
   "file_extension": ".py",
   "mimetype": "text/x-python",
   "name": "python",
   "nbconvert_exporter": "python",
   "pygments_lexer": "ipython3",
   "version": "3.11.1"
  }
 },
 "nbformat": 4,
 "nbformat_minor": 2
}
